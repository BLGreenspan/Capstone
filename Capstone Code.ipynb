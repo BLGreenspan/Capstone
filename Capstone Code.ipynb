{
 "cells": [
  {
   "cell_type": "markdown",
   "metadata": {},
   "source": [
    "# Problem Statement\n",
    "\n",
    "[An article in the Dallas Observer](https://www.dallasobserver.com/restaurants/dallas-restaurant-inspections-suffer-from-delays-poor-record-keeping-and-overworked-staff-10697588) unearthed a massive problem in the city's ability to follow up on restaurants requiring reinspection due to a low grade upon original inspection.  Dallas states that out of a scale from 1-100, any facility that scores between 70-79 requires reinspection within 30 days, between 60-69 requires reinspection within 10 days, and below 60 requires reinspection ASAP.\n",
    "\n",
    "The article points out many flaws in the city's ability to reinspect restaurants within its own self-imposed timeframes,.  Until the department can hopefully become better-staffed, I am looking to build a classification model that can predict how a restaurant will perform upon reinspection.  This way, if the city is still struggling to reinspect restaurants in a timely manner, they can refer to the model in order to prioritize certain facilities to reinspect.\n",
    "\n"
   ]
  },
  {
   "cell_type": "code",
   "execution_count": 1,
   "metadata": {
    "scrolled": true
   },
   "outputs": [
    {
     "name": "stderr",
     "output_type": "stream",
     "text": [
      "/Users/brandongreenspan/opt/anaconda3/envs/dsi/lib/python3.7/site-packages/sklearn/utils/deprecation.py:144: FutureWarning: The sklearn.feature_extraction.stop_words module is  deprecated in version 0.22 and will be removed in version 0.24. The corresponding classes / functions should instead be imported from sklearn.feature_extraction.text. Anything that cannot be imported from sklearn.feature_extraction.text is now part of the private API.\n",
      "  warnings.warn(message, FutureWarning)\n"
     ]
    }
   ],
   "source": [
    "import pandas as pd\n",
    "import numpy as np\n",
    "import seaborn as sns\n",
    "import matplotlib.pyplot as plt\n",
    "import re\n",
    "\n",
    "from sklearn.model_selection import train_test_split, GridSearchCV, cross_val_score\n",
    "from sklearn.naive_bayes import MultinomialNB, GaussianNB\n",
    "from sklearn.neighbors import KNeighborsClassifier\n",
    "from sklearn.pipeline import Pipeline\n",
    "from sklearn.linear_model import LogisticRegression\n",
    "from sklearn.svm import LinearSVC, SVC\n",
    "from sklearn.feature_extraction.text import CountVectorizer, TfidfVectorizer, TfidfTransformer\n",
    "from sklearn.feature_extraction.stop_words import ENGLISH_STOP_WORDS as stopwords\n",
    "from sklearn.metrics import accuracy_score, confusion_matrix, plot_confusion_matrix\n",
    "from sklearn.base import TransformerMixin\n",
    "from sklearn.preprocessing import StandardScaler\n",
    "\n",
    "from tensorflow.keras.models import Sequential\n",
    "from tensorflow.keras.layers import Dense, Dropout, Flatten, Conv2D, MaxPooling2D\n",
    "from tensorflow.keras.utils import to_categorical\n",
    "from tensorflow.keras.datasets import mnist\n",
    "\n",
    "\n",
    "%matplotlib inline"
   ]
  },
  {
   "cell_type": "markdown",
   "metadata": {},
   "source": [
    "# Data Collection"
   ]
  },
  {
   "cell_type": "code",
   "execution_count": 2,
   "metadata": {},
   "outputs": [
    {
     "name": "stderr",
     "output_type": "stream",
     "text": [
      "/Users/brandongreenspan/opt/anaconda3/envs/dsi/lib/python3.7/site-packages/IPython/core/interactiveshell.py:3063: DtypeWarning: Columns (10,97,103,105,106,107,109,110) have mixed types.Specify dtype option on import or set low_memory=False.\n",
      "  interactivity=interactivity, compiler=compiler, result=result)\n"
     ]
    }
   ],
   "source": [
    "df = pd.read_csv('./data/Restaurant_and_Food_Establishment_Inspections__October_2016_to_Present_.csv')"
   ]
  },
  {
   "cell_type": "code",
   "execution_count": 3,
   "metadata": {},
   "outputs": [
    {
     "data": {
      "text/html": [
       "<div>\n",
       "<style scoped>\n",
       "    .dataframe tbody tr th:only-of-type {\n",
       "        vertical-align: middle;\n",
       "    }\n",
       "\n",
       "    .dataframe tbody tr th {\n",
       "        vertical-align: top;\n",
       "    }\n",
       "\n",
       "    .dataframe thead th {\n",
       "        text-align: right;\n",
       "    }\n",
       "</style>\n",
       "<table border=\"1\" class=\"dataframe\">\n",
       "  <thead>\n",
       "    <tr style=\"text-align: right;\">\n",
       "      <th></th>\n",
       "      <th>Restaurant Name</th>\n",
       "      <th>Inspection Type</th>\n",
       "      <th>Inspection Date</th>\n",
       "      <th>Inspection Score</th>\n",
       "      <th>Street Number</th>\n",
       "      <th>Street Name</th>\n",
       "      <th>Street Direction</th>\n",
       "      <th>Street Type</th>\n",
       "      <th>Street Unit</th>\n",
       "      <th>Street Address</th>\n",
       "      <th>...</th>\n",
       "      <th>Violation Points - 24</th>\n",
       "      <th>Violation Detail - 24</th>\n",
       "      <th>Violation Memo - 24</th>\n",
       "      <th>Violation Description - 25</th>\n",
       "      <th>Violation Points - 25</th>\n",
       "      <th>Violation Detail - 25</th>\n",
       "      <th>Violation Memo - 25</th>\n",
       "      <th>Inspection Month</th>\n",
       "      <th>Inspection Year</th>\n",
       "      <th>Lat Long Location</th>\n",
       "    </tr>\n",
       "  </thead>\n",
       "  <tbody>\n",
       "    <tr>\n",
       "      <th>0</th>\n",
       "      <td>FRESHII</td>\n",
       "      <td>Routine</td>\n",
       "      <td>10/31/2018</td>\n",
       "      <td>96</td>\n",
       "      <td>2414</td>\n",
       "      <td>VICTORY PARK</td>\n",
       "      <td>NaN</td>\n",
       "      <td>LN</td>\n",
       "      <td>NaN</td>\n",
       "      <td>2414 VICTORY PARK LN</td>\n",
       "      <td>...</td>\n",
       "      <td>NaN</td>\n",
       "      <td>NaN</td>\n",
       "      <td>NaN</td>\n",
       "      <td>NaN</td>\n",
       "      <td>NaN</td>\n",
       "      <td>NaN</td>\n",
       "      <td>NaN</td>\n",
       "      <td>Oct 2018</td>\n",
       "      <td>FY2019</td>\n",
       "      <td>2414 VICTORY PARK LN\\n(32.787625, -96.809294)</td>\n",
       "    </tr>\n",
       "    <tr>\n",
       "      <th>1</th>\n",
       "      <td>MICKLE CHICKEN</td>\n",
       "      <td>Routine</td>\n",
       "      <td>10/30/2019</td>\n",
       "      <td>100</td>\n",
       "      <td>3203</td>\n",
       "      <td>CAMP WISDOM</td>\n",
       "      <td>W</td>\n",
       "      <td>RD</td>\n",
       "      <td>NaN</td>\n",
       "      <td>3203 W CAMP WISDOM RD</td>\n",
       "      <td>...</td>\n",
       "      <td>NaN</td>\n",
       "      <td>NaN</td>\n",
       "      <td>NaN</td>\n",
       "      <td>NaN</td>\n",
       "      <td>NaN</td>\n",
       "      <td>NaN</td>\n",
       "      <td>NaN</td>\n",
       "      <td>Oct 2019</td>\n",
       "      <td>FY2020</td>\n",
       "      <td>3203 W CAMP WISDOM RD\\n(32.662584, -96.873446)</td>\n",
       "    </tr>\n",
       "    <tr>\n",
       "      <th>2</th>\n",
       "      <td>WORLD TRADE CENTER MARKET</td>\n",
       "      <td>Routine</td>\n",
       "      <td>11/03/2016</td>\n",
       "      <td>100</td>\n",
       "      <td>2050</td>\n",
       "      <td>STEMMONS</td>\n",
       "      <td>N</td>\n",
       "      <td>FRWY</td>\n",
       "      <td>NaN</td>\n",
       "      <td>2050 N STEMMONS FRWY</td>\n",
       "      <td>...</td>\n",
       "      <td>NaN</td>\n",
       "      <td>NaN</td>\n",
       "      <td>NaN</td>\n",
       "      <td>NaN</td>\n",
       "      <td>NaN</td>\n",
       "      <td>NaN</td>\n",
       "      <td>NaN</td>\n",
       "      <td>Nov 2016</td>\n",
       "      <td>FY2017</td>\n",
       "      <td>2050 N STEMMONS FRWY\\n(32.801934, -96.825878)</td>\n",
       "    </tr>\n",
       "    <tr>\n",
       "      <th>3</th>\n",
       "      <td>DUNKIN DONUTS</td>\n",
       "      <td>Routine</td>\n",
       "      <td>10/30/2019</td>\n",
       "      <td>99</td>\n",
       "      <td>8008</td>\n",
       "      <td>HERB KELLEHER</td>\n",
       "      <td>NaN</td>\n",
       "      <td>WAY</td>\n",
       "      <td>C2174</td>\n",
       "      <td>8008 HERB KELLEHER WAY STE# C2174</td>\n",
       "      <td>...</td>\n",
       "      <td>NaN</td>\n",
       "      <td>NaN</td>\n",
       "      <td>NaN</td>\n",
       "      <td>NaN</td>\n",
       "      <td>NaN</td>\n",
       "      <td>NaN</td>\n",
       "      <td>NaN</td>\n",
       "      <td>Oct 2019</td>\n",
       "      <td>FY2020</td>\n",
       "      <td>8008 HERB KELLEHER WAY STE# C2174</td>\n",
       "    </tr>\n",
       "    <tr>\n",
       "      <th>4</th>\n",
       "      <td>CANVAS HOTEL - 6TH FLOOR</td>\n",
       "      <td>Routine</td>\n",
       "      <td>06/11/2018</td>\n",
       "      <td>100</td>\n",
       "      <td>1325</td>\n",
       "      <td>LAMAR</td>\n",
       "      <td>S</td>\n",
       "      <td>ST</td>\n",
       "      <td>NaN</td>\n",
       "      <td>1325 S LAMAR ST</td>\n",
       "      <td>...</td>\n",
       "      <td>NaN</td>\n",
       "      <td>NaN</td>\n",
       "      <td>NaN</td>\n",
       "      <td>NaN</td>\n",
       "      <td>NaN</td>\n",
       "      <td>NaN</td>\n",
       "      <td>NaN</td>\n",
       "      <td>Jun 2018</td>\n",
       "      <td>FY2018</td>\n",
       "      <td>1325 S LAMAR ST\\n(39.69335, -105.067425)</td>\n",
       "    </tr>\n",
       "  </tbody>\n",
       "</table>\n",
       "<p>5 rows × 114 columns</p>\n",
       "</div>"
      ],
      "text/plain": [
       "             Restaurant Name Inspection Type Inspection Date  \\\n",
       "0                    FRESHII         Routine      10/31/2018   \n",
       "1             MICKLE CHICKEN         Routine      10/30/2019   \n",
       "2  WORLD TRADE CENTER MARKET         Routine      11/03/2016   \n",
       "3              DUNKIN DONUTS         Routine      10/30/2019   \n",
       "4   CANVAS HOTEL - 6TH FLOOR         Routine      06/11/2018   \n",
       "\n",
       "   Inspection Score  Street Number    Street Name Street Direction  \\\n",
       "0                96           2414   VICTORY PARK              NaN   \n",
       "1               100           3203    CAMP WISDOM                W   \n",
       "2               100           2050       STEMMONS                N   \n",
       "3                99           8008  HERB KELLEHER              NaN   \n",
       "4               100           1325          LAMAR                S   \n",
       "\n",
       "  Street Type Street Unit                     Street Address  ...  \\\n",
       "0          LN         NaN               2414 VICTORY PARK LN  ...   \n",
       "1          RD         NaN              3203 W CAMP WISDOM RD  ...   \n",
       "2        FRWY         NaN               2050 N STEMMONS FRWY  ...   \n",
       "3         WAY       C2174  8008 HERB KELLEHER WAY STE# C2174  ...   \n",
       "4          ST         NaN                    1325 S LAMAR ST  ...   \n",
       "\n",
       "  Violation Points - 24 Violation Detail - 24  Violation Memo - 24  \\\n",
       "0                   NaN                   NaN                  NaN   \n",
       "1                   NaN                   NaN                  NaN   \n",
       "2                   NaN                   NaN                  NaN   \n",
       "3                   NaN                   NaN                  NaN   \n",
       "4                   NaN                   NaN                  NaN   \n",
       "\n",
       "  Violation Description - 25 Violation Points - 25 Violation Detail - 25  \\\n",
       "0                        NaN                   NaN                   NaN   \n",
       "1                        NaN                   NaN                   NaN   \n",
       "2                        NaN                   NaN                   NaN   \n",
       "3                        NaN                   NaN                   NaN   \n",
       "4                        NaN                   NaN                   NaN   \n",
       "\n",
       "   Violation Memo - 25 Inspection Month Inspection Year  \\\n",
       "0                  NaN         Oct 2018          FY2019   \n",
       "1                  NaN         Oct 2019          FY2020   \n",
       "2                  NaN         Nov 2016          FY2017   \n",
       "3                  NaN         Oct 2019          FY2020   \n",
       "4                  NaN         Jun 2018          FY2018   \n",
       "\n",
       "                                Lat Long Location  \n",
       "0   2414 VICTORY PARK LN\\n(32.787625, -96.809294)  \n",
       "1  3203 W CAMP WISDOM RD\\n(32.662584, -96.873446)  \n",
       "2   2050 N STEMMONS FRWY\\n(32.801934, -96.825878)  \n",
       "3               8008 HERB KELLEHER WAY STE# C2174  \n",
       "4        1325 S LAMAR ST\\n(39.69335, -105.067425)  \n",
       "\n",
       "[5 rows x 114 columns]"
      ]
     },
     "execution_count": 3,
     "metadata": {},
     "output_type": "execute_result"
    }
   ],
   "source": [
    "df.head()"
   ]
  },
  {
   "cell_type": "markdown",
   "metadata": {},
   "source": [
    "# Data Cleaning"
   ]
  },
  {
   "cell_type": "code",
   "execution_count": 4,
   "metadata": {
    "scrolled": true
   },
   "outputs": [
    {
     "data": {
      "text/plain": [
       "(44656, 114)"
      ]
     },
     "execution_count": 4,
     "metadata": {},
     "output_type": "execute_result"
    }
   ],
   "source": [
    "df.shape"
   ]
  },
  {
   "cell_type": "code",
   "execution_count": 5,
   "metadata": {
    "scrolled": true
   },
   "outputs": [
    {
     "data": {
      "text/plain": [
       "Street Number        0\n",
       "Inspection Score     0\n",
       "Inspection Date      0\n",
       "Inspection Type      0\n",
       "Lat Long Location    0\n",
       "dtype: int64"
      ]
     },
     "execution_count": 5,
     "metadata": {},
     "output_type": "execute_result"
    }
   ],
   "source": [
    "df.isnull().sum().sort_values(ascending = False).tail()"
   ]
  },
  {
   "cell_type": "code",
   "execution_count": 6,
   "metadata": {
    "scrolled": true
   },
   "outputs": [
    {
     "data": {
      "text/html": [
       "<div>\n",
       "<style scoped>\n",
       "    .dataframe tbody tr th:only-of-type {\n",
       "        vertical-align: middle;\n",
       "    }\n",
       "\n",
       "    .dataframe tbody tr th {\n",
       "        vertical-align: top;\n",
       "    }\n",
       "\n",
       "    .dataframe thead th {\n",
       "        text-align: right;\n",
       "    }\n",
       "</style>\n",
       "<table border=\"1\" class=\"dataframe\">\n",
       "  <thead>\n",
       "    <tr style=\"text-align: right;\">\n",
       "      <th></th>\n",
       "      <th>Restaurant Name</th>\n",
       "      <th>Inspection Type</th>\n",
       "      <th>Inspection Date</th>\n",
       "      <th>Inspection Score</th>\n",
       "      <th>Street Number</th>\n",
       "      <th>Street Name</th>\n",
       "      <th>Street Direction</th>\n",
       "      <th>Street Type</th>\n",
       "      <th>Street Unit</th>\n",
       "      <th>Street Address</th>\n",
       "      <th>...</th>\n",
       "      <th>Violation Points - 24</th>\n",
       "      <th>Violation Detail - 24</th>\n",
       "      <th>Violation Memo - 24</th>\n",
       "      <th>Violation Description - 25</th>\n",
       "      <th>Violation Points - 25</th>\n",
       "      <th>Violation Detail - 25</th>\n",
       "      <th>Violation Memo - 25</th>\n",
       "      <th>Inspection Month</th>\n",
       "      <th>Inspection Year</th>\n",
       "      <th>Lat Long Location</th>\n",
       "    </tr>\n",
       "  </thead>\n",
       "  <tbody>\n",
       "    <tr>\n",
       "      <th>20592</th>\n",
       "      <td>NaN</td>\n",
       "      <td>Routine</td>\n",
       "      <td>02/21/2018</td>\n",
       "      <td>86</td>\n",
       "      <td>4243</td>\n",
       "      <td>WESTMORELAND</td>\n",
       "      <td>S</td>\n",
       "      <td>RD</td>\n",
       "      <td>NaN</td>\n",
       "      <td>4243 S WESTMORELAND RD</td>\n",
       "      <td>...</td>\n",
       "      <td>NaN</td>\n",
       "      <td>NaN</td>\n",
       "      <td>NaN</td>\n",
       "      <td>NaN</td>\n",
       "      <td>NaN</td>\n",
       "      <td>NaN</td>\n",
       "      <td>NaN</td>\n",
       "      <td>Feb 2018</td>\n",
       "      <td>FY2018</td>\n",
       "      <td>4243 S WESTMORELAND RD\\n(32.691613, -96.880689)</td>\n",
       "    </tr>\n",
       "    <tr>\n",
       "      <th>21643</th>\n",
       "      <td>NaN</td>\n",
       "      <td>Routine</td>\n",
       "      <td>08/28/2017</td>\n",
       "      <td>87</td>\n",
       "      <td>4243</td>\n",
       "      <td>WESTMORELAND</td>\n",
       "      <td>S</td>\n",
       "      <td>RD</td>\n",
       "      <td>NaN</td>\n",
       "      <td>4243 S WESTMORELAND RD</td>\n",
       "      <td>...</td>\n",
       "      <td>NaN</td>\n",
       "      <td>NaN</td>\n",
       "      <td>NaN</td>\n",
       "      <td>NaN</td>\n",
       "      <td>NaN</td>\n",
       "      <td>NaN</td>\n",
       "      <td>NaN</td>\n",
       "      <td>Aug 2017</td>\n",
       "      <td>FY2017</td>\n",
       "      <td>4243 S WESTMORELAND RD\\n(32.691613, -96.880689)</td>\n",
       "    </tr>\n",
       "    <tr>\n",
       "      <th>24064</th>\n",
       "      <td>NaN</td>\n",
       "      <td>Routine</td>\n",
       "      <td>07/28/2017</td>\n",
       "      <td>87</td>\n",
       "      <td>6449</td>\n",
       "      <td>GREENVILLE</td>\n",
       "      <td>NaN</td>\n",
       "      <td>AVE</td>\n",
       "      <td>NaN</td>\n",
       "      <td>6449 GREENVILLE AVE</td>\n",
       "      <td>...</td>\n",
       "      <td>NaN</td>\n",
       "      <td>NaN</td>\n",
       "      <td>NaN</td>\n",
       "      <td>NaN</td>\n",
       "      <td>NaN</td>\n",
       "      <td>NaN</td>\n",
       "      <td>NaN</td>\n",
       "      <td>Jul 2017</td>\n",
       "      <td>FY2017</td>\n",
       "      <td>6449 GREENVILLE AVE\\n(32.863098, -96.767426)</td>\n",
       "    </tr>\n",
       "    <tr>\n",
       "      <th>24612</th>\n",
       "      <td>NaN</td>\n",
       "      <td>Routine</td>\n",
       "      <td>08/06/2018</td>\n",
       "      <td>91</td>\n",
       "      <td>4243</td>\n",
       "      <td>WESTMORELAND</td>\n",
       "      <td>S</td>\n",
       "      <td>RD</td>\n",
       "      <td>NaN</td>\n",
       "      <td>4243 S WESTMORELAND RD</td>\n",
       "      <td>...</td>\n",
       "      <td>NaN</td>\n",
       "      <td>NaN</td>\n",
       "      <td>NaN</td>\n",
       "      <td>NaN</td>\n",
       "      <td>NaN</td>\n",
       "      <td>NaN</td>\n",
       "      <td>NaN</td>\n",
       "      <td>Aug 2018</td>\n",
       "      <td>FY2018</td>\n",
       "      <td>4243 S WESTMORELAND RD\\n(32.691613, -96.880689)</td>\n",
       "    </tr>\n",
       "    <tr>\n",
       "      <th>26713</th>\n",
       "      <td>NaN</td>\n",
       "      <td>Routine</td>\n",
       "      <td>02/02/2017</td>\n",
       "      <td>88</td>\n",
       "      <td>4243</td>\n",
       "      <td>WESTMORELAND</td>\n",
       "      <td>S</td>\n",
       "      <td>RD</td>\n",
       "      <td>NaN</td>\n",
       "      <td>4243 S WESTMORELAND RD</td>\n",
       "      <td>...</td>\n",
       "      <td>NaN</td>\n",
       "      <td>NaN</td>\n",
       "      <td>NaN</td>\n",
       "      <td>NaN</td>\n",
       "      <td>NaN</td>\n",
       "      <td>NaN</td>\n",
       "      <td>NaN</td>\n",
       "      <td>Feb 2017</td>\n",
       "      <td>FY2017</td>\n",
       "      <td>4243 S WESTMORELAND RD\\n(32.691613, -96.880689)</td>\n",
       "    </tr>\n",
       "    <tr>\n",
       "      <th>33050</th>\n",
       "      <td>NaN</td>\n",
       "      <td>Routine</td>\n",
       "      <td>11/27/2017</td>\n",
       "      <td>80</td>\n",
       "      <td>8686</td>\n",
       "      <td>FERGUSON</td>\n",
       "      <td>NaN</td>\n",
       "      <td>RD</td>\n",
       "      <td>#210</td>\n",
       "      <td>8686 FERGUSON RD #210</td>\n",
       "      <td>...</td>\n",
       "      <td>NaN</td>\n",
       "      <td>NaN</td>\n",
       "      <td>NaN</td>\n",
       "      <td>NaN</td>\n",
       "      <td>NaN</td>\n",
       "      <td>NaN</td>\n",
       "      <td>NaN</td>\n",
       "      <td>Nov 2017</td>\n",
       "      <td>FY2018</td>\n",
       "      <td>8686 FERGUSON RD #210\\n(32.812751, -96.698799)</td>\n",
       "    </tr>\n",
       "    <tr>\n",
       "      <th>34370</th>\n",
       "      <td>NaN</td>\n",
       "      <td>Routine</td>\n",
       "      <td>06/13/2018</td>\n",
       "      <td>87</td>\n",
       "      <td>6449</td>\n",
       "      <td>GREENVILLE</td>\n",
       "      <td>NaN</td>\n",
       "      <td>AVE</td>\n",
       "      <td>NaN</td>\n",
       "      <td>6449 GREENVILLE AVE</td>\n",
       "      <td>...</td>\n",
       "      <td>NaN</td>\n",
       "      <td>NaN</td>\n",
       "      <td>NaN</td>\n",
       "      <td>NaN</td>\n",
       "      <td>NaN</td>\n",
       "      <td>NaN</td>\n",
       "      <td>NaN</td>\n",
       "      <td>Jun 2018</td>\n",
       "      <td>FY2018</td>\n",
       "      <td>6449 GREENVILLE AVE\\n(32.863098, -96.767426)</td>\n",
       "    </tr>\n",
       "    <tr>\n",
       "      <th>39616</th>\n",
       "      <td>NaN</td>\n",
       "      <td>Routine</td>\n",
       "      <td>05/22/2018</td>\n",
       "      <td>92</td>\n",
       "      <td>8686</td>\n",
       "      <td>FERGUSON</td>\n",
       "      <td>NaN</td>\n",
       "      <td>RD</td>\n",
       "      <td>#210</td>\n",
       "      <td>8686 FERGUSON RD #210</td>\n",
       "      <td>...</td>\n",
       "      <td>NaN</td>\n",
       "      <td>NaN</td>\n",
       "      <td>NaN</td>\n",
       "      <td>NaN</td>\n",
       "      <td>NaN</td>\n",
       "      <td>NaN</td>\n",
       "      <td>NaN</td>\n",
       "      <td>May 2018</td>\n",
       "      <td>FY2018</td>\n",
       "      <td>8686 FERGUSON RD #210\\n(32.812751, -96.698799)</td>\n",
       "    </tr>\n",
       "    <tr>\n",
       "      <th>43261</th>\n",
       "      <td>NaN</td>\n",
       "      <td>Routine</td>\n",
       "      <td>05/31/2017</td>\n",
       "      <td>91</td>\n",
       "      <td>8686</td>\n",
       "      <td>FERGUSON</td>\n",
       "      <td>NaN</td>\n",
       "      <td>RD</td>\n",
       "      <td>#210</td>\n",
       "      <td>8686 FERGUSON RD #210</td>\n",
       "      <td>...</td>\n",
       "      <td>NaN</td>\n",
       "      <td>NaN</td>\n",
       "      <td>NaN</td>\n",
       "      <td>NaN</td>\n",
       "      <td>NaN</td>\n",
       "      <td>NaN</td>\n",
       "      <td>NaN</td>\n",
       "      <td>May 2017</td>\n",
       "      <td>FY2017</td>\n",
       "      <td>8686 FERGUSON RD #210\\n(32.812751, -96.698799)</td>\n",
       "    </tr>\n",
       "    <tr>\n",
       "      <th>43934</th>\n",
       "      <td>NaN</td>\n",
       "      <td>Routine</td>\n",
       "      <td>01/03/2018</td>\n",
       "      <td>84</td>\n",
       "      <td>6449</td>\n",
       "      <td>GREENVILLE</td>\n",
       "      <td>NaN</td>\n",
       "      <td>AVE</td>\n",
       "      <td>NaN</td>\n",
       "      <td>6449 GREENVILLE AVE</td>\n",
       "      <td>...</td>\n",
       "      <td>NaN</td>\n",
       "      <td>NaN</td>\n",
       "      <td>NaN</td>\n",
       "      <td>NaN</td>\n",
       "      <td>NaN</td>\n",
       "      <td>NaN</td>\n",
       "      <td>NaN</td>\n",
       "      <td>Jan 2018</td>\n",
       "      <td>FY2018</td>\n",
       "      <td>6449 GREENVILLE AVE\\n(32.863098, -96.767426)</td>\n",
       "    </tr>\n",
       "    <tr>\n",
       "      <th>44450</th>\n",
       "      <td>NaN</td>\n",
       "      <td>Routine</td>\n",
       "      <td>12/20/2016</td>\n",
       "      <td>88</td>\n",
       "      <td>6449</td>\n",
       "      <td>GREENVILLE</td>\n",
       "      <td>NaN</td>\n",
       "      <td>AVE</td>\n",
       "      <td>NaN</td>\n",
       "      <td>6449 GREENVILLE AVE</td>\n",
       "      <td>...</td>\n",
       "      <td>NaN</td>\n",
       "      <td>NaN</td>\n",
       "      <td>NaN</td>\n",
       "      <td>NaN</td>\n",
       "      <td>NaN</td>\n",
       "      <td>NaN</td>\n",
       "      <td>NaN</td>\n",
       "      <td>Dec 2016</td>\n",
       "      <td>FY2017</td>\n",
       "      <td>6449 GREENVILLE AVE\\n(32.863098, -96.767426)</td>\n",
       "    </tr>\n",
       "  </tbody>\n",
       "</table>\n",
       "<p>11 rows × 114 columns</p>\n",
       "</div>"
      ],
      "text/plain": [
       "      Restaurant Name Inspection Type Inspection Date  Inspection Score  \\\n",
       "20592             NaN         Routine      02/21/2018                86   \n",
       "21643             NaN         Routine      08/28/2017                87   \n",
       "24064             NaN         Routine      07/28/2017                87   \n",
       "24612             NaN         Routine      08/06/2018                91   \n",
       "26713             NaN         Routine      02/02/2017                88   \n",
       "33050             NaN         Routine      11/27/2017                80   \n",
       "34370             NaN         Routine      06/13/2018                87   \n",
       "39616             NaN         Routine      05/22/2018                92   \n",
       "43261             NaN         Routine      05/31/2017                91   \n",
       "43934             NaN         Routine      01/03/2018                84   \n",
       "44450             NaN         Routine      12/20/2016                88   \n",
       "\n",
       "       Street Number   Street Name Street Direction Street Type Street Unit  \\\n",
       "20592           4243  WESTMORELAND                S          RD         NaN   \n",
       "21643           4243  WESTMORELAND                S          RD         NaN   \n",
       "24064           6449    GREENVILLE              NaN         AVE         NaN   \n",
       "24612           4243  WESTMORELAND                S          RD         NaN   \n",
       "26713           4243  WESTMORELAND                S          RD         NaN   \n",
       "33050           8686      FERGUSON              NaN          RD        #210   \n",
       "34370           6449    GREENVILLE              NaN         AVE         NaN   \n",
       "39616           8686      FERGUSON              NaN          RD        #210   \n",
       "43261           8686      FERGUSON              NaN          RD        #210   \n",
       "43934           6449    GREENVILLE              NaN         AVE         NaN   \n",
       "44450           6449    GREENVILLE              NaN         AVE         NaN   \n",
       "\n",
       "               Street Address  ... Violation Points - 24  \\\n",
       "20592  4243 S WESTMORELAND RD  ...                   NaN   \n",
       "21643  4243 S WESTMORELAND RD  ...                   NaN   \n",
       "24064     6449 GREENVILLE AVE  ...                   NaN   \n",
       "24612  4243 S WESTMORELAND RD  ...                   NaN   \n",
       "26713  4243 S WESTMORELAND RD  ...                   NaN   \n",
       "33050   8686 FERGUSON RD #210  ...                   NaN   \n",
       "34370     6449 GREENVILLE AVE  ...                   NaN   \n",
       "39616   8686 FERGUSON RD #210  ...                   NaN   \n",
       "43261   8686 FERGUSON RD #210  ...                   NaN   \n",
       "43934     6449 GREENVILLE AVE  ...                   NaN   \n",
       "44450     6449 GREENVILLE AVE  ...                   NaN   \n",
       "\n",
       "      Violation Detail - 24  Violation Memo - 24 Violation Description - 25  \\\n",
       "20592                   NaN                  NaN                        NaN   \n",
       "21643                   NaN                  NaN                        NaN   \n",
       "24064                   NaN                  NaN                        NaN   \n",
       "24612                   NaN                  NaN                        NaN   \n",
       "26713                   NaN                  NaN                        NaN   \n",
       "33050                   NaN                  NaN                        NaN   \n",
       "34370                   NaN                  NaN                        NaN   \n",
       "39616                   NaN                  NaN                        NaN   \n",
       "43261                   NaN                  NaN                        NaN   \n",
       "43934                   NaN                  NaN                        NaN   \n",
       "44450                   NaN                  NaN                        NaN   \n",
       "\n",
       "      Violation Points - 25 Violation Detail - 25  Violation Memo - 25  \\\n",
       "20592                   NaN                   NaN                  NaN   \n",
       "21643                   NaN                   NaN                  NaN   \n",
       "24064                   NaN                   NaN                  NaN   \n",
       "24612                   NaN                   NaN                  NaN   \n",
       "26713                   NaN                   NaN                  NaN   \n",
       "33050                   NaN                   NaN                  NaN   \n",
       "34370                   NaN                   NaN                  NaN   \n",
       "39616                   NaN                   NaN                  NaN   \n",
       "43261                   NaN                   NaN                  NaN   \n",
       "43934                   NaN                   NaN                  NaN   \n",
       "44450                   NaN                   NaN                  NaN   \n",
       "\n",
       "      Inspection Month Inspection Year  \\\n",
       "20592         Feb 2018          FY2018   \n",
       "21643         Aug 2017          FY2017   \n",
       "24064         Jul 2017          FY2017   \n",
       "24612         Aug 2018          FY2018   \n",
       "26713         Feb 2017          FY2017   \n",
       "33050         Nov 2017          FY2018   \n",
       "34370         Jun 2018          FY2018   \n",
       "39616         May 2018          FY2018   \n",
       "43261         May 2017          FY2017   \n",
       "43934         Jan 2018          FY2018   \n",
       "44450         Dec 2016          FY2017   \n",
       "\n",
       "                                     Lat Long Location  \n",
       "20592  4243 S WESTMORELAND RD\\n(32.691613, -96.880689)  \n",
       "21643  4243 S WESTMORELAND RD\\n(32.691613, -96.880689)  \n",
       "24064     6449 GREENVILLE AVE\\n(32.863098, -96.767426)  \n",
       "24612  4243 S WESTMORELAND RD\\n(32.691613, -96.880689)  \n",
       "26713  4243 S WESTMORELAND RD\\n(32.691613, -96.880689)  \n",
       "33050   8686 FERGUSON RD #210\\n(32.812751, -96.698799)  \n",
       "34370     6449 GREENVILLE AVE\\n(32.863098, -96.767426)  \n",
       "39616   8686 FERGUSON RD #210\\n(32.812751, -96.698799)  \n",
       "43261   8686 FERGUSON RD #210\\n(32.812751, -96.698799)  \n",
       "43934     6449 GREENVILLE AVE\\n(32.863098, -96.767426)  \n",
       "44450     6449 GREENVILLE AVE\\n(32.863098, -96.767426)  \n",
       "\n",
       "[11 rows x 114 columns]"
      ]
     },
     "execution_count": 6,
     "metadata": {},
     "output_type": "execute_result"
    }
   ],
   "source": [
    "df.loc[df['Restaurant Name'].isnull()]"
   ]
  },
  {
   "cell_type": "code",
   "execution_count": 7,
   "metadata": {
    "scrolled": true
   },
   "outputs": [
    {
     "data": {
      "text/html": [
       "<div>\n",
       "<style scoped>\n",
       "    .dataframe tbody tr th:only-of-type {\n",
       "        vertical-align: middle;\n",
       "    }\n",
       "\n",
       "    .dataframe tbody tr th {\n",
       "        vertical-align: top;\n",
       "    }\n",
       "\n",
       "    .dataframe thead th {\n",
       "        text-align: right;\n",
       "    }\n",
       "</style>\n",
       "<table border=\"1\" class=\"dataframe\">\n",
       "  <thead>\n",
       "    <tr style=\"text-align: right;\">\n",
       "      <th></th>\n",
       "      <th>Restaurant Name</th>\n",
       "      <th>Inspection Type</th>\n",
       "      <th>Inspection Date</th>\n",
       "      <th>Inspection Score</th>\n",
       "      <th>Street Number</th>\n",
       "      <th>Street Name</th>\n",
       "      <th>Street Direction</th>\n",
       "      <th>Street Type</th>\n",
       "      <th>Street Unit</th>\n",
       "      <th>Street Address</th>\n",
       "      <th>...</th>\n",
       "      <th>Violation Points - 24</th>\n",
       "      <th>Violation Detail - 24</th>\n",
       "      <th>Violation Memo - 24</th>\n",
       "      <th>Violation Description - 25</th>\n",
       "      <th>Violation Points - 25</th>\n",
       "      <th>Violation Detail - 25</th>\n",
       "      <th>Violation Memo - 25</th>\n",
       "      <th>Inspection Month</th>\n",
       "      <th>Inspection Year</th>\n",
       "      <th>Lat Long Location</th>\n",
       "    </tr>\n",
       "  </thead>\n",
       "  <tbody>\n",
       "    <tr>\n",
       "      <th>4333</th>\n",
       "      <td>WILLIAMS CHICKEN</td>\n",
       "      <td>Routine</td>\n",
       "      <td>08/14/2019</td>\n",
       "      <td>94</td>\n",
       "      <td>4243</td>\n",
       "      <td>WESTMORELAND</td>\n",
       "      <td>S</td>\n",
       "      <td>RD</td>\n",
       "      <td>NaN</td>\n",
       "      <td>4243 S WESTMORELAND RD</td>\n",
       "      <td>...</td>\n",
       "      <td>NaN</td>\n",
       "      <td>NaN</td>\n",
       "      <td>NaN</td>\n",
       "      <td>NaN</td>\n",
       "      <td>NaN</td>\n",
       "      <td>NaN</td>\n",
       "      <td>NaN</td>\n",
       "      <td>Aug 2019</td>\n",
       "      <td>FY2019</td>\n",
       "      <td>4243 S WESTMORELAND RD\\n(32.691613, -96.880689)</td>\n",
       "    </tr>\n",
       "    <tr>\n",
       "      <th>10552</th>\n",
       "      <td>WILLIAMS CHICKEN</td>\n",
       "      <td>Routine</td>\n",
       "      <td>02/12/2020</td>\n",
       "      <td>92</td>\n",
       "      <td>4243</td>\n",
       "      <td>WESTMORELAND</td>\n",
       "      <td>S</td>\n",
       "      <td>RD</td>\n",
       "      <td>NaN</td>\n",
       "      <td>4243 S WESTMORELAND RD</td>\n",
       "      <td>...</td>\n",
       "      <td>NaN</td>\n",
       "      <td>NaN</td>\n",
       "      <td>NaN</td>\n",
       "      <td>NaN</td>\n",
       "      <td>NaN</td>\n",
       "      <td>NaN</td>\n",
       "      <td>NaN</td>\n",
       "      <td>Feb 2020</td>\n",
       "      <td>FY2020</td>\n",
       "      <td>4243 S WESTMORELAND RD\\n(32.691613, -96.880689)</td>\n",
       "    </tr>\n",
       "    <tr>\n",
       "      <th>14015</th>\n",
       "      <td>WILLIAMS CHICKEN</td>\n",
       "      <td>Routine</td>\n",
       "      <td>02/11/2019</td>\n",
       "      <td>97</td>\n",
       "      <td>4243</td>\n",
       "      <td>WESTMORELAND</td>\n",
       "      <td>S</td>\n",
       "      <td>RD</td>\n",
       "      <td>NaN</td>\n",
       "      <td>4243 S WESTMORELAND RD</td>\n",
       "      <td>...</td>\n",
       "      <td>NaN</td>\n",
       "      <td>NaN</td>\n",
       "      <td>NaN</td>\n",
       "      <td>NaN</td>\n",
       "      <td>NaN</td>\n",
       "      <td>NaN</td>\n",
       "      <td>NaN</td>\n",
       "      <td>Feb 2019</td>\n",
       "      <td>FY2019</td>\n",
       "      <td>4243 S WESTMORELAND RD\\n(32.691613, -96.880689)</td>\n",
       "    </tr>\n",
       "    <tr>\n",
       "      <th>20592</th>\n",
       "      <td>NaN</td>\n",
       "      <td>Routine</td>\n",
       "      <td>02/21/2018</td>\n",
       "      <td>86</td>\n",
       "      <td>4243</td>\n",
       "      <td>WESTMORELAND</td>\n",
       "      <td>S</td>\n",
       "      <td>RD</td>\n",
       "      <td>NaN</td>\n",
       "      <td>4243 S WESTMORELAND RD</td>\n",
       "      <td>...</td>\n",
       "      <td>NaN</td>\n",
       "      <td>NaN</td>\n",
       "      <td>NaN</td>\n",
       "      <td>NaN</td>\n",
       "      <td>NaN</td>\n",
       "      <td>NaN</td>\n",
       "      <td>NaN</td>\n",
       "      <td>Feb 2018</td>\n",
       "      <td>FY2018</td>\n",
       "      <td>4243 S WESTMORELAND RD\\n(32.691613, -96.880689)</td>\n",
       "    </tr>\n",
       "    <tr>\n",
       "      <th>21643</th>\n",
       "      <td>NaN</td>\n",
       "      <td>Routine</td>\n",
       "      <td>08/28/2017</td>\n",
       "      <td>87</td>\n",
       "      <td>4243</td>\n",
       "      <td>WESTMORELAND</td>\n",
       "      <td>S</td>\n",
       "      <td>RD</td>\n",
       "      <td>NaN</td>\n",
       "      <td>4243 S WESTMORELAND RD</td>\n",
       "      <td>...</td>\n",
       "      <td>NaN</td>\n",
       "      <td>NaN</td>\n",
       "      <td>NaN</td>\n",
       "      <td>NaN</td>\n",
       "      <td>NaN</td>\n",
       "      <td>NaN</td>\n",
       "      <td>NaN</td>\n",
       "      <td>Aug 2017</td>\n",
       "      <td>FY2017</td>\n",
       "      <td>4243 S WESTMORELAND RD\\n(32.691613, -96.880689)</td>\n",
       "    </tr>\n",
       "  </tbody>\n",
       "</table>\n",
       "<p>5 rows × 114 columns</p>\n",
       "</div>"
      ],
      "text/plain": [
       "        Restaurant Name Inspection Type Inspection Date  Inspection Score  \\\n",
       "4333   WILLIAMS CHICKEN         Routine      08/14/2019                94   \n",
       "10552  WILLIAMS CHICKEN         Routine      02/12/2020                92   \n",
       "14015  WILLIAMS CHICKEN         Routine      02/11/2019                97   \n",
       "20592               NaN         Routine      02/21/2018                86   \n",
       "21643               NaN         Routine      08/28/2017                87   \n",
       "\n",
       "       Street Number   Street Name Street Direction Street Type Street Unit  \\\n",
       "4333            4243  WESTMORELAND                S          RD         NaN   \n",
       "10552           4243  WESTMORELAND                S          RD         NaN   \n",
       "14015           4243  WESTMORELAND                S          RD         NaN   \n",
       "20592           4243  WESTMORELAND                S          RD         NaN   \n",
       "21643           4243  WESTMORELAND                S          RD         NaN   \n",
       "\n",
       "               Street Address  ... Violation Points - 24  \\\n",
       "4333   4243 S WESTMORELAND RD  ...                   NaN   \n",
       "10552  4243 S WESTMORELAND RD  ...                   NaN   \n",
       "14015  4243 S WESTMORELAND RD  ...                   NaN   \n",
       "20592  4243 S WESTMORELAND RD  ...                   NaN   \n",
       "21643  4243 S WESTMORELAND RD  ...                   NaN   \n",
       "\n",
       "      Violation Detail - 24  Violation Memo - 24 Violation Description - 25  \\\n",
       "4333                    NaN                  NaN                        NaN   \n",
       "10552                   NaN                  NaN                        NaN   \n",
       "14015                   NaN                  NaN                        NaN   \n",
       "20592                   NaN                  NaN                        NaN   \n",
       "21643                   NaN                  NaN                        NaN   \n",
       "\n",
       "      Violation Points - 25 Violation Detail - 25  Violation Memo - 25  \\\n",
       "4333                    NaN                   NaN                  NaN   \n",
       "10552                   NaN                   NaN                  NaN   \n",
       "14015                   NaN                   NaN                  NaN   \n",
       "20592                   NaN                   NaN                  NaN   \n",
       "21643                   NaN                   NaN                  NaN   \n",
       "\n",
       "      Inspection Month Inspection Year  \\\n",
       "4333          Aug 2019          FY2019   \n",
       "10552         Feb 2020          FY2020   \n",
       "14015         Feb 2019          FY2019   \n",
       "20592         Feb 2018          FY2018   \n",
       "21643         Aug 2017          FY2017   \n",
       "\n",
       "                                     Lat Long Location  \n",
       "4333   4243 S WESTMORELAND RD\\n(32.691613, -96.880689)  \n",
       "10552  4243 S WESTMORELAND RD\\n(32.691613, -96.880689)  \n",
       "14015  4243 S WESTMORELAND RD\\n(32.691613, -96.880689)  \n",
       "20592  4243 S WESTMORELAND RD\\n(32.691613, -96.880689)  \n",
       "21643  4243 S WESTMORELAND RD\\n(32.691613, -96.880689)  \n",
       "\n",
       "[5 rows x 114 columns]"
      ]
     },
     "execution_count": 7,
     "metadata": {},
     "output_type": "execute_result"
    }
   ],
   "source": [
    "df.loc[df['Street Number'] == 4243].head()"
   ]
  },
  {
   "cell_type": "markdown",
   "metadata": {},
   "source": [
    "While the null restaurants seem to line up with an actual restaurant, I could not find evidence that this location was an identical or different restaurant during time of inspection.  Instead of imputing what I assume is the restaurant name, I will impute the name of unkown."
   ]
  },
  {
   "cell_type": "code",
   "execution_count": 8,
   "metadata": {},
   "outputs": [
    {
     "data": {
      "text/plain": [
       "object     87\n",
       "float64    25\n",
       "int64       2\n",
       "dtype: int64"
      ]
     },
     "execution_count": 8,
     "metadata": {},
     "output_type": "execute_result"
    }
   ],
   "source": [
    "df.dtypes.value_counts()"
   ]
  },
  {
   "cell_type": "code",
   "execution_count": 9,
   "metadata": {},
   "outputs": [],
   "source": [
    "dtypes_df = pd.DataFrame(df.dtypes)\n",
    "\n",
    "object_cols = dtypes_df.loc[dtypes_df[0] == 'object'].index\n",
    "\n",
    "float_cols = dtypes_df.loc[dtypes_df[0] == 'float64'].index\n",
    "\n"
   ]
  },
  {
   "cell_type": "code",
   "execution_count": 10,
   "metadata": {},
   "outputs": [],
   "source": [
    "df[object_cols] = df[object_cols].fillna(' ')"
   ]
  },
  {
   "cell_type": "code",
   "execution_count": 11,
   "metadata": {},
   "outputs": [],
   "source": [
    "df['calculated_score'] = 100 - df[float_cols].sum(axis = 1)"
   ]
  },
  {
   "cell_type": "code",
   "execution_count": 12,
   "metadata": {
    "scrolled": true
   },
   "outputs": [
    {
     "data": {
      "text/html": [
       "<div>\n",
       "<style scoped>\n",
       "    .dataframe tbody tr th:only-of-type {\n",
       "        vertical-align: middle;\n",
       "    }\n",
       "\n",
       "    .dataframe tbody tr th {\n",
       "        vertical-align: top;\n",
       "    }\n",
       "\n",
       "    .dataframe thead th {\n",
       "        text-align: right;\n",
       "    }\n",
       "</style>\n",
       "<table border=\"1\" class=\"dataframe\">\n",
       "  <thead>\n",
       "    <tr style=\"text-align: right;\">\n",
       "      <th></th>\n",
       "      <th>Restaurant Name</th>\n",
       "      <th>Inspection Type</th>\n",
       "      <th>Inspection Date</th>\n",
       "      <th>Inspection Score</th>\n",
       "      <th>Street Number</th>\n",
       "      <th>Street Name</th>\n",
       "      <th>Street Direction</th>\n",
       "      <th>Street Type</th>\n",
       "      <th>Street Unit</th>\n",
       "      <th>Street Address</th>\n",
       "      <th>...</th>\n",
       "      <th>Violation Detail - 24</th>\n",
       "      <th>Violation Memo - 24</th>\n",
       "      <th>Violation Description - 25</th>\n",
       "      <th>Violation Points - 25</th>\n",
       "      <th>Violation Detail - 25</th>\n",
       "      <th>Violation Memo - 25</th>\n",
       "      <th>Inspection Month</th>\n",
       "      <th>Inspection Year</th>\n",
       "      <th>Lat Long Location</th>\n",
       "      <th>calculated_score</th>\n",
       "    </tr>\n",
       "  </thead>\n",
       "  <tbody>\n",
       "    <tr>\n",
       "      <th>20</th>\n",
       "      <td>JERSEY MIKES SUBS</td>\n",
       "      <td>Routine</td>\n",
       "      <td>10/04/2018</td>\n",
       "      <td>89</td>\n",
       "      <td>14060</td>\n",
       "      <td>DALLAS</td>\n",
       "      <td></td>\n",
       "      <td>PKWY</td>\n",
       "      <td>400</td>\n",
       "      <td>14060 DALLAS PKWY STE 400</td>\n",
       "      <td>...</td>\n",
       "      <td></td>\n",
       "      <td></td>\n",
       "      <td></td>\n",
       "      <td>NaN</td>\n",
       "      <td></td>\n",
       "      <td></td>\n",
       "      <td>Oct 2018</td>\n",
       "      <td>FY2019</td>\n",
       "      <td>14060 DALLAS PKWY STE 400\\n(32.938693, -96.821...</td>\n",
       "      <td>100.0</td>\n",
       "    </tr>\n",
       "    <tr>\n",
       "      <th>30</th>\n",
       "      <td>CANTINA LAREDO</td>\n",
       "      <td>Routine</td>\n",
       "      <td>10/30/2019</td>\n",
       "      <td>0</td>\n",
       "      <td>6025</td>\n",
       "      <td>ROYAL</td>\n",
       "      <td></td>\n",
       "      <td>LN</td>\n",
       "      <td>#250</td>\n",
       "      <td>6025 ROYAL LN #250</td>\n",
       "      <td>...</td>\n",
       "      <td></td>\n",
       "      <td></td>\n",
       "      <td></td>\n",
       "      <td>NaN</td>\n",
       "      <td></td>\n",
       "      <td></td>\n",
       "      <td>Oct 2019</td>\n",
       "      <td>FY2020</td>\n",
       "      <td>6025 ROYAL LN #250\\n(32.894884, -96.802798)</td>\n",
       "      <td>100.0</td>\n",
       "    </tr>\n",
       "    <tr>\n",
       "      <th>83</th>\n",
       "      <td>CIELO CREATIONS</td>\n",
       "      <td>Follow-up</td>\n",
       "      <td>03/27/2019</td>\n",
       "      <td>88</td>\n",
       "      <td>2711</td>\n",
       "      <td>HASKELL</td>\n",
       "      <td>N</td>\n",
       "      <td>AVE</td>\n",
       "      <td>#C3</td>\n",
       "      <td>2711 N HASKELL AVE #C3</td>\n",
       "      <td>...</td>\n",
       "      <td></td>\n",
       "      <td></td>\n",
       "      <td></td>\n",
       "      <td>NaN</td>\n",
       "      <td></td>\n",
       "      <td></td>\n",
       "      <td>Mar 2019</td>\n",
       "      <td>FY2019</td>\n",
       "      <td>2711 N HASKELL AVE #C3\\n(32.807044, -96.792783)</td>\n",
       "      <td>100.0</td>\n",
       "    </tr>\n",
       "    <tr>\n",
       "      <th>308</th>\n",
       "      <td>PIZZA HUT</td>\n",
       "      <td>Routine</td>\n",
       "      <td>06/12/2019</td>\n",
       "      <td>83</td>\n",
       "      <td>222</td>\n",
       "      <td>CONTINENTAL</td>\n",
       "      <td></td>\n",
       "      <td>AVE</td>\n",
       "      <td></td>\n",
       "      <td>222 CONTINENTAL AVE</td>\n",
       "      <td>...</td>\n",
       "      <td></td>\n",
       "      <td></td>\n",
       "      <td></td>\n",
       "      <td>NaN</td>\n",
       "      <td></td>\n",
       "      <td></td>\n",
       "      <td>Jun 2019</td>\n",
       "      <td>FY2019</td>\n",
       "      <td>222 CONTINENTAL AVE\\n(32.78378, -96.814079)</td>\n",
       "      <td>100.0</td>\n",
       "    </tr>\n",
       "    <tr>\n",
       "      <th>1579</th>\n",
       "      <td>PARKIT MKT</td>\n",
       "      <td>Routine</td>\n",
       "      <td>11/06/2019</td>\n",
       "      <td>92</td>\n",
       "      <td>4724</td>\n",
       "      <td>GREENVILLE</td>\n",
       "      <td></td>\n",
       "      <td>AVE</td>\n",
       "      <td>#A</td>\n",
       "      <td>4724 GREENVILLE AVE #A</td>\n",
       "      <td>...</td>\n",
       "      <td></td>\n",
       "      <td></td>\n",
       "      <td></td>\n",
       "      <td>NaN</td>\n",
       "      <td></td>\n",
       "      <td></td>\n",
       "      <td>Nov 2019</td>\n",
       "      <td>FY2020</td>\n",
       "      <td>4724 GREENVILLE AVE #A\\n(32.84534, -96.769994)</td>\n",
       "      <td>91.0</td>\n",
       "    </tr>\n",
       "    <tr>\n",
       "      <th>...</th>\n",
       "      <td>...</td>\n",
       "      <td>...</td>\n",
       "      <td>...</td>\n",
       "      <td>...</td>\n",
       "      <td>...</td>\n",
       "      <td>...</td>\n",
       "      <td>...</td>\n",
       "      <td>...</td>\n",
       "      <td>...</td>\n",
       "      <td>...</td>\n",
       "      <td>...</td>\n",
       "      <td>...</td>\n",
       "      <td>...</td>\n",
       "      <td>...</td>\n",
       "      <td>...</td>\n",
       "      <td>...</td>\n",
       "      <td>...</td>\n",
       "      <td>...</td>\n",
       "      <td>...</td>\n",
       "      <td>...</td>\n",
       "      <td>...</td>\n",
       "    </tr>\n",
       "    <tr>\n",
       "      <th>42734</th>\n",
       "      <td>A W BROWN FELLOWSHIP CHURCH</td>\n",
       "      <td>Routine</td>\n",
       "      <td>04/18/2018</td>\n",
       "      <td>84</td>\n",
       "      <td>6901</td>\n",
       "      <td>WESTMORELAND</td>\n",
       "      <td>S</td>\n",
       "      <td>RD</td>\n",
       "      <td></td>\n",
       "      <td>6901 S WESTMORELAND RD</td>\n",
       "      <td>...</td>\n",
       "      <td></td>\n",
       "      <td></td>\n",
       "      <td></td>\n",
       "      <td>NaN</td>\n",
       "      <td></td>\n",
       "      <td></td>\n",
       "      <td>Apr 2018</td>\n",
       "      <td>FY2018</td>\n",
       "      <td>6901 S WESTMORELAND RD\\n(32.663499, -96.881698)</td>\n",
       "      <td>100.0</td>\n",
       "    </tr>\n",
       "    <tr>\n",
       "      <th>43052</th>\n",
       "      <td>SAMAD CAFE</td>\n",
       "      <td>Routine</td>\n",
       "      <td>04/25/2017</td>\n",
       "      <td>82</td>\n",
       "      <td>2706</td>\n",
       "      <td>MANOR</td>\n",
       "      <td></td>\n",
       "      <td>WAY</td>\n",
       "      <td></td>\n",
       "      <td>2706 MANOR WAY</td>\n",
       "      <td>...</td>\n",
       "      <td></td>\n",
       "      <td></td>\n",
       "      <td></td>\n",
       "      <td>NaN</td>\n",
       "      <td></td>\n",
       "      <td></td>\n",
       "      <td>Apr 2017</td>\n",
       "      <td>FY2017</td>\n",
       "      <td>2706 MANOR WAY\\n(32.827271, -96.839715)</td>\n",
       "      <td>85.0</td>\n",
       "    </tr>\n",
       "    <tr>\n",
       "      <th>43458</th>\n",
       "      <td>KROGER #689 DELI</td>\n",
       "      <td>Routine</td>\n",
       "      <td>10/29/2018</td>\n",
       "      <td>97</td>\n",
       "      <td>17194</td>\n",
       "      <td>PRESTON</td>\n",
       "      <td></td>\n",
       "      <td>RD</td>\n",
       "      <td></td>\n",
       "      <td>17194 PRESTON RD</td>\n",
       "      <td>...</td>\n",
       "      <td></td>\n",
       "      <td></td>\n",
       "      <td></td>\n",
       "      <td>NaN</td>\n",
       "      <td></td>\n",
       "      <td></td>\n",
       "      <td>Oct 2018</td>\n",
       "      <td>FY2019</td>\n",
       "      <td>17194 PRESTON RD\\n(32.985862, -96.803703)</td>\n",
       "      <td>100.0</td>\n",
       "    </tr>\n",
       "    <tr>\n",
       "      <th>43960</th>\n",
       "      <td>DRIP COFFEE COMPANY</td>\n",
       "      <td>Routine</td>\n",
       "      <td>09/23/2018</td>\n",
       "      <td>92</td>\n",
       "      <td>3888</td>\n",
       "      <td>OAK LAWN</td>\n",
       "      <td></td>\n",
       "      <td>AVE</td>\n",
       "      <td>#106</td>\n",
       "      <td>3888 OAK LAWN AVE #106</td>\n",
       "      <td>...</td>\n",
       "      <td></td>\n",
       "      <td></td>\n",
       "      <td></td>\n",
       "      <td>NaN</td>\n",
       "      <td></td>\n",
       "      <td></td>\n",
       "      <td>Sep 2018</td>\n",
       "      <td>FY2018</td>\n",
       "      <td>3888 OAK LAWN AVE #106\\n(32.816303, -96.802317)</td>\n",
       "      <td>91.0</td>\n",
       "    </tr>\n",
       "    <tr>\n",
       "      <th>44020</th>\n",
       "      <td>SHIVAS BAR &amp; GRILL</td>\n",
       "      <td>Routine</td>\n",
       "      <td>10/20/2017</td>\n",
       "      <td>51</td>\n",
       "      <td>1907</td>\n",
       "      <td>GREENVILLE</td>\n",
       "      <td></td>\n",
       "      <td>AVE</td>\n",
       "      <td></td>\n",
       "      <td>1907 GREENVILLE AVE</td>\n",
       "      <td>...</td>\n",
       "      <td>228.124  Equipment, Utensils, and Linens.     ...</td>\n",
       "      <td>Improper storage of utensils</td>\n",
       "      <td>*47 Other Violations</td>\n",
       "      <td>1.0</td>\n",
       "      <td></td>\n",
       "      <td>Provide hand washing signs at all hand sinks</td>\n",
       "      <td>Oct 2017</td>\n",
       "      <td>FY2018</td>\n",
       "      <td>1907 GREENVILLE AVE\\n(37.53186, -77.471669)</td>\n",
       "      <td>56.0</td>\n",
       "    </tr>\n",
       "  </tbody>\n",
       "</table>\n",
       "<p>81 rows × 115 columns</p>\n",
       "</div>"
      ],
      "text/plain": [
       "                   Restaurant Name Inspection Type Inspection Date  \\\n",
       "20               JERSEY MIKES SUBS         Routine      10/04/2018   \n",
       "30                  CANTINA LAREDO         Routine      10/30/2019   \n",
       "83                 CIELO CREATIONS       Follow-up      03/27/2019   \n",
       "308                      PIZZA HUT         Routine      06/12/2019   \n",
       "1579                    PARKIT MKT         Routine      11/06/2019   \n",
       "...                            ...             ...             ...   \n",
       "42734  A W BROWN FELLOWSHIP CHURCH         Routine      04/18/2018   \n",
       "43052                   SAMAD CAFE         Routine      04/25/2017   \n",
       "43458             KROGER #689 DELI         Routine      10/29/2018   \n",
       "43960          DRIP COFFEE COMPANY         Routine      09/23/2018   \n",
       "44020           SHIVAS BAR & GRILL         Routine      10/20/2017   \n",
       "\n",
       "       Inspection Score  Street Number   Street Name Street Direction  \\\n",
       "20                   89          14060        DALLAS                    \n",
       "30                    0           6025         ROYAL                    \n",
       "83                   88           2711       HASKELL                N   \n",
       "308                  83            222   CONTINENTAL                    \n",
       "1579                 92           4724    GREENVILLE                    \n",
       "...                 ...            ...           ...              ...   \n",
       "42734                84           6901  WESTMORELAND                S   \n",
       "43052                82           2706         MANOR                    \n",
       "43458                97          17194       PRESTON                    \n",
       "43960                92           3888      OAK LAWN                    \n",
       "44020                51           1907    GREENVILLE                    \n",
       "\n",
       "      Street Type Street Unit             Street Address  ...  \\\n",
       "20           PKWY         400  14060 DALLAS PKWY STE 400  ...   \n",
       "30             LN        #250         6025 ROYAL LN #250  ...   \n",
       "83            AVE         #C3     2711 N HASKELL AVE #C3  ...   \n",
       "308           AVE                    222 CONTINENTAL AVE  ...   \n",
       "1579          AVE          #A     4724 GREENVILLE AVE #A  ...   \n",
       "...           ...         ...                        ...  ...   \n",
       "42734          RD                 6901 S WESTMORELAND RD  ...   \n",
       "43052         WAY                         2706 MANOR WAY  ...   \n",
       "43458          RD                       17194 PRESTON RD  ...   \n",
       "43960         AVE        #106     3888 OAK LAWN AVE #106  ...   \n",
       "44020         AVE                    1907 GREENVILLE AVE  ...   \n",
       "\n",
       "                                   Violation Detail - 24  \\\n",
       "20                                                         \n",
       "30                                                         \n",
       "83                                                         \n",
       "308                                                        \n",
       "1579                                                       \n",
       "...                                                  ...   \n",
       "42734                                                      \n",
       "43052                                                      \n",
       "43458                                                      \n",
       "43960                                                      \n",
       "44020  228.124  Equipment, Utensils, and Linens.     ...   \n",
       "\n",
       "                Violation Memo - 24  Violation Description - 25  \\\n",
       "20                                                                \n",
       "30                                                                \n",
       "83                                                                \n",
       "308                                                               \n",
       "1579                                                              \n",
       "...                             ...                         ...   \n",
       "42734                                                             \n",
       "43052                                                             \n",
       "43458                                                             \n",
       "43960                                                             \n",
       "44020  Improper storage of utensils        *47 Other Violations   \n",
       "\n",
       "      Violation Points - 25 Violation Detail - 25  \\\n",
       "20                      NaN                         \n",
       "30                      NaN                         \n",
       "83                      NaN                         \n",
       "308                     NaN                         \n",
       "1579                    NaN                         \n",
       "...                     ...                   ...   \n",
       "42734                   NaN                         \n",
       "43052                   NaN                         \n",
       "43458                   NaN                         \n",
       "43960                   NaN                         \n",
       "44020                   1.0                         \n",
       "\n",
       "                                Violation Memo - 25  Inspection Month  \\\n",
       "20                                                           Oct 2018   \n",
       "30                                                           Oct 2019   \n",
       "83                                                           Mar 2019   \n",
       "308                                                          Jun 2019   \n",
       "1579                                                         Nov 2019   \n",
       "...                                             ...               ...   \n",
       "42734                                                        Apr 2018   \n",
       "43052                                                        Apr 2017   \n",
       "43458                                                        Oct 2018   \n",
       "43960                                                        Sep 2018   \n",
       "44020  Provide hand washing signs at all hand sinks          Oct 2017   \n",
       "\n",
       "      Inspection Year                                  Lat Long Location  \\\n",
       "20             FY2019  14060 DALLAS PKWY STE 400\\n(32.938693, -96.821...   \n",
       "30             FY2020        6025 ROYAL LN #250\\n(32.894884, -96.802798)   \n",
       "83             FY2019    2711 N HASKELL AVE #C3\\n(32.807044, -96.792783)   \n",
       "308            FY2019        222 CONTINENTAL AVE\\n(32.78378, -96.814079)   \n",
       "1579           FY2020     4724 GREENVILLE AVE #A\\n(32.84534, -96.769994)   \n",
       "...               ...                                                ...   \n",
       "42734          FY2018    6901 S WESTMORELAND RD\\n(32.663499, -96.881698)   \n",
       "43052          FY2017            2706 MANOR WAY\\n(32.827271, -96.839715)   \n",
       "43458          FY2019          17194 PRESTON RD\\n(32.985862, -96.803703)   \n",
       "43960          FY2018    3888 OAK LAWN AVE #106\\n(32.816303, -96.802317)   \n",
       "44020          FY2018        1907 GREENVILLE AVE\\n(37.53186, -77.471669)   \n",
       "\n",
       "      calculated_score  \n",
       "20               100.0  \n",
       "30               100.0  \n",
       "83               100.0  \n",
       "308              100.0  \n",
       "1579              91.0  \n",
       "...                ...  \n",
       "42734            100.0  \n",
       "43052             85.0  \n",
       "43458            100.0  \n",
       "43960             91.0  \n",
       "44020             56.0  \n",
       "\n",
       "[81 rows x 115 columns]"
      ]
     },
     "execution_count": 12,
     "metadata": {},
     "output_type": "execute_result"
    }
   ],
   "source": [
    "df.loc[df['Inspection Score'] != df['calculated_score']]"
   ]
  },
  {
   "cell_type": "markdown",
   "metadata": {},
   "source": [
    "81 restaurants have an inspection score that does not match up with the calculated score.  Since I am ultimately using NLP from the inspection details and memos, I'm going to utilize the calculated score to make my predictions."
   ]
  },
  {
   "cell_type": "code",
   "execution_count": 13,
   "metadata": {},
   "outputs": [],
   "source": [
    "df.drop(columns=float_cols, inplace= True)\n",
    "df.drop(columns='Inspection Score', inplace= True)\n"
   ]
  },
  {
   "cell_type": "markdown",
   "metadata": {},
   "source": [
    "Keeping in my float columns would violate colinearity"
   ]
  },
  {
   "cell_type": "markdown",
   "metadata": {},
   "source": [
    "Since this project is based on NLP, I will be merging all of the violation detail, description, and memo columns, which should handle the nulls.  Any leftover nulls after that merge likely relate to a restaurant having no violations to note, which is important data.  11 restaurant names are null.  If there is an address given, I will probably keep them.  Additionally, I will merge the address columns with names to help the model account for different locations of the same restaurant."
   ]
  },
  {
   "cell_type": "code",
   "execution_count": 14,
   "metadata": {},
   "outputs": [],
   "source": [
    "df['Inspection Date'] = pd.to_datetime(df['Inspection Date'])\n",
    "\n",
    "df.loc[df[df.columns[3:]].duplicated()].sort_values(by = \"Inspection Date\")\n",
    "\n",
    "df = df.sort_values(by = 'Inspection Date')\n",
    "\n",
    "df.reset_index(inplace = True)\n",
    "\n",
    "df.drop(columns= 'index', inplace = True)"
   ]
  },
  {
   "cell_type": "code",
   "execution_count": 15,
   "metadata": {
    "scrolled": true
   },
   "outputs": [],
   "source": [
    "df['next_inspection_score'] = df.groupby(['Restaurant Name', 'Street Name', 'Street Number'])['calculated_score'].shift(-1)"
   ]
  },
  {
   "cell_type": "code",
   "execution_count": 16,
   "metadata": {},
   "outputs": [],
   "source": [
    "df['days_since_last_insp'] = df.groupby(['Restaurant Name', 'Street Name', 'Street Number'])['Inspection Date'].diff()"
   ]
  },
  {
   "cell_type": "code",
   "execution_count": 17,
   "metadata": {
    "scrolled": false
   },
   "outputs": [
    {
     "data": {
      "text/plain": [
       "Routine      43990\n",
       "Follow-up      641\n",
       "Complaint       25\n",
       "Name: Inspection Type, dtype: int64"
      ]
     },
     "execution_count": 17,
     "metadata": {},
     "output_type": "execute_result"
    }
   ],
   "source": [
    "df['Inspection Type'].value_counts()"
   ]
  },
  {
   "cell_type": "code",
   "execution_count": 18,
   "metadata": {},
   "outputs": [],
   "source": [
    "df['inspection_count'] = df.groupby(['Restaurant Name', 'Street Address','Inspection Year']).cumcount()+1\n"
   ]
  },
  {
   "cell_type": "code",
   "execution_count": 19,
   "metadata": {},
   "outputs": [
    {
     "data": {
      "text/plain": [
       "1     26576\n",
       "2     16042\n",
       "3      1703\n",
       "4       248\n",
       "5        61\n",
       "6        16\n",
       "7         6\n",
       "8         2\n",
       "10        1\n",
       "9         1\n",
       "Name: inspection_count, dtype: int64"
      ]
     },
     "execution_count": 19,
     "metadata": {},
     "output_type": "execute_result"
    }
   ],
   "source": [
    "df['inspection_count'].value_counts()"
   ]
  },
  {
   "cell_type": "code",
   "execution_count": 20,
   "metadata": {},
   "outputs": [
    {
     "data": {
      "text/html": [
       "<div>\n",
       "<style scoped>\n",
       "    .dataframe tbody tr th:only-of-type {\n",
       "        vertical-align: middle;\n",
       "    }\n",
       "\n",
       "    .dataframe tbody tr th {\n",
       "        vertical-align: top;\n",
       "    }\n",
       "\n",
       "    .dataframe thead th {\n",
       "        text-align: right;\n",
       "    }\n",
       "</style>\n",
       "<table border=\"1\" class=\"dataframe\">\n",
       "  <thead>\n",
       "    <tr style=\"text-align: right;\">\n",
       "      <th></th>\n",
       "      <th>Restaurant Name</th>\n",
       "      <th>Inspection Type</th>\n",
       "      <th>Inspection Date</th>\n",
       "      <th>Street Number</th>\n",
       "      <th>Street Name</th>\n",
       "      <th>Street Direction</th>\n",
       "      <th>Street Type</th>\n",
       "      <th>Street Unit</th>\n",
       "      <th>Street Address</th>\n",
       "      <th>Zip Code</th>\n",
       "      <th>...</th>\n",
       "      <th>Violation Description - 25</th>\n",
       "      <th>Violation Detail - 25</th>\n",
       "      <th>Violation Memo - 25</th>\n",
       "      <th>Inspection Month</th>\n",
       "      <th>Inspection Year</th>\n",
       "      <th>Lat Long Location</th>\n",
       "      <th>calculated_score</th>\n",
       "      <th>next_inspection_score</th>\n",
       "      <th>days_since_last_insp</th>\n",
       "      <th>inspection_count</th>\n",
       "    </tr>\n",
       "  </thead>\n",
       "  <tbody>\n",
       "    <tr>\n",
       "      <th>25126</th>\n",
       "      <td>MAMA'S DAUGHTER'S DINER</td>\n",
       "      <td>Routine</td>\n",
       "      <td>2018-07-20</td>\n",
       "      <td>2610</td>\n",
       "      <td>ROYAL</td>\n",
       "      <td></td>\n",
       "      <td>LN</td>\n",
       "      <td></td>\n",
       "      <td>2610 ROYAL LN</td>\n",
       "      <td>75229</td>\n",
       "      <td>...</td>\n",
       "      <td></td>\n",
       "      <td></td>\n",
       "      <td></td>\n",
       "      <td>Jul 2018</td>\n",
       "      <td>FY2018</td>\n",
       "      <td>2610 ROYAL LN\\n(32.446632, -97.701097)</td>\n",
       "      <td>71.0</td>\n",
       "      <td>81.0</td>\n",
       "      <td>114 days</td>\n",
       "      <td>9</td>\n",
       "    </tr>\n",
       "  </tbody>\n",
       "</table>\n",
       "<p>1 rows × 92 columns</p>\n",
       "</div>"
      ],
      "text/plain": [
       "               Restaurant Name Inspection Type Inspection Date  Street Number  \\\n",
       "25126  MAMA'S DAUGHTER'S DINER         Routine      2018-07-20           2610   \n",
       "\n",
       "      Street Name Street Direction Street Type Street Unit Street Address  \\\n",
       "25126       ROYAL                           LN              2610 ROYAL LN   \n",
       "\n",
       "      Zip Code  ... Violation Description - 25 Violation Detail - 25  \\\n",
       "25126    75229  ...                                                    \n",
       "\n",
       "      Violation Memo - 25 Inspection Month Inspection Year  \\\n",
       "25126                             Jul 2018          FY2018   \n",
       "\n",
       "                            Lat Long Location calculated_score  \\\n",
       "25126  2610 ROYAL LN\\n(32.446632, -97.701097)             71.0   \n",
       "\n",
       "      next_inspection_score days_since_last_insp inspection_count  \n",
       "25126                  81.0             114 days                9  \n",
       "\n",
       "[1 rows x 92 columns]"
      ]
     },
     "execution_count": 20,
     "metadata": {},
     "output_type": "execute_result"
    }
   ],
   "source": [
    "df.loc[df['inspection_count'] == 9]"
   ]
  },
  {
   "cell_type": "code",
   "execution_count": 21,
   "metadata": {},
   "outputs": [
    {
     "data": {
      "text/html": [
       "<div>\n",
       "<style scoped>\n",
       "    .dataframe tbody tr th:only-of-type {\n",
       "        vertical-align: middle;\n",
       "    }\n",
       "\n",
       "    .dataframe tbody tr th {\n",
       "        vertical-align: top;\n",
       "    }\n",
       "\n",
       "    .dataframe thead th {\n",
       "        text-align: right;\n",
       "    }\n",
       "</style>\n",
       "<table border=\"1\" class=\"dataframe\">\n",
       "  <thead>\n",
       "    <tr style=\"text-align: right;\">\n",
       "      <th></th>\n",
       "      <th>Restaurant Name</th>\n",
       "      <th>Inspection Type</th>\n",
       "      <th>Inspection Date</th>\n",
       "      <th>Street Number</th>\n",
       "      <th>Street Name</th>\n",
       "      <th>Street Direction</th>\n",
       "      <th>Street Type</th>\n",
       "      <th>Street Unit</th>\n",
       "      <th>Street Address</th>\n",
       "      <th>Zip Code</th>\n",
       "      <th>...</th>\n",
       "      <th>Violation Description - 25</th>\n",
       "      <th>Violation Detail - 25</th>\n",
       "      <th>Violation Memo - 25</th>\n",
       "      <th>Inspection Month</th>\n",
       "      <th>Inspection Year</th>\n",
       "      <th>Lat Long Location</th>\n",
       "      <th>calculated_score</th>\n",
       "      <th>next_inspection_score</th>\n",
       "      <th>days_since_last_insp</th>\n",
       "      <th>inspection_count</th>\n",
       "    </tr>\n",
       "  </thead>\n",
       "  <tbody>\n",
       "    <tr>\n",
       "      <th>3754</th>\n",
       "      <td>MAMA'S DAUGHTER'S DINER</td>\n",
       "      <td>Routine</td>\n",
       "      <td>2017-01-10</td>\n",
       "      <td>2610</td>\n",
       "      <td>ROYAL</td>\n",
       "      <td></td>\n",
       "      <td>LN</td>\n",
       "      <td></td>\n",
       "      <td>2610 ROYAL LN</td>\n",
       "      <td>75229</td>\n",
       "      <td>...</td>\n",
       "      <td></td>\n",
       "      <td></td>\n",
       "      <td></td>\n",
       "      <td>Jan 2017</td>\n",
       "      <td>FY2017</td>\n",
       "      <td>2610 ROYAL LN\\n(32.446632, -97.701097)</td>\n",
       "      <td>95.0</td>\n",
       "      <td>89.0</td>\n",
       "      <td>NaT</td>\n",
       "      <td>1</td>\n",
       "    </tr>\n",
       "    <tr>\n",
       "      <th>4770</th>\n",
       "      <td>MAMA'S DAUGHTER'S DINER</td>\n",
       "      <td>Routine</td>\n",
       "      <td>2017-02-06</td>\n",
       "      <td>2014</td>\n",
       "      <td>IRVING</td>\n",
       "      <td></td>\n",
       "      <td>BLVD</td>\n",
       "      <td></td>\n",
       "      <td>2014 IRVING BLVD</td>\n",
       "      <td>75207</td>\n",
       "      <td>...</td>\n",
       "      <td></td>\n",
       "      <td></td>\n",
       "      <td></td>\n",
       "      <td>Feb 2017</td>\n",
       "      <td>FY2017</td>\n",
       "      <td>2014 IRVING BLVD\\n(32.795151, -96.828667)</td>\n",
       "      <td>85.0</td>\n",
       "      <td>86.0</td>\n",
       "      <td>NaT</td>\n",
       "      <td>1</td>\n",
       "    </tr>\n",
       "    <tr>\n",
       "      <th>10415</th>\n",
       "      <td>MAMA'S DAUGHTER'S DINER</td>\n",
       "      <td>Routine</td>\n",
       "      <td>2017-06-30</td>\n",
       "      <td>2610</td>\n",
       "      <td>ROYAL</td>\n",
       "      <td></td>\n",
       "      <td>LN</td>\n",
       "      <td></td>\n",
       "      <td>2610 ROYAL LN</td>\n",
       "      <td>75229</td>\n",
       "      <td>...</td>\n",
       "      <td></td>\n",
       "      <td></td>\n",
       "      <td></td>\n",
       "      <td>Jun 2017</td>\n",
       "      <td>FY2017</td>\n",
       "      <td>2610 ROYAL LN\\n(32.446632, -97.701097)</td>\n",
       "      <td>89.0</td>\n",
       "      <td>67.0</td>\n",
       "      <td>171 days</td>\n",
       "      <td>2</td>\n",
       "    </tr>\n",
       "    <tr>\n",
       "      <th>12022</th>\n",
       "      <td>MAMA'S DAUGHTER'S DINER</td>\n",
       "      <td>Routine</td>\n",
       "      <td>2017-08-16</td>\n",
       "      <td>2014</td>\n",
       "      <td>IRVING</td>\n",
       "      <td></td>\n",
       "      <td>BLVD</td>\n",
       "      <td></td>\n",
       "      <td>2014 IRVING BLVD</td>\n",
       "      <td>75207</td>\n",
       "      <td>...</td>\n",
       "      <td></td>\n",
       "      <td></td>\n",
       "      <td></td>\n",
       "      <td>Aug 2017</td>\n",
       "      <td>FY2017</td>\n",
       "      <td>2014 IRVING BLVD\\n(32.795151, -96.828667)</td>\n",
       "      <td>86.0</td>\n",
       "      <td>90.0</td>\n",
       "      <td>191 days</td>\n",
       "      <td>2</td>\n",
       "    </tr>\n",
       "    <tr>\n",
       "      <th>16941</th>\n",
       "      <td>MAMA'S DAUGHTER'S DINER</td>\n",
       "      <td>Routine</td>\n",
       "      <td>2017-12-22</td>\n",
       "      <td>2610</td>\n",
       "      <td>ROYAL</td>\n",
       "      <td></td>\n",
       "      <td>LN</td>\n",
       "      <td></td>\n",
       "      <td>2610 ROYAL LN</td>\n",
       "      <td>75229</td>\n",
       "      <td>...</td>\n",
       "      <td></td>\n",
       "      <td></td>\n",
       "      <td></td>\n",
       "      <td>Dec 2017</td>\n",
       "      <td>FY2018</td>\n",
       "      <td>2610 ROYAL LN\\n(32.446632, -97.701097)</td>\n",
       "      <td>67.0</td>\n",
       "      <td>75.0</td>\n",
       "      <td>175 days</td>\n",
       "      <td>1</td>\n",
       "    </tr>\n",
       "    <tr>\n",
       "      <th>17696</th>\n",
       "      <td>MAMA'S DAUGHTER'S DINER</td>\n",
       "      <td>Routine</td>\n",
       "      <td>2018-01-16</td>\n",
       "      <td>2610</td>\n",
       "      <td>ROYAL</td>\n",
       "      <td></td>\n",
       "      <td>LN</td>\n",
       "      <td></td>\n",
       "      <td>2610 ROYAL LN</td>\n",
       "      <td>75229</td>\n",
       "      <td>...</td>\n",
       "      <td></td>\n",
       "      <td></td>\n",
       "      <td></td>\n",
       "      <td>Jan 2018</td>\n",
       "      <td>FY2018</td>\n",
       "      <td>2610 ROYAL LN\\n(32.446632, -97.701097)</td>\n",
       "      <td>75.0</td>\n",
       "      <td>69.0</td>\n",
       "      <td>25 days</td>\n",
       "      <td>2</td>\n",
       "    </tr>\n",
       "    <tr>\n",
       "      <th>18059</th>\n",
       "      <td>MAMA'S DAUGHTER'S DINER</td>\n",
       "      <td>Routine</td>\n",
       "      <td>2018-01-24</td>\n",
       "      <td>2610</td>\n",
       "      <td>ROYAL</td>\n",
       "      <td></td>\n",
       "      <td>LN</td>\n",
       "      <td></td>\n",
       "      <td>2610 ROYAL LN</td>\n",
       "      <td>75229</td>\n",
       "      <td>...</td>\n",
       "      <td></td>\n",
       "      <td></td>\n",
       "      <td></td>\n",
       "      <td>Jan 2018</td>\n",
       "      <td>FY2018</td>\n",
       "      <td>2610 ROYAL LN\\n(32.446632, -97.701097)</td>\n",
       "      <td>69.0</td>\n",
       "      <td>73.0</td>\n",
       "      <td>8 days</td>\n",
       "      <td>3</td>\n",
       "    </tr>\n",
       "    <tr>\n",
       "      <th>18597</th>\n",
       "      <td>MAMA'S DAUGHTER'S DINER</td>\n",
       "      <td>Routine</td>\n",
       "      <td>2018-02-07</td>\n",
       "      <td>2610</td>\n",
       "      <td>ROYAL</td>\n",
       "      <td></td>\n",
       "      <td>LN</td>\n",
       "      <td></td>\n",
       "      <td>2610 ROYAL LN</td>\n",
       "      <td>75229</td>\n",
       "      <td>...</td>\n",
       "      <td></td>\n",
       "      <td></td>\n",
       "      <td></td>\n",
       "      <td>Feb 2018</td>\n",
       "      <td>FY2018</td>\n",
       "      <td>2610 ROYAL LN\\n(32.446632, -97.701097)</td>\n",
       "      <td>73.0</td>\n",
       "      <td>63.0</td>\n",
       "      <td>14 days</td>\n",
       "      <td>4</td>\n",
       "    </tr>\n",
       "    <tr>\n",
       "      <th>18776</th>\n",
       "      <td>MAMA'S DAUGHTER'S DINER</td>\n",
       "      <td>Routine</td>\n",
       "      <td>2018-02-10</td>\n",
       "      <td>2014</td>\n",
       "      <td>IRVING</td>\n",
       "      <td></td>\n",
       "      <td>BLVD</td>\n",
       "      <td></td>\n",
       "      <td>2014 IRVING BLVD</td>\n",
       "      <td>75207</td>\n",
       "      <td>...</td>\n",
       "      <td></td>\n",
       "      <td></td>\n",
       "      <td></td>\n",
       "      <td>Feb 2018</td>\n",
       "      <td>FY2018</td>\n",
       "      <td>2014 IRVING BLVD\\n(32.795151, -96.828667)</td>\n",
       "      <td>90.0</td>\n",
       "      <td>83.0</td>\n",
       "      <td>178 days</td>\n",
       "      <td>1</td>\n",
       "    </tr>\n",
       "    <tr>\n",
       "      <th>19716</th>\n",
       "      <td>MAMA'S DAUGHTER'S DINER</td>\n",
       "      <td>Routine</td>\n",
       "      <td>2018-03-07</td>\n",
       "      <td>2610</td>\n",
       "      <td>ROYAL</td>\n",
       "      <td></td>\n",
       "      <td>LN</td>\n",
       "      <td></td>\n",
       "      <td>2610 ROYAL LN</td>\n",
       "      <td>75229</td>\n",
       "      <td>...</td>\n",
       "      <td></td>\n",
       "      <td></td>\n",
       "      <td></td>\n",
       "      <td>Mar 2018</td>\n",
       "      <td>FY2018</td>\n",
       "      <td>2610 ROYAL LN\\n(32.446632, -97.701097)</td>\n",
       "      <td>63.0</td>\n",
       "      <td>57.0</td>\n",
       "      <td>28 days</td>\n",
       "      <td>5</td>\n",
       "    </tr>\n",
       "    <tr>\n",
       "      <th>20114</th>\n",
       "      <td>MAMA'S DAUGHTER'S DINER</td>\n",
       "      <td>Routine</td>\n",
       "      <td>2018-03-17</td>\n",
       "      <td>2610</td>\n",
       "      <td>ROYAL</td>\n",
       "      <td></td>\n",
       "      <td>LN</td>\n",
       "      <td></td>\n",
       "      <td>2610 ROYAL LN</td>\n",
       "      <td>75229</td>\n",
       "      <td>...</td>\n",
       "      <td></td>\n",
       "      <td></td>\n",
       "      <td></td>\n",
       "      <td>Mar 2018</td>\n",
       "      <td>FY2018</td>\n",
       "      <td>2610 ROYAL LN\\n(32.446632, -97.701097)</td>\n",
       "      <td>57.0</td>\n",
       "      <td>63.0</td>\n",
       "      <td>10 days</td>\n",
       "      <td>6</td>\n",
       "    </tr>\n",
       "    <tr>\n",
       "      <th>20124</th>\n",
       "      <td>MAMA'S DAUGHTER'S DINER</td>\n",
       "      <td>Routine</td>\n",
       "      <td>2018-03-18</td>\n",
       "      <td>2610</td>\n",
       "      <td>ROYAL</td>\n",
       "      <td></td>\n",
       "      <td>LN</td>\n",
       "      <td></td>\n",
       "      <td>2610 ROYAL LN</td>\n",
       "      <td>75229</td>\n",
       "      <td>...</td>\n",
       "      <td></td>\n",
       "      <td></td>\n",
       "      <td></td>\n",
       "      <td>Mar 2018</td>\n",
       "      <td>FY2018</td>\n",
       "      <td>2610 ROYAL LN\\n(32.446632, -97.701097)</td>\n",
       "      <td>63.0</td>\n",
       "      <td>81.0</td>\n",
       "      <td>1 days</td>\n",
       "      <td>7</td>\n",
       "    </tr>\n",
       "    <tr>\n",
       "      <th>20724</th>\n",
       "      <td>MAMA'S DAUGHTER'S DINER</td>\n",
       "      <td>Routine</td>\n",
       "      <td>2018-03-28</td>\n",
       "      <td>2610</td>\n",
       "      <td>ROYAL</td>\n",
       "      <td></td>\n",
       "      <td>LN</td>\n",
       "      <td></td>\n",
       "      <td>2610 ROYAL LN</td>\n",
       "      <td>75229</td>\n",
       "      <td>...</td>\n",
       "      <td></td>\n",
       "      <td></td>\n",
       "      <td></td>\n",
       "      <td>Mar 2018</td>\n",
       "      <td>FY2018</td>\n",
       "      <td>2610 ROYAL LN\\n(32.446632, -97.701097)</td>\n",
       "      <td>81.0</td>\n",
       "      <td>71.0</td>\n",
       "      <td>10 days</td>\n",
       "      <td>8</td>\n",
       "    </tr>\n",
       "    <tr>\n",
       "      <th>25126</th>\n",
       "      <td>MAMA'S DAUGHTER'S DINER</td>\n",
       "      <td>Routine</td>\n",
       "      <td>2018-07-20</td>\n",
       "      <td>2610</td>\n",
       "      <td>ROYAL</td>\n",
       "      <td></td>\n",
       "      <td>LN</td>\n",
       "      <td></td>\n",
       "      <td>2610 ROYAL LN</td>\n",
       "      <td>75229</td>\n",
       "      <td>...</td>\n",
       "      <td></td>\n",
       "      <td></td>\n",
       "      <td></td>\n",
       "      <td>Jul 2018</td>\n",
       "      <td>FY2018</td>\n",
       "      <td>2610 ROYAL LN\\n(32.446632, -97.701097)</td>\n",
       "      <td>71.0</td>\n",
       "      <td>81.0</td>\n",
       "      <td>114 days</td>\n",
       "      <td>9</td>\n",
       "    </tr>\n",
       "    <tr>\n",
       "      <th>26591</th>\n",
       "      <td>MAMA'S DAUGHTER'S DINER</td>\n",
       "      <td>Routine</td>\n",
       "      <td>2018-08-28</td>\n",
       "      <td>2014</td>\n",
       "      <td>IRVING</td>\n",
       "      <td></td>\n",
       "      <td>BLVD</td>\n",
       "      <td></td>\n",
       "      <td>2014 IRVING BLVD</td>\n",
       "      <td>75207</td>\n",
       "      <td>...</td>\n",
       "      <td></td>\n",
       "      <td></td>\n",
       "      <td></td>\n",
       "      <td>Aug 2018</td>\n",
       "      <td>FY2018</td>\n",
       "      <td>2014 IRVING BLVD\\n(32.795151, -96.828667)</td>\n",
       "      <td>83.0</td>\n",
       "      <td>90.0</td>\n",
       "      <td>199 days</td>\n",
       "      <td>2</td>\n",
       "    </tr>\n",
       "    <tr>\n",
       "      <th>26760</th>\n",
       "      <td>MAMA'S DAUGHTER'S DINER</td>\n",
       "      <td>Routine</td>\n",
       "      <td>2018-08-30</td>\n",
       "      <td>2610</td>\n",
       "      <td>ROYAL</td>\n",
       "      <td></td>\n",
       "      <td>LN</td>\n",
       "      <td></td>\n",
       "      <td>2610 ROYAL LN</td>\n",
       "      <td>75229</td>\n",
       "      <td>...</td>\n",
       "      <td></td>\n",
       "      <td></td>\n",
       "      <td></td>\n",
       "      <td>Aug 2018</td>\n",
       "      <td>FY2018</td>\n",
       "      <td>2610 ROYAL LN\\n(32.446632, -97.701097)</td>\n",
       "      <td>81.0</td>\n",
       "      <td>77.0</td>\n",
       "      <td>41 days</td>\n",
       "      <td>10</td>\n",
       "    </tr>\n",
       "    <tr>\n",
       "      <th>32182</th>\n",
       "      <td>MAMA'S DAUGHTER'S DINER</td>\n",
       "      <td>Routine</td>\n",
       "      <td>2019-01-24</td>\n",
       "      <td>2610</td>\n",
       "      <td>ROYAL</td>\n",
       "      <td></td>\n",
       "      <td>LN</td>\n",
       "      <td></td>\n",
       "      <td>2610 ROYAL LN</td>\n",
       "      <td>75229</td>\n",
       "      <td>...</td>\n",
       "      <td></td>\n",
       "      <td></td>\n",
       "      <td></td>\n",
       "      <td>Jan 2019</td>\n",
       "      <td>FY2019</td>\n",
       "      <td>2610 ROYAL LN\\n(32.446632, -97.701097)</td>\n",
       "      <td>77.0</td>\n",
       "      <td>75.0</td>\n",
       "      <td>147 days</td>\n",
       "      <td>1</td>\n",
       "    </tr>\n",
       "    <tr>\n",
       "      <th>33095</th>\n",
       "      <td>MAMA'S DAUGHTER'S DINER</td>\n",
       "      <td>Routine</td>\n",
       "      <td>2019-02-15</td>\n",
       "      <td>2014</td>\n",
       "      <td>IRVING</td>\n",
       "      <td></td>\n",
       "      <td>BLVD</td>\n",
       "      <td></td>\n",
       "      <td>2014 IRVING BLVD</td>\n",
       "      <td>75207</td>\n",
       "      <td>...</td>\n",
       "      <td></td>\n",
       "      <td></td>\n",
       "      <td></td>\n",
       "      <td>Feb 2019</td>\n",
       "      <td>FY2019</td>\n",
       "      <td>2014 IRVING BLVD\\n(32.795151, -96.828667)</td>\n",
       "      <td>90.0</td>\n",
       "      <td>89.0</td>\n",
       "      <td>171 days</td>\n",
       "      <td>1</td>\n",
       "    </tr>\n",
       "    <tr>\n",
       "      <th>33659</th>\n",
       "      <td>MAMA'S DAUGHTER'S DINER</td>\n",
       "      <td>Routine</td>\n",
       "      <td>2019-03-03</td>\n",
       "      <td>2610</td>\n",
       "      <td>ROYAL</td>\n",
       "      <td></td>\n",
       "      <td>LN</td>\n",
       "      <td></td>\n",
       "      <td>2610 ROYAL LN</td>\n",
       "      <td>75229</td>\n",
       "      <td>...</td>\n",
       "      <td></td>\n",
       "      <td></td>\n",
       "      <td></td>\n",
       "      <td>Mar 2019</td>\n",
       "      <td>FY2019</td>\n",
       "      <td>2610 ROYAL LN\\n(32.446632, -97.701097)</td>\n",
       "      <td>75.0</td>\n",
       "      <td>81.0</td>\n",
       "      <td>38 days</td>\n",
       "      <td>2</td>\n",
       "    </tr>\n",
       "    <tr>\n",
       "      <th>34497</th>\n",
       "      <td>MAMA'S DAUGHTER'S DINER</td>\n",
       "      <td>Routine</td>\n",
       "      <td>2019-03-27</td>\n",
       "      <td>2610</td>\n",
       "      <td>ROYAL</td>\n",
       "      <td></td>\n",
       "      <td>LN</td>\n",
       "      <td></td>\n",
       "      <td>2610 ROYAL LN</td>\n",
       "      <td>75229</td>\n",
       "      <td>...</td>\n",
       "      <td></td>\n",
       "      <td></td>\n",
       "      <td></td>\n",
       "      <td>Mar 2019</td>\n",
       "      <td>FY2019</td>\n",
       "      <td>2610 ROYAL LN\\n(32.446632, -97.701097)</td>\n",
       "      <td>81.0</td>\n",
       "      <td>84.0</td>\n",
       "      <td>24 days</td>\n",
       "      <td>3</td>\n",
       "    </tr>\n",
       "    <tr>\n",
       "      <th>37251</th>\n",
       "      <td>MAMA'S DAUGHTER'S DINER</td>\n",
       "      <td>Routine</td>\n",
       "      <td>2019-07-12</td>\n",
       "      <td>2610</td>\n",
       "      <td>ROYAL</td>\n",
       "      <td></td>\n",
       "      <td>LN</td>\n",
       "      <td></td>\n",
       "      <td>2610 ROYAL LN</td>\n",
       "      <td>75229</td>\n",
       "      <td>...</td>\n",
       "      <td></td>\n",
       "      <td></td>\n",
       "      <td></td>\n",
       "      <td>Jul 2019</td>\n",
       "      <td>FY2019</td>\n",
       "      <td>2610 ROYAL LN\\n(32.446632, -97.701097)</td>\n",
       "      <td>84.0</td>\n",
       "      <td>82.0</td>\n",
       "      <td>107 days</td>\n",
       "      <td>4</td>\n",
       "    </tr>\n",
       "    <tr>\n",
       "      <th>38049</th>\n",
       "      <td>MAMA'S DAUGHTER'S DINER</td>\n",
       "      <td>Routine</td>\n",
       "      <td>2019-08-19</td>\n",
       "      <td>2014</td>\n",
       "      <td>IRVING</td>\n",
       "      <td></td>\n",
       "      <td>BLVD</td>\n",
       "      <td></td>\n",
       "      <td>2014 IRVING BLVD</td>\n",
       "      <td>75207</td>\n",
       "      <td>...</td>\n",
       "      <td></td>\n",
       "      <td></td>\n",
       "      <td></td>\n",
       "      <td>Aug 2019</td>\n",
       "      <td>FY2019</td>\n",
       "      <td>2014 IRVING BLVD\\n(32.795151, -96.828667)</td>\n",
       "      <td>89.0</td>\n",
       "      <td>82.0</td>\n",
       "      <td>185 days</td>\n",
       "      <td>2</td>\n",
       "    </tr>\n",
       "    <tr>\n",
       "      <th>42911</th>\n",
       "      <td>MAMA'S DAUGHTER'S DINER</td>\n",
       "      <td>Routine</td>\n",
       "      <td>2020-02-05</td>\n",
       "      <td>2014</td>\n",
       "      <td>IRVING</td>\n",
       "      <td></td>\n",
       "      <td>BLVD</td>\n",
       "      <td></td>\n",
       "      <td>2014 IRVING BLVD</td>\n",
       "      <td>75207</td>\n",
       "      <td>...</td>\n",
       "      <td></td>\n",
       "      <td></td>\n",
       "      <td></td>\n",
       "      <td>Feb 2020</td>\n",
       "      <td>FY2020</td>\n",
       "      <td>2014 IRVING BLVD\\n(32.795151, -96.828667)</td>\n",
       "      <td>82.0</td>\n",
       "      <td>NaN</td>\n",
       "      <td>170 days</td>\n",
       "      <td>1</td>\n",
       "    </tr>\n",
       "    <tr>\n",
       "      <th>43574</th>\n",
       "      <td>MAMA'S DAUGHTER'S DINER</td>\n",
       "      <td>Routine</td>\n",
       "      <td>2020-02-26</td>\n",
       "      <td>2610</td>\n",
       "      <td>ROYAL</td>\n",
       "      <td></td>\n",
       "      <td>LN</td>\n",
       "      <td></td>\n",
       "      <td>2610 ROYAL LN</td>\n",
       "      <td>75229</td>\n",
       "      <td>...</td>\n",
       "      <td></td>\n",
       "      <td></td>\n",
       "      <td></td>\n",
       "      <td>Feb 2020</td>\n",
       "      <td>FY2020</td>\n",
       "      <td>2610 ROYAL LN\\n(32.446632, -97.701097)</td>\n",
       "      <td>82.0</td>\n",
       "      <td>NaN</td>\n",
       "      <td>229 days</td>\n",
       "      <td>1</td>\n",
       "    </tr>\n",
       "  </tbody>\n",
       "</table>\n",
       "<p>24 rows × 92 columns</p>\n",
       "</div>"
      ],
      "text/plain": [
       "               Restaurant Name Inspection Type Inspection Date  Street Number  \\\n",
       "3754   MAMA'S DAUGHTER'S DINER         Routine      2017-01-10           2610   \n",
       "4770   MAMA'S DAUGHTER'S DINER         Routine      2017-02-06           2014   \n",
       "10415  MAMA'S DAUGHTER'S DINER         Routine      2017-06-30           2610   \n",
       "12022  MAMA'S DAUGHTER'S DINER         Routine      2017-08-16           2014   \n",
       "16941  MAMA'S DAUGHTER'S DINER         Routine      2017-12-22           2610   \n",
       "17696  MAMA'S DAUGHTER'S DINER         Routine      2018-01-16           2610   \n",
       "18059  MAMA'S DAUGHTER'S DINER         Routine      2018-01-24           2610   \n",
       "18597  MAMA'S DAUGHTER'S DINER         Routine      2018-02-07           2610   \n",
       "18776  MAMA'S DAUGHTER'S DINER         Routine      2018-02-10           2014   \n",
       "19716  MAMA'S DAUGHTER'S DINER         Routine      2018-03-07           2610   \n",
       "20114  MAMA'S DAUGHTER'S DINER         Routine      2018-03-17           2610   \n",
       "20124  MAMA'S DAUGHTER'S DINER         Routine      2018-03-18           2610   \n",
       "20724  MAMA'S DAUGHTER'S DINER         Routine      2018-03-28           2610   \n",
       "25126  MAMA'S DAUGHTER'S DINER         Routine      2018-07-20           2610   \n",
       "26591  MAMA'S DAUGHTER'S DINER         Routine      2018-08-28           2014   \n",
       "26760  MAMA'S DAUGHTER'S DINER         Routine      2018-08-30           2610   \n",
       "32182  MAMA'S DAUGHTER'S DINER         Routine      2019-01-24           2610   \n",
       "33095  MAMA'S DAUGHTER'S DINER         Routine      2019-02-15           2014   \n",
       "33659  MAMA'S DAUGHTER'S DINER         Routine      2019-03-03           2610   \n",
       "34497  MAMA'S DAUGHTER'S DINER         Routine      2019-03-27           2610   \n",
       "37251  MAMA'S DAUGHTER'S DINER         Routine      2019-07-12           2610   \n",
       "38049  MAMA'S DAUGHTER'S DINER         Routine      2019-08-19           2014   \n",
       "42911  MAMA'S DAUGHTER'S DINER         Routine      2020-02-05           2014   \n",
       "43574  MAMA'S DAUGHTER'S DINER         Routine      2020-02-26           2610   \n",
       "\n",
       "      Street Name Street Direction Street Type Street Unit    Street Address  \\\n",
       "3754        ROYAL                           LN                 2610 ROYAL LN   \n",
       "4770       IRVING                         BLVD              2014 IRVING BLVD   \n",
       "10415       ROYAL                           LN                 2610 ROYAL LN   \n",
       "12022      IRVING                         BLVD              2014 IRVING BLVD   \n",
       "16941       ROYAL                           LN                 2610 ROYAL LN   \n",
       "17696       ROYAL                           LN                 2610 ROYAL LN   \n",
       "18059       ROYAL                           LN                 2610 ROYAL LN   \n",
       "18597       ROYAL                           LN                 2610 ROYAL LN   \n",
       "18776      IRVING                         BLVD              2014 IRVING BLVD   \n",
       "19716       ROYAL                           LN                 2610 ROYAL LN   \n",
       "20114       ROYAL                           LN                 2610 ROYAL LN   \n",
       "20124       ROYAL                           LN                 2610 ROYAL LN   \n",
       "20724       ROYAL                           LN                 2610 ROYAL LN   \n",
       "25126       ROYAL                           LN                 2610 ROYAL LN   \n",
       "26591      IRVING                         BLVD              2014 IRVING BLVD   \n",
       "26760       ROYAL                           LN                 2610 ROYAL LN   \n",
       "32182       ROYAL                           LN                 2610 ROYAL LN   \n",
       "33095      IRVING                         BLVD              2014 IRVING BLVD   \n",
       "33659       ROYAL                           LN                 2610 ROYAL LN   \n",
       "34497       ROYAL                           LN                 2610 ROYAL LN   \n",
       "37251       ROYAL                           LN                 2610 ROYAL LN   \n",
       "38049      IRVING                         BLVD              2014 IRVING BLVD   \n",
       "42911      IRVING                         BLVD              2014 IRVING BLVD   \n",
       "43574       ROYAL                           LN                 2610 ROYAL LN   \n",
       "\n",
       "      Zip Code  ... Violation Description - 25 Violation Detail - 25  \\\n",
       "3754     75229  ...                                                    \n",
       "4770     75207  ...                                                    \n",
       "10415    75229  ...                                                    \n",
       "12022    75207  ...                                                    \n",
       "16941    75229  ...                                                    \n",
       "17696    75229  ...                                                    \n",
       "18059    75229  ...                                                    \n",
       "18597    75229  ...                                                    \n",
       "18776    75207  ...                                                    \n",
       "19716    75229  ...                                                    \n",
       "20114    75229  ...                                                    \n",
       "20124    75229  ...                                                    \n",
       "20724    75229  ...                                                    \n",
       "25126    75229  ...                                                    \n",
       "26591    75207  ...                                                    \n",
       "26760    75229  ...                                                    \n",
       "32182    75229  ...                                                    \n",
       "33095    75207  ...                                                    \n",
       "33659    75229  ...                                                    \n",
       "34497    75229  ...                                                    \n",
       "37251    75229  ...                                                    \n",
       "38049    75207  ...                                                    \n",
       "42911    75207  ...                                                    \n",
       "43574    75229  ...                                                    \n",
       "\n",
       "      Violation Memo - 25 Inspection Month Inspection Year  \\\n",
       "3754                              Jan 2017          FY2017   \n",
       "4770                              Feb 2017          FY2017   \n",
       "10415                             Jun 2017          FY2017   \n",
       "12022                             Aug 2017          FY2017   \n",
       "16941                             Dec 2017          FY2018   \n",
       "17696                             Jan 2018          FY2018   \n",
       "18059                             Jan 2018          FY2018   \n",
       "18597                             Feb 2018          FY2018   \n",
       "18776                             Feb 2018          FY2018   \n",
       "19716                             Mar 2018          FY2018   \n",
       "20114                             Mar 2018          FY2018   \n",
       "20124                             Mar 2018          FY2018   \n",
       "20724                             Mar 2018          FY2018   \n",
       "25126                             Jul 2018          FY2018   \n",
       "26591                             Aug 2018          FY2018   \n",
       "26760                             Aug 2018          FY2018   \n",
       "32182                             Jan 2019          FY2019   \n",
       "33095                             Feb 2019          FY2019   \n",
       "33659                             Mar 2019          FY2019   \n",
       "34497                             Mar 2019          FY2019   \n",
       "37251                             Jul 2019          FY2019   \n",
       "38049                             Aug 2019          FY2019   \n",
       "42911                             Feb 2020          FY2020   \n",
       "43574                             Feb 2020          FY2020   \n",
       "\n",
       "                               Lat Long Location calculated_score  \\\n",
       "3754      2610 ROYAL LN\\n(32.446632, -97.701097)             95.0   \n",
       "4770   2014 IRVING BLVD\\n(32.795151, -96.828667)             85.0   \n",
       "10415     2610 ROYAL LN\\n(32.446632, -97.701097)             89.0   \n",
       "12022  2014 IRVING BLVD\\n(32.795151, -96.828667)             86.0   \n",
       "16941     2610 ROYAL LN\\n(32.446632, -97.701097)             67.0   \n",
       "17696     2610 ROYAL LN\\n(32.446632, -97.701097)             75.0   \n",
       "18059     2610 ROYAL LN\\n(32.446632, -97.701097)             69.0   \n",
       "18597     2610 ROYAL LN\\n(32.446632, -97.701097)             73.0   \n",
       "18776  2014 IRVING BLVD\\n(32.795151, -96.828667)             90.0   \n",
       "19716     2610 ROYAL LN\\n(32.446632, -97.701097)             63.0   \n",
       "20114     2610 ROYAL LN\\n(32.446632, -97.701097)             57.0   \n",
       "20124     2610 ROYAL LN\\n(32.446632, -97.701097)             63.0   \n",
       "20724     2610 ROYAL LN\\n(32.446632, -97.701097)             81.0   \n",
       "25126     2610 ROYAL LN\\n(32.446632, -97.701097)             71.0   \n",
       "26591  2014 IRVING BLVD\\n(32.795151, -96.828667)             83.0   \n",
       "26760     2610 ROYAL LN\\n(32.446632, -97.701097)             81.0   \n",
       "32182     2610 ROYAL LN\\n(32.446632, -97.701097)             77.0   \n",
       "33095  2014 IRVING BLVD\\n(32.795151, -96.828667)             90.0   \n",
       "33659     2610 ROYAL LN\\n(32.446632, -97.701097)             75.0   \n",
       "34497     2610 ROYAL LN\\n(32.446632, -97.701097)             81.0   \n",
       "37251     2610 ROYAL LN\\n(32.446632, -97.701097)             84.0   \n",
       "38049  2014 IRVING BLVD\\n(32.795151, -96.828667)             89.0   \n",
       "42911  2014 IRVING BLVD\\n(32.795151, -96.828667)             82.0   \n",
       "43574     2610 ROYAL LN\\n(32.446632, -97.701097)             82.0   \n",
       "\n",
       "      next_inspection_score days_since_last_insp inspection_count  \n",
       "3754                   89.0                  NaT                1  \n",
       "4770                   86.0                  NaT                1  \n",
       "10415                  67.0             171 days                2  \n",
       "12022                  90.0             191 days                2  \n",
       "16941                  75.0             175 days                1  \n",
       "17696                  69.0              25 days                2  \n",
       "18059                  73.0               8 days                3  \n",
       "18597                  63.0              14 days                4  \n",
       "18776                  83.0             178 days                1  \n",
       "19716                  57.0              28 days                5  \n",
       "20114                  63.0              10 days                6  \n",
       "20124                  81.0               1 days                7  \n",
       "20724                  71.0              10 days                8  \n",
       "25126                  81.0             114 days                9  \n",
       "26591                  90.0             199 days                2  \n",
       "26760                  77.0              41 days               10  \n",
       "32182                  75.0             147 days                1  \n",
       "33095                  89.0             171 days                1  \n",
       "33659                  81.0              38 days                2  \n",
       "34497                  84.0              24 days                3  \n",
       "37251                  82.0             107 days                4  \n",
       "38049                  82.0             185 days                2  \n",
       "42911                   NaN             170 days                1  \n",
       "43574                   NaN             229 days                1  \n",
       "\n",
       "[24 rows x 92 columns]"
      ]
     },
     "execution_count": 21,
     "metadata": {},
     "output_type": "execute_result"
    }
   ],
   "source": [
    "df.loc[df['Restaurant Name'] == \"MAMA'S DAUGHTER'S DINER\"]"
   ]
  },
  {
   "cell_type": "markdown",
   "metadata": {},
   "source": [
    "Even though we know these are follow-up visits, they are not being listed as follow-up.  Since I am looking to predict the future score, I will drop that column."
   ]
  },
  {
   "cell_type": "code",
   "execution_count": 22,
   "metadata": {},
   "outputs": [],
   "source": [
    "df.drop(columns= 'Inspection Type', inplace = True)"
   ]
  },
  {
   "cell_type": "code",
   "execution_count": 23,
   "metadata": {},
   "outputs": [
    {
     "data": {
      "text/plain": [
       "days_since_last_insp    8483\n",
       "dtype: int64"
      ]
     },
     "execution_count": 23,
     "metadata": {},
     "output_type": "execute_result"
    }
   ],
   "source": [
    "df.isnull().sum().sort_values().tail(1)"
   ]
  },
  {
   "cell_type": "markdown",
   "metadata": {},
   "source": [
    "Even though we want to prevent data loss, the act of trying to predict the next inspection score makes us have to lag our data.  As we saw previously, I did a lag of one, so I have to drop every restaurant's first score."
   ]
  },
  {
   "cell_type": "code",
   "execution_count": 24,
   "metadata": {},
   "outputs": [],
   "source": [
    "df.dropna(inplace = True)\n",
    "\n",
    "df.reset_index(inplace= True)\n",
    "\n",
    "df.drop(columns = 'index', inplace = True)"
   ]
  },
  {
   "cell_type": "code",
   "execution_count": 25,
   "metadata": {},
   "outputs": [],
   "source": [
    "string_cols = df.dtypes.loc[df.dtypes.values == 'object'].index"
   ]
  },
  {
   "cell_type": "code",
   "execution_count": 26,
   "metadata": {},
   "outputs": [],
   "source": [
    "str_to_drop = string_cols[1:6]"
   ]
  },
  {
   "cell_type": "code",
   "execution_count": 27,
   "metadata": {},
   "outputs": [],
   "source": [
    "df.drop(columns = str_to_drop, inplace = True)"
   ]
  },
  {
   "cell_type": "code",
   "execution_count": 28,
   "metadata": {},
   "outputs": [],
   "source": [
    "df.drop(columns = df.columns[2:3], inplace = True)"
   ]
  },
  {
   "cell_type": "code",
   "execution_count": 29,
   "metadata": {},
   "outputs": [],
   "source": [
    "string_cols = df.dtypes.loc[df.dtypes.values == 'object'].index"
   ]
  },
  {
   "cell_type": "code",
   "execution_count": 30,
   "metadata": {},
   "outputs": [],
   "source": [
    "df['alltext'] = df[string_cols[:-1]].apply(\n",
    "    lambda x: ' '.join(x.dropna().astype(str)), axis = 1)\n",
    "\n",
    "# code is from Ed Chum on https://stackoverflow.com/questions/33098383/merge-multiple-column-values-into-one-column-in-python-pandas\n"
   ]
  },
  {
   "cell_type": "code",
   "execution_count": 31,
   "metadata": {
    "scrolled": false
   },
   "outputs": [],
   "source": [
    "df.drop(columns = string_cols, inplace=True)"
   ]
  },
  {
   "cell_type": "code",
   "execution_count": 32,
   "metadata": {},
   "outputs": [
    {
     "data": {
      "text/html": [
       "<div>\n",
       "<style scoped>\n",
       "    .dataframe tbody tr th:only-of-type {\n",
       "        vertical-align: middle;\n",
       "    }\n",
       "\n",
       "    .dataframe tbody tr th {\n",
       "        vertical-align: top;\n",
       "    }\n",
       "\n",
       "    .dataframe thead th {\n",
       "        text-align: right;\n",
       "    }\n",
       "</style>\n",
       "<table border=\"1\" class=\"dataframe\">\n",
       "  <thead>\n",
       "    <tr style=\"text-align: right;\">\n",
       "      <th></th>\n",
       "      <th>Inspection Date</th>\n",
       "      <th>calculated_score</th>\n",
       "      <th>next_inspection_score</th>\n",
       "      <th>days_since_last_insp</th>\n",
       "      <th>inspection_count</th>\n",
       "      <th>alltext</th>\n",
       "    </tr>\n",
       "  </thead>\n",
       "  <tbody>\n",
       "    <tr>\n",
       "      <th>0</th>\n",
       "      <td>2016-10-04</td>\n",
       "      <td>96.0</td>\n",
       "      <td>100.0</td>\n",
       "      <td>0 days</td>\n",
       "      <td>2</td>\n",
       "      <td>LA AZTECA MEAT MARKET GROCERY 75220 *25 Contro...</td>\n",
       "    </tr>\n",
       "    <tr>\n",
       "      <th>1</th>\n",
       "      <td>2016-10-05</td>\n",
       "      <td>97.0</td>\n",
       "      <td>94.0</td>\n",
       "      <td>0 days</td>\n",
       "      <td>2</td>\n",
       "      <td>TIENDA HISPANO 75203 *45 Walls and ceilings, s...</td>\n",
       "    </tr>\n",
       "    <tr>\n",
       "      <th>2</th>\n",
       "      <td>2016-10-10</td>\n",
       "      <td>91.0</td>\n",
       "      <td>90.0</td>\n",
       "      <td>0 days</td>\n",
       "      <td>2</td>\n",
       "      <td>THE MERCURY GRILL 75230 *35 Eating food, chewi...</td>\n",
       "    </tr>\n",
       "    <tr>\n",
       "      <th>3</th>\n",
       "      <td>2016-10-13</td>\n",
       "      <td>80.0</td>\n",
       "      <td>81.0</td>\n",
       "      <td>7 days</td>\n",
       "      <td>2</td>\n",
       "      <td>SPRING CREEK BARBEQUE 75230 *19 Backflow preve...</td>\n",
       "    </tr>\n",
       "    <tr>\n",
       "      <th>4</th>\n",
       "      <td>2016-10-14</td>\n",
       "      <td>81.0</td>\n",
       "      <td>73.0</td>\n",
       "      <td>11 days</td>\n",
       "      <td>2</td>\n",
       "      <td>MI HONDURAS 75229 *01 Cooling -- within 2 hour...</td>\n",
       "    </tr>\n",
       "  </tbody>\n",
       "</table>\n",
       "</div>"
      ],
      "text/plain": [
       "  Inspection Date  calculated_score  next_inspection_score  \\\n",
       "0      2016-10-04              96.0                  100.0   \n",
       "1      2016-10-05              97.0                   94.0   \n",
       "2      2016-10-10              91.0                   90.0   \n",
       "3      2016-10-13              80.0                   81.0   \n",
       "4      2016-10-14              81.0                   73.0   \n",
       "\n",
       "  days_since_last_insp  inspection_count  \\\n",
       "0               0 days                 2   \n",
       "1               0 days                 2   \n",
       "2               0 days                 2   \n",
       "3               7 days                 2   \n",
       "4              11 days                 2   \n",
       "\n",
       "                                             alltext  \n",
       "0  LA AZTECA MEAT MARKET GROCERY 75220 *25 Contro...  \n",
       "1  TIENDA HISPANO 75203 *45 Walls and ceilings, s...  \n",
       "2  THE MERCURY GRILL 75230 *35 Eating food, chewi...  \n",
       "3  SPRING CREEK BARBEQUE 75230 *19 Backflow preve...  \n",
       "4  MI HONDURAS 75229 *01 Cooling -- within 2 hour...  "
      ]
     },
     "execution_count": 32,
     "metadata": {},
     "output_type": "execute_result"
    }
   ],
   "source": [
    "df.head()"
   ]
  },
  {
   "cell_type": "code",
   "execution_count": 33,
   "metadata": {},
   "outputs": [],
   "source": [
    "letter_grades = []\n",
    "\n",
    "for i in df['next_inspection_score']:\n",
    "    if i < 60:\n",
    "        letter_grades.append('F')\n",
    "    if i >= 60 and i < 70:\n",
    "        letter_grades.append('D')\n",
    "    if i >= 70 and i < 80:\n",
    "        letter_grades.append('C')\n",
    "    if i >= 80 and i < 90:\n",
    "        letter_grades.append('B')\n",
    "    if i >= 90:\n",
    "        letter_grades.append('A')\n",
    "\n"
   ]
  },
  {
   "cell_type": "code",
   "execution_count": 34,
   "metadata": {},
   "outputs": [],
   "source": [
    "df['next_inspection_grade'] = letter_grades"
   ]
  },
  {
   "cell_type": "code",
   "execution_count": 35,
   "metadata": {},
   "outputs": [
    {
     "data": {
      "text/html": [
       "<div>\n",
       "<style scoped>\n",
       "    .dataframe tbody tr th:only-of-type {\n",
       "        vertical-align: middle;\n",
       "    }\n",
       "\n",
       "    .dataframe tbody tr th {\n",
       "        vertical-align: top;\n",
       "    }\n",
       "\n",
       "    .dataframe thead th {\n",
       "        text-align: right;\n",
       "    }\n",
       "</style>\n",
       "<table border=\"1\" class=\"dataframe\">\n",
       "  <thead>\n",
       "    <tr style=\"text-align: right;\">\n",
       "      <th></th>\n",
       "      <th>Inspection Date</th>\n",
       "      <th>calculated_score</th>\n",
       "      <th>next_inspection_score</th>\n",
       "      <th>days_since_last_insp</th>\n",
       "      <th>inspection_count</th>\n",
       "      <th>alltext</th>\n",
       "      <th>next_inspection_grade</th>\n",
       "    </tr>\n",
       "  </thead>\n",
       "  <tbody>\n",
       "    <tr>\n",
       "      <th>0</th>\n",
       "      <td>2016-10-04</td>\n",
       "      <td>96.0</td>\n",
       "      <td>100.0</td>\n",
       "      <td>0 days</td>\n",
       "      <td>2</td>\n",
       "      <td>LA AZTECA MEAT MARKET GROCERY 75220 *25 Contro...</td>\n",
       "      <td>A</td>\n",
       "    </tr>\n",
       "    <tr>\n",
       "      <th>1</th>\n",
       "      <td>2016-10-05</td>\n",
       "      <td>97.0</td>\n",
       "      <td>94.0</td>\n",
       "      <td>0 days</td>\n",
       "      <td>2</td>\n",
       "      <td>TIENDA HISPANO 75203 *45 Walls and ceilings, s...</td>\n",
       "      <td>A</td>\n",
       "    </tr>\n",
       "    <tr>\n",
       "      <th>2</th>\n",
       "      <td>2016-10-10</td>\n",
       "      <td>91.0</td>\n",
       "      <td>90.0</td>\n",
       "      <td>0 days</td>\n",
       "      <td>2</td>\n",
       "      <td>THE MERCURY GRILL 75230 *35 Eating food, chewi...</td>\n",
       "      <td>A</td>\n",
       "    </tr>\n",
       "    <tr>\n",
       "      <th>3</th>\n",
       "      <td>2016-10-13</td>\n",
       "      <td>80.0</td>\n",
       "      <td>81.0</td>\n",
       "      <td>7 days</td>\n",
       "      <td>2</td>\n",
       "      <td>SPRING CREEK BARBEQUE 75230 *19 Backflow preve...</td>\n",
       "      <td>B</td>\n",
       "    </tr>\n",
       "    <tr>\n",
       "      <th>4</th>\n",
       "      <td>2016-10-14</td>\n",
       "      <td>81.0</td>\n",
       "      <td>73.0</td>\n",
       "      <td>11 days</td>\n",
       "      <td>2</td>\n",
       "      <td>MI HONDURAS 75229 *01 Cooling -- within 2 hour...</td>\n",
       "      <td>C</td>\n",
       "    </tr>\n",
       "  </tbody>\n",
       "</table>\n",
       "</div>"
      ],
      "text/plain": [
       "  Inspection Date  calculated_score  next_inspection_score  \\\n",
       "0      2016-10-04              96.0                  100.0   \n",
       "1      2016-10-05              97.0                   94.0   \n",
       "2      2016-10-10              91.0                   90.0   \n",
       "3      2016-10-13              80.0                   81.0   \n",
       "4      2016-10-14              81.0                   73.0   \n",
       "\n",
       "  days_since_last_insp  inspection_count  \\\n",
       "0               0 days                 2   \n",
       "1               0 days                 2   \n",
       "2               0 days                 2   \n",
       "3               7 days                 2   \n",
       "4              11 days                 2   \n",
       "\n",
       "                                             alltext next_inspection_grade  \n",
       "0  LA AZTECA MEAT MARKET GROCERY 75220 *25 Contro...                     A  \n",
       "1  TIENDA HISPANO 75203 *45 Walls and ceilings, s...                     A  \n",
       "2  THE MERCURY GRILL 75230 *35 Eating food, chewi...                     A  \n",
       "3  SPRING CREEK BARBEQUE 75230 *19 Backflow preve...                     B  \n",
       "4  MI HONDURAS 75229 *01 Cooling -- within 2 hour...                     C  "
      ]
     },
     "execution_count": 35,
     "metadata": {},
     "output_type": "execute_result"
    }
   ],
   "source": [
    "df.head()"
   ]
  },
  {
   "cell_type": "code",
   "execution_count": 36,
   "metadata": {},
   "outputs": [],
   "source": [
    "df['days_since_last_insp'] = df['days_since_last_insp'].astype(int)/24/60/60/1000000000"
   ]
  },
  {
   "cell_type": "code",
   "execution_count": 37,
   "metadata": {},
   "outputs": [
    {
     "data": {
      "text/html": [
       "<div>\n",
       "<style scoped>\n",
       "    .dataframe tbody tr th:only-of-type {\n",
       "        vertical-align: middle;\n",
       "    }\n",
       "\n",
       "    .dataframe tbody tr th {\n",
       "        vertical-align: top;\n",
       "    }\n",
       "\n",
       "    .dataframe thead th {\n",
       "        text-align: right;\n",
       "    }\n",
       "</style>\n",
       "<table border=\"1\" class=\"dataframe\">\n",
       "  <thead>\n",
       "    <tr style=\"text-align: right;\">\n",
       "      <th></th>\n",
       "      <th>Inspection Date</th>\n",
       "      <th>calculated_score</th>\n",
       "      <th>next_inspection_score</th>\n",
       "      <th>days_since_last_insp</th>\n",
       "      <th>inspection_count</th>\n",
       "      <th>alltext</th>\n",
       "      <th>next_inspection_grade</th>\n",
       "    </tr>\n",
       "  </thead>\n",
       "  <tbody>\n",
       "    <tr>\n",
       "      <th>0</th>\n",
       "      <td>2016-10-04</td>\n",
       "      <td>96.0</td>\n",
       "      <td>100.0</td>\n",
       "      <td>0.0</td>\n",
       "      <td>2</td>\n",
       "      <td>LA AZTECA MEAT MARKET GROCERY 75220 *25 Contro...</td>\n",
       "      <td>A</td>\n",
       "    </tr>\n",
       "    <tr>\n",
       "      <th>1</th>\n",
       "      <td>2016-10-05</td>\n",
       "      <td>97.0</td>\n",
       "      <td>94.0</td>\n",
       "      <td>0.0</td>\n",
       "      <td>2</td>\n",
       "      <td>TIENDA HISPANO 75203 *45 Walls and ceilings, s...</td>\n",
       "      <td>A</td>\n",
       "    </tr>\n",
       "    <tr>\n",
       "      <th>2</th>\n",
       "      <td>2016-10-10</td>\n",
       "      <td>91.0</td>\n",
       "      <td>90.0</td>\n",
       "      <td>0.0</td>\n",
       "      <td>2</td>\n",
       "      <td>THE MERCURY GRILL 75230 *35 Eating food, chewi...</td>\n",
       "      <td>A</td>\n",
       "    </tr>\n",
       "    <tr>\n",
       "      <th>3</th>\n",
       "      <td>2016-10-13</td>\n",
       "      <td>80.0</td>\n",
       "      <td>81.0</td>\n",
       "      <td>7.0</td>\n",
       "      <td>2</td>\n",
       "      <td>SPRING CREEK BARBEQUE 75230 *19 Backflow preve...</td>\n",
       "      <td>B</td>\n",
       "    </tr>\n",
       "    <tr>\n",
       "      <th>4</th>\n",
       "      <td>2016-10-14</td>\n",
       "      <td>81.0</td>\n",
       "      <td>73.0</td>\n",
       "      <td>11.0</td>\n",
       "      <td>2</td>\n",
       "      <td>MI HONDURAS 75229 *01 Cooling -- within 2 hour...</td>\n",
       "      <td>C</td>\n",
       "    </tr>\n",
       "  </tbody>\n",
       "</table>\n",
       "</div>"
      ],
      "text/plain": [
       "  Inspection Date  calculated_score  next_inspection_score  \\\n",
       "0      2016-10-04              96.0                  100.0   \n",
       "1      2016-10-05              97.0                   94.0   \n",
       "2      2016-10-10              91.0                   90.0   \n",
       "3      2016-10-13              80.0                   81.0   \n",
       "4      2016-10-14              81.0                   73.0   \n",
       "\n",
       "   days_since_last_insp  inspection_count  \\\n",
       "0                   0.0                 2   \n",
       "1                   0.0                 2   \n",
       "2                   0.0                 2   \n",
       "3                   7.0                 2   \n",
       "4                  11.0                 2   \n",
       "\n",
       "                                             alltext next_inspection_grade  \n",
       "0  LA AZTECA MEAT MARKET GROCERY 75220 *25 Contro...                     A  \n",
       "1  TIENDA HISPANO 75203 *45 Walls and ceilings, s...                     A  \n",
       "2  THE MERCURY GRILL 75230 *35 Eating food, chewi...                     A  \n",
       "3  SPRING CREEK BARBEQUE 75230 *19 Backflow preve...                     B  \n",
       "4  MI HONDURAS 75229 *01 Cooling -- within 2 hour...                     C  "
      ]
     },
     "execution_count": 37,
     "metadata": {},
     "output_type": "execute_result"
    }
   ],
   "source": [
    "df.head()"
   ]
  },
  {
   "cell_type": "markdown",
   "metadata": {},
   "source": [
    "### Count Vectorizer"
   ]
  },
  {
   "cell_type": "code",
   "execution_count": 38,
   "metadata": {},
   "outputs": [],
   "source": [
    "list_of_strings = df['alltext']"
   ]
  },
  {
   "cell_type": "code",
   "execution_count": 39,
   "metadata": {},
   "outputs": [],
   "source": [
    "cvec = CountVectorizer(lowercase = True, # turn everything to lower case\n",
    "                       ngram_range = (1, 3),\n",
    "                      stop_words= 'english',\n",
    "                       max_features= 2100) # for EDA, I will look at 1 word and 2 word phrases\n",
    "\n",
    "# data run through cvec must be transformed\n",
    "X_text = cvec.fit_transform(list_of_strings)"
   ]
  },
  {
   "cell_type": "code",
   "execution_count": 40,
   "metadata": {
    "scrolled": false
   },
   "outputs": [],
   "source": [
    "X_text_df = pd.DataFrame(X_text.toarray(),\n",
    "                      columns = cvec.get_feature_names())\n"
   ]
  },
  {
   "cell_type": "code",
   "execution_count": 41,
   "metadata": {},
   "outputs": [
    {
     "data": {
      "text/html": [
       "<div>\n",
       "<style scoped>\n",
       "    .dataframe tbody tr th:only-of-type {\n",
       "        vertical-align: middle;\n",
       "    }\n",
       "\n",
       "    .dataframe tbody tr th {\n",
       "        vertical-align: top;\n",
       "    }\n",
       "\n",
       "    .dataframe thead th {\n",
       "        text-align: right;\n",
       "    }\n",
       "</style>\n",
       "<table border=\"1\" class=\"dataframe\">\n",
       "  <thead>\n",
       "    <tr style=\"text-align: right;\">\n",
       "      <th></th>\n",
       "      <th>02</th>\n",
       "      <th>02 cold</th>\n",
       "      <th>02 cold hold</th>\n",
       "      <th>03</th>\n",
       "      <th>03 food</th>\n",
       "      <th>03 food products</th>\n",
       "      <th>07</th>\n",
       "      <th>07 food</th>\n",
       "      <th>07 food safe</th>\n",
       "      <th>09</th>\n",
       "      <th>...</th>\n",
       "      <th>õ228 111</th>\n",
       "      <th>õ228 111 title</th>\n",
       "      <th>õ228 206</th>\n",
       "      <th>õ228 206 title</th>\n",
       "      <th>õ228 71</th>\n",
       "      <th>õ228 71 title</th>\n",
       "      <th>õ228 73</th>\n",
       "      <th>õ228 73 title</th>\n",
       "      <th>õ228 78</th>\n",
       "      <th>õ228 78 title</th>\n",
       "    </tr>\n",
       "  </thead>\n",
       "  <tbody>\n",
       "    <tr>\n",
       "      <th>0</th>\n",
       "      <td>0</td>\n",
       "      <td>0</td>\n",
       "      <td>0</td>\n",
       "      <td>0</td>\n",
       "      <td>0</td>\n",
       "      <td>0</td>\n",
       "      <td>0</td>\n",
       "      <td>0</td>\n",
       "      <td>0</td>\n",
       "      <td>0</td>\n",
       "      <td>...</td>\n",
       "      <td>0</td>\n",
       "      <td>0</td>\n",
       "      <td>0</td>\n",
       "      <td>0</td>\n",
       "      <td>0</td>\n",
       "      <td>0</td>\n",
       "      <td>0</td>\n",
       "      <td>0</td>\n",
       "      <td>0</td>\n",
       "      <td>0</td>\n",
       "    </tr>\n",
       "    <tr>\n",
       "      <th>1</th>\n",
       "      <td>0</td>\n",
       "      <td>0</td>\n",
       "      <td>0</td>\n",
       "      <td>0</td>\n",
       "      <td>0</td>\n",
       "      <td>0</td>\n",
       "      <td>0</td>\n",
       "      <td>0</td>\n",
       "      <td>0</td>\n",
       "      <td>0</td>\n",
       "      <td>...</td>\n",
       "      <td>0</td>\n",
       "      <td>0</td>\n",
       "      <td>0</td>\n",
       "      <td>0</td>\n",
       "      <td>0</td>\n",
       "      <td>0</td>\n",
       "      <td>0</td>\n",
       "      <td>0</td>\n",
       "      <td>0</td>\n",
       "      <td>0</td>\n",
       "    </tr>\n",
       "    <tr>\n",
       "      <th>2</th>\n",
       "      <td>0</td>\n",
       "      <td>0</td>\n",
       "      <td>0</td>\n",
       "      <td>0</td>\n",
       "      <td>0</td>\n",
       "      <td>0</td>\n",
       "      <td>0</td>\n",
       "      <td>0</td>\n",
       "      <td>0</td>\n",
       "      <td>0</td>\n",
       "      <td>...</td>\n",
       "      <td>1</td>\n",
       "      <td>1</td>\n",
       "      <td>0</td>\n",
       "      <td>0</td>\n",
       "      <td>0</td>\n",
       "      <td>0</td>\n",
       "      <td>0</td>\n",
       "      <td>0</td>\n",
       "      <td>0</td>\n",
       "      <td>0</td>\n",
       "    </tr>\n",
       "    <tr>\n",
       "      <th>3</th>\n",
       "      <td>1</td>\n",
       "      <td>1</td>\n",
       "      <td>1</td>\n",
       "      <td>0</td>\n",
       "      <td>0</td>\n",
       "      <td>0</td>\n",
       "      <td>0</td>\n",
       "      <td>0</td>\n",
       "      <td>0</td>\n",
       "      <td>0</td>\n",
       "      <td>...</td>\n",
       "      <td>0</td>\n",
       "      <td>0</td>\n",
       "      <td>0</td>\n",
       "      <td>0</td>\n",
       "      <td>0</td>\n",
       "      <td>0</td>\n",
       "      <td>0</td>\n",
       "      <td>0</td>\n",
       "      <td>0</td>\n",
       "      <td>0</td>\n",
       "    </tr>\n",
       "    <tr>\n",
       "      <th>4</th>\n",
       "      <td>0</td>\n",
       "      <td>0</td>\n",
       "      <td>0</td>\n",
       "      <td>0</td>\n",
       "      <td>0</td>\n",
       "      <td>0</td>\n",
       "      <td>0</td>\n",
       "      <td>0</td>\n",
       "      <td>0</td>\n",
       "      <td>0</td>\n",
       "      <td>...</td>\n",
       "      <td>1</td>\n",
       "      <td>0</td>\n",
       "      <td>1</td>\n",
       "      <td>1</td>\n",
       "      <td>0</td>\n",
       "      <td>0</td>\n",
       "      <td>0</td>\n",
       "      <td>0</td>\n",
       "      <td>0</td>\n",
       "      <td>0</td>\n",
       "    </tr>\n",
       "  </tbody>\n",
       "</table>\n",
       "<p>5 rows × 2100 columns</p>\n",
       "</div>"
      ],
      "text/plain": [
       "   02  02 cold  02 cold hold  03  03 food  03 food products  07  07 food  \\\n",
       "0   0        0             0   0        0                 0   0        0   \n",
       "1   0        0             0   0        0                 0   0        0   \n",
       "2   0        0             0   0        0                 0   0        0   \n",
       "3   1        1             1   0        0                 0   0        0   \n",
       "4   0        0             0   0        0                 0   0        0   \n",
       "\n",
       "   07 food safe  09  ...  õ228 111  õ228 111 title  õ228 206  õ228 206 title  \\\n",
       "0             0   0  ...         0               0         0               0   \n",
       "1             0   0  ...         0               0         0               0   \n",
       "2             0   0  ...         1               1         0               0   \n",
       "3             0   0  ...         0               0         0               0   \n",
       "4             0   0  ...         1               0         1               1   \n",
       "\n",
       "   õ228 71  õ228 71 title  õ228 73  õ228 73 title  õ228 78  õ228 78 title  \n",
       "0        0              0        0              0        0              0  \n",
       "1        0              0        0              0        0              0  \n",
       "2        0              0        0              0        0              0  \n",
       "3        0              0        0              0        0              0  \n",
       "4        0              0        0              0        0              0  \n",
       "\n",
       "[5 rows x 2100 columns]"
      ]
     },
     "execution_count": 41,
     "metadata": {},
     "output_type": "execute_result"
    }
   ],
   "source": [
    "X_text_df.head()"
   ]
  },
  {
   "cell_type": "markdown",
   "metadata": {},
   "source": [
    "# EDA"
   ]
  },
  {
   "cell_type": "code",
   "execution_count": 42,
   "metadata": {},
   "outputs": [
    {
     "data": {
      "image/png": "[encoded data removed]",
      "text/plain": [
       "<Figure size 432x288 with 1 Axes>"
      ]
     },
     "metadata": {
      "needs_background": "light"
     },
     "output_type": "display_data"
    }
   ],
   "source": [
    "plt.hist(df['calculated_score'], bins = 10);"
   ]
  },
  {
   "cell_type": "code",
   "execution_count": 43,
   "metadata": {},
   "outputs": [
    {
     "data": {
      "text/plain": [
       "0.9436495939817907"
      ]
     },
     "execution_count": 43,
     "metadata": {},
     "output_type": "execute_result"
    }
   ],
   "source": [
    "len(df.loc[df['calculated_score'] >= 80]) / len(df)"
   ]
  },
  {
   "cell_type": "code",
   "execution_count": 44,
   "metadata": {
    "scrolled": true
   },
   "outputs": [
    {
     "data": {
      "text/plain": [
       "[<matplotlib.lines.Line2D at 0x7fa614759110>]"
      ]
     },
     "execution_count": 44,
     "metadata": {},
     "output_type": "execute_result"
    },
    {
     "data": {
      "image/png": "[encoded data removed]",
      "text/plain": [
       "<Figure size 432x288 with 1 Axes>"
      ]
     },
     "metadata": {
      "needs_background": "light"
     },
     "output_type": "display_data"
    }
   ],
   "source": [
    "plt.plot(df.groupby(['days_since_last_insp'])['calculated_score'].mean())"
   ]
  },
  {
   "cell_type": "code",
   "execution_count": 45,
   "metadata": {},
   "outputs": [
    {
     "data": {
      "text/plain": [
       "<matplotlib.collections.PathCollection at 0x7fa6362399d0>"
      ]
     },
     "execution_count": 45,
     "metadata": {},
     "output_type": "execute_result"
    },
    {
     "data": {
      "image/png": "[encoded data removed]",
      "text/plain": [
       "<Figure size 432x288 with 1 Axes>"
      ]
     },
     "metadata": {
      "needs_background": "light"
     },
     "output_type": "display_data"
    }
   ],
   "source": [
    "plt.scatter(df['calculated_score'], df['next_inspection_score'])"
   ]
  },
  {
   "cell_type": "code",
   "execution_count": 46,
   "metadata": {},
   "outputs": [
    {
     "data": {
      "text/html": [
       "<div>\n",
       "<style scoped>\n",
       "    .dataframe tbody tr th:only-of-type {\n",
       "        vertical-align: middle;\n",
       "    }\n",
       "\n",
       "    .dataframe tbody tr th {\n",
       "        vertical-align: top;\n",
       "    }\n",
       "\n",
       "    .dataframe thead th {\n",
       "        text-align: right;\n",
       "    }\n",
       "</style>\n",
       "<table border=\"1\" class=\"dataframe\">\n",
       "  <thead>\n",
       "    <tr style=\"text-align: right;\">\n",
       "      <th></th>\n",
       "      <th>calculated_score</th>\n",
       "      <th>next_inspection_score</th>\n",
       "      <th>days_since_last_insp</th>\n",
       "      <th>inspection_count</th>\n",
       "    </tr>\n",
       "  </thead>\n",
       "  <tbody>\n",
       "    <tr>\n",
       "      <th>calculated_score</th>\n",
       "      <td>1.000000</td>\n",
       "      <td>0.554437</td>\n",
       "      <td>0.078654</td>\n",
       "      <td>-0.079388</td>\n",
       "    </tr>\n",
       "    <tr>\n",
       "      <th>next_inspection_score</th>\n",
       "      <td>0.554437</td>\n",
       "      <td>1.000000</td>\n",
       "      <td>0.105646</td>\n",
       "      <td>-0.088987</td>\n",
       "    </tr>\n",
       "    <tr>\n",
       "      <th>days_since_last_insp</th>\n",
       "      <td>0.078654</td>\n",
       "      <td>0.105646</td>\n",
       "      <td>1.000000</td>\n",
       "      <td>-0.376266</td>\n",
       "    </tr>\n",
       "    <tr>\n",
       "      <th>inspection_count</th>\n",
       "      <td>-0.079388</td>\n",
       "      <td>-0.088987</td>\n",
       "      <td>-0.376266</td>\n",
       "      <td>1.000000</td>\n",
       "    </tr>\n",
       "  </tbody>\n",
       "</table>\n",
       "</div>"
      ],
      "text/plain": [
       "                       calculated_score  next_inspection_score  \\\n",
       "calculated_score               1.000000               0.554437   \n",
       "next_inspection_score          0.554437               1.000000   \n",
       "days_since_last_insp           0.078654               0.105646   \n",
       "inspection_count              -0.079388              -0.088987   \n",
       "\n",
       "                       days_since_last_insp  inspection_count  \n",
       "calculated_score                   0.078654         -0.079388  \n",
       "next_inspection_score              0.105646         -0.088987  \n",
       "days_since_last_insp               1.000000         -0.376266  \n",
       "inspection_count                  -0.376266          1.000000  "
      ]
     },
     "execution_count": 46,
     "metadata": {},
     "output_type": "execute_result"
    }
   ],
   "source": [
    "df.corr()"
   ]
  },
  {
   "cell_type": "code",
   "execution_count": 47,
   "metadata": {},
   "outputs": [
    {
     "data": {
      "text/html": [
       "<div>\n",
       "<style scoped>\n",
       "    .dataframe tbody tr th:only-of-type {\n",
       "        vertical-align: middle;\n",
       "    }\n",
       "\n",
       "    .dataframe tbody tr th {\n",
       "        vertical-align: top;\n",
       "    }\n",
       "\n",
       "    .dataframe thead th {\n",
       "        text-align: right;\n",
       "    }\n",
       "</style>\n",
       "<table border=\"1\" class=\"dataframe\">\n",
       "  <thead>\n",
       "    <tr style=\"text-align: right;\">\n",
       "      <th></th>\n",
       "      <th></th>\n",
       "      <th>calculated_score</th>\n",
       "      <th>next_inspection_score</th>\n",
       "      <th>days_since_last_insp</th>\n",
       "      <th>inspection_count</th>\n",
       "    </tr>\n",
       "    <tr>\n",
       "      <th>next_inspection_grade</th>\n",
       "      <th></th>\n",
       "      <th></th>\n",
       "      <th></th>\n",
       "      <th></th>\n",
       "      <th></th>\n",
       "    </tr>\n",
       "  </thead>\n",
       "  <tbody>\n",
       "    <tr>\n",
       "      <th rowspan=\"4\" valign=\"top\">A</th>\n",
       "      <th>calculated_score</th>\n",
       "      <td>1.000000</td>\n",
       "      <td>0.404955</td>\n",
       "      <td>0.039460</td>\n",
       "      <td>-0.059159</td>\n",
       "    </tr>\n",
       "    <tr>\n",
       "      <th>next_inspection_score</th>\n",
       "      <td>0.404955</td>\n",
       "      <td>1.000000</td>\n",
       "      <td>0.025061</td>\n",
       "      <td>-0.035050</td>\n",
       "    </tr>\n",
       "    <tr>\n",
       "      <th>days_since_last_insp</th>\n",
       "      <td>0.039460</td>\n",
       "      <td>0.025061</td>\n",
       "      <td>1.000000</td>\n",
       "      <td>-0.307170</td>\n",
       "    </tr>\n",
       "    <tr>\n",
       "      <th>inspection_count</th>\n",
       "      <td>-0.059159</td>\n",
       "      <td>-0.035050</td>\n",
       "      <td>-0.307170</td>\n",
       "      <td>1.000000</td>\n",
       "    </tr>\n",
       "    <tr>\n",
       "      <th rowspan=\"4\" valign=\"top\">B</th>\n",
       "      <th>calculated_score</th>\n",
       "      <td>1.000000</td>\n",
       "      <td>0.226214</td>\n",
       "      <td>0.032256</td>\n",
       "      <td>-0.031986</td>\n",
       "    </tr>\n",
       "    <tr>\n",
       "      <th>next_inspection_score</th>\n",
       "      <td>0.226214</td>\n",
       "      <td>1.000000</td>\n",
       "      <td>0.037650</td>\n",
       "      <td>-0.026010</td>\n",
       "    </tr>\n",
       "    <tr>\n",
       "      <th>days_since_last_insp</th>\n",
       "      <td>0.032256</td>\n",
       "      <td>0.037650</td>\n",
       "      <td>1.000000</td>\n",
       "      <td>-0.417723</td>\n",
       "    </tr>\n",
       "    <tr>\n",
       "      <th>inspection_count</th>\n",
       "      <td>-0.031986</td>\n",
       "      <td>-0.026010</td>\n",
       "      <td>-0.417723</td>\n",
       "      <td>1.000000</td>\n",
       "    </tr>\n",
       "    <tr>\n",
       "      <th rowspan=\"4\" valign=\"top\">C</th>\n",
       "      <th>calculated_score</th>\n",
       "      <td>1.000000</td>\n",
       "      <td>0.152514</td>\n",
       "      <td>0.034341</td>\n",
       "      <td>-0.027236</td>\n",
       "    </tr>\n",
       "    <tr>\n",
       "      <th>next_inspection_score</th>\n",
       "      <td>0.152514</td>\n",
       "      <td>1.000000</td>\n",
       "      <td>0.056899</td>\n",
       "      <td>-0.024709</td>\n",
       "    </tr>\n",
       "    <tr>\n",
       "      <th>days_since_last_insp</th>\n",
       "      <td>0.034341</td>\n",
       "      <td>0.056899</td>\n",
       "      <td>1.000000</td>\n",
       "      <td>-0.482717</td>\n",
       "    </tr>\n",
       "    <tr>\n",
       "      <th>inspection_count</th>\n",
       "      <td>-0.027236</td>\n",
       "      <td>-0.024709</td>\n",
       "      <td>-0.482717</td>\n",
       "      <td>1.000000</td>\n",
       "    </tr>\n",
       "    <tr>\n",
       "      <th rowspan=\"4\" valign=\"top\">D</th>\n",
       "      <th>calculated_score</th>\n",
       "      <td>1.000000</td>\n",
       "      <td>-0.013831</td>\n",
       "      <td>0.092295</td>\n",
       "      <td>-0.098515</td>\n",
       "    </tr>\n",
       "    <tr>\n",
       "      <th>next_inspection_score</th>\n",
       "      <td>-0.013831</td>\n",
       "      <td>1.000000</td>\n",
       "      <td>0.058561</td>\n",
       "      <td>-0.080841</td>\n",
       "    </tr>\n",
       "    <tr>\n",
       "      <th>days_since_last_insp</th>\n",
       "      <td>0.092295</td>\n",
       "      <td>0.058561</td>\n",
       "      <td>1.000000</td>\n",
       "      <td>-0.466022</td>\n",
       "    </tr>\n",
       "    <tr>\n",
       "      <th>inspection_count</th>\n",
       "      <td>-0.098515</td>\n",
       "      <td>-0.080841</td>\n",
       "      <td>-0.466022</td>\n",
       "      <td>1.000000</td>\n",
       "    </tr>\n",
       "    <tr>\n",
       "      <th rowspan=\"4\" valign=\"top\">F</th>\n",
       "      <th>calculated_score</th>\n",
       "      <td>1.000000</td>\n",
       "      <td>-0.418728</td>\n",
       "      <td>0.214949</td>\n",
       "      <td>-0.576736</td>\n",
       "    </tr>\n",
       "    <tr>\n",
       "      <th>next_inspection_score</th>\n",
       "      <td>-0.418728</td>\n",
       "      <td>1.000000</td>\n",
       "      <td>0.106281</td>\n",
       "      <td>-0.065083</td>\n",
       "    </tr>\n",
       "    <tr>\n",
       "      <th>days_since_last_insp</th>\n",
       "      <td>0.214949</td>\n",
       "      <td>0.106281</td>\n",
       "      <td>1.000000</td>\n",
       "      <td>-0.748562</td>\n",
       "    </tr>\n",
       "    <tr>\n",
       "      <th>inspection_count</th>\n",
       "      <td>-0.576736</td>\n",
       "      <td>-0.065083</td>\n",
       "      <td>-0.748562</td>\n",
       "      <td>1.000000</td>\n",
       "    </tr>\n",
       "  </tbody>\n",
       "</table>\n",
       "</div>"
      ],
      "text/plain": [
       "                                             calculated_score  \\\n",
       "next_inspection_grade                                           \n",
       "A                     calculated_score               1.000000   \n",
       "                      next_inspection_score          0.404955   \n",
       "                      days_since_last_insp           0.039460   \n",
       "                      inspection_count              -0.059159   \n",
       "B                     calculated_score               1.000000   \n",
       "                      next_inspection_score          0.226214   \n",
       "                      days_since_last_insp           0.032256   \n",
       "                      inspection_count              -0.031986   \n",
       "C                     calculated_score               1.000000   \n",
       "                      next_inspection_score          0.152514   \n",
       "                      days_since_last_insp           0.034341   \n",
       "                      inspection_count              -0.027236   \n",
       "D                     calculated_score               1.000000   \n",
       "                      next_inspection_score         -0.013831   \n",
       "                      days_since_last_insp           0.092295   \n",
       "                      inspection_count              -0.098515   \n",
       "F                     calculated_score               1.000000   \n",
       "                      next_inspection_score         -0.418728   \n",
       "                      days_since_last_insp           0.214949   \n",
       "                      inspection_count              -0.576736   \n",
       "\n",
       "                                             next_inspection_score  \\\n",
       "next_inspection_grade                                                \n",
       "A                     calculated_score                    0.404955   \n",
       "                      next_inspection_score               1.000000   \n",
       "                      days_since_last_insp                0.025061   \n",
       "                      inspection_count                   -0.035050   \n",
       "B                     calculated_score                    0.226214   \n",
       "                      next_inspection_score               1.000000   \n",
       "                      days_since_last_insp                0.037650   \n",
       "                      inspection_count                   -0.026010   \n",
       "C                     calculated_score                    0.152514   \n",
       "                      next_inspection_score               1.000000   \n",
       "                      days_since_last_insp                0.056899   \n",
       "                      inspection_count                   -0.024709   \n",
       "D                     calculated_score                   -0.013831   \n",
       "                      next_inspection_score               1.000000   \n",
       "                      days_since_last_insp                0.058561   \n",
       "                      inspection_count                   -0.080841   \n",
       "F                     calculated_score                   -0.418728   \n",
       "                      next_inspection_score               1.000000   \n",
       "                      days_since_last_insp                0.106281   \n",
       "                      inspection_count                   -0.065083   \n",
       "\n",
       "                                             days_since_last_insp  \\\n",
       "next_inspection_grade                                               \n",
       "A                     calculated_score                   0.039460   \n",
       "                      next_inspection_score              0.025061   \n",
       "                      days_since_last_insp               1.000000   \n",
       "                      inspection_count                  -0.307170   \n",
       "B                     calculated_score                   0.032256   \n",
       "                      next_inspection_score              0.037650   \n",
       "                      days_since_last_insp               1.000000   \n",
       "                      inspection_count                  -0.417723   \n",
       "C                     calculated_score                   0.034341   \n",
       "                      next_inspection_score              0.056899   \n",
       "                      days_since_last_insp               1.000000   \n",
       "                      inspection_count                  -0.482717   \n",
       "D                     calculated_score                   0.092295   \n",
       "                      next_inspection_score              0.058561   \n",
       "                      days_since_last_insp               1.000000   \n",
       "                      inspection_count                  -0.466022   \n",
       "F                     calculated_score                   0.214949   \n",
       "                      next_inspection_score              0.106281   \n",
       "                      days_since_last_insp               1.000000   \n",
       "                      inspection_count                  -0.748562   \n",
       "\n",
       "                                             inspection_count  \n",
       "next_inspection_grade                                          \n",
       "A                     calculated_score              -0.059159  \n",
       "                      next_inspection_score         -0.035050  \n",
       "                      days_since_last_insp          -0.307170  \n",
       "                      inspection_count               1.000000  \n",
       "B                     calculated_score              -0.031986  \n",
       "                      next_inspection_score         -0.026010  \n",
       "                      days_since_last_insp          -0.417723  \n",
       "                      inspection_count               1.000000  \n",
       "C                     calculated_score              -0.027236  \n",
       "                      next_inspection_score         -0.024709  \n",
       "                      days_since_last_insp          -0.482717  \n",
       "                      inspection_count               1.000000  \n",
       "D                     calculated_score              -0.098515  \n",
       "                      next_inspection_score         -0.080841  \n",
       "                      days_since_last_insp          -0.466022  \n",
       "                      inspection_count               1.000000  \n",
       "F                     calculated_score              -0.576736  \n",
       "                      next_inspection_score         -0.065083  \n",
       "                      days_since_last_insp          -0.748562  \n",
       "                      inspection_count               1.000000  "
      ]
     },
     "execution_count": 47,
     "metadata": {},
     "output_type": "execute_result"
    }
   ],
   "source": [
    "df.groupby(df['next_inspection_grade']).corr()"
   ]
  },
  {
   "cell_type": "code",
   "execution_count": 48,
   "metadata": {},
   "outputs": [
    {
     "data": {
      "text/plain": [
       "<seaborn.axisgrid.PairGrid at 0x7fa628686390>"
      ]
     },
     "execution_count": 48,
     "metadata": {},
     "output_type": "execute_result"
    },
    {
     "data": {
      "image/png": "[encoded data removed]",
      "text/plain": [
       "<Figure size 720x720 with 20 Axes>"
      ]
     },
     "metadata": {
      "needs_background": "light"
     },
     "output_type": "display_data"
    }
   ],
   "source": [
    "sns.pairplot(df.groupby(df['next_inspection_grade'] == 'A').corr())"
   ]
  },
  {
   "cell_type": "code",
   "execution_count": 49,
   "metadata": {},
   "outputs": [
    {
     "data": {
      "text/plain": [
       "<seaborn.axisgrid.PairGrid at 0x7fa61b43a850>"
      ]
     },
     "execution_count": 49,
     "metadata": {},
     "output_type": "execute_result"
    },
    {
     "data": {
      "image/png": "[encoded data removed]",
      "text/plain": [
       "<Figure size 720x720 with 20 Axes>"
      ]
     },
     "metadata": {
      "needs_background": "light"
     },
     "output_type": "display_data"
    }
   ],
   "source": [
    "sns.pairplot(df.groupby(df['next_inspection_grade'] == 'B').corr())"
   ]
  },
  {
   "cell_type": "code",
   "execution_count": 50,
   "metadata": {},
   "outputs": [
    {
     "data": {
      "text/plain": [
       "<seaborn.axisgrid.PairGrid at 0x7fa626558c90>"
      ]
     },
     "execution_count": 50,
     "metadata": {},
     "output_type": "execute_result"
    },
    {
     "data": {
      "image/png": "[encoded data removed]",
      "text/plain": [
       "<Figure size 720x720 with 20 Axes>"
      ]
     },
     "metadata": {
      "needs_background": "light"
     },
     "output_type": "display_data"
    }
   ],
   "source": [
    "sns.pairplot(df)"
   ]
  },
  {
   "cell_type": "code",
   "execution_count": 51,
   "metadata": {},
   "outputs": [
    {
     "data": {
      "text/plain": [
       "inspection_count\n",
       "1     90.151705\n",
       "2     90.433203\n",
       "3     87.414116\n",
       "4     83.310811\n",
       "5     82.288136\n",
       "6     82.466667\n",
       "7     78.833333\n",
       "8     83.000000\n",
       "9     71.000000\n",
       "10    81.000000\n",
       "Name: calculated_score, dtype: float64"
      ]
     },
     "execution_count": 51,
     "metadata": {},
     "output_type": "execute_result"
    }
   ],
   "source": [
    "df['calculated_score'].groupby(df['inspection_count']).mean()"
   ]
  },
  {
   "cell_type": "code",
   "execution_count": 52,
   "metadata": {},
   "outputs": [
    {
     "data": {
      "text/plain": [
       "[<matplotlib.lines.Line2D at 0x7fa603729d90>]"
      ]
     },
     "execution_count": 52,
     "metadata": {},
     "output_type": "execute_result"
    },
    {
     "data": {
      "image/png": "[encoded data removed]",
      "text/plain": [
       "<Figure size 432x288 with 1 Axes>"
      ]
     },
     "metadata": {
      "needs_background": "light"
     },
     "output_type": "display_data"
    }
   ],
   "source": [
    "plt.plot(df['calculated_score'].groupby(df['inspection_count']).mean())"
   ]
  },
  {
   "cell_type": "code",
   "execution_count": 53,
   "metadata": {},
   "outputs": [
    {
     "data": {
      "text/plain": [
       "[<matplotlib.lines.Line2D at 0x7fa603710310>]"
      ]
     },
     "execution_count": 53,
     "metadata": {},
     "output_type": "execute_result"
    },
    {
     "data": {
      "image/png": "[encoded data removed]",
      "text/plain": [
       "<Figure size 432x288 with 1 Axes>"
      ]
     },
     "metadata": {
      "needs_background": "light"
     },
     "output_type": "display_data"
    }
   ],
   "source": [
    "plt.plot(df['calculated_score'].groupby(df['inspection_count']).min())"
   ]
  },
  {
   "cell_type": "code",
   "execution_count": 54,
   "metadata": {
    "scrolled": true
   },
   "outputs": [
    {
     "data": {
      "text/html": [
       "<div>\n",
       "<style scoped>\n",
       "    .dataframe tbody tr th:only-of-type {\n",
       "        vertical-align: middle;\n",
       "    }\n",
       "\n",
       "    .dataframe tbody tr th {\n",
       "        vertical-align: top;\n",
       "    }\n",
       "\n",
       "    .dataframe thead th {\n",
       "        text-align: right;\n",
       "    }\n",
       "</style>\n",
       "<table border=\"1\" class=\"dataframe\">\n",
       "  <thead>\n",
       "    <tr style=\"text-align: right;\">\n",
       "      <th></th>\n",
       "      <th>02</th>\n",
       "      <th>02 cold</th>\n",
       "      <th>02 cold hold</th>\n",
       "      <th>03</th>\n",
       "      <th>03 food</th>\n",
       "      <th>03 food products</th>\n",
       "      <th>07</th>\n",
       "      <th>07 food</th>\n",
       "      <th>07 food safe</th>\n",
       "      <th>09</th>\n",
       "      <th>...</th>\n",
       "      <th>õ228 111</th>\n",
       "      <th>õ228 111 title</th>\n",
       "      <th>õ228 206</th>\n",
       "      <th>õ228 206 title</th>\n",
       "      <th>õ228 71</th>\n",
       "      <th>õ228 71 title</th>\n",
       "      <th>õ228 73</th>\n",
       "      <th>õ228 73 title</th>\n",
       "      <th>õ228 78</th>\n",
       "      <th>õ228 78 title</th>\n",
       "    </tr>\n",
       "  </thead>\n",
       "  <tbody>\n",
       "    <tr>\n",
       "      <th>0</th>\n",
       "      <td>0</td>\n",
       "      <td>0</td>\n",
       "      <td>0</td>\n",
       "      <td>0</td>\n",
       "      <td>0</td>\n",
       "      <td>0</td>\n",
       "      <td>0</td>\n",
       "      <td>0</td>\n",
       "      <td>0</td>\n",
       "      <td>0</td>\n",
       "      <td>...</td>\n",
       "      <td>0</td>\n",
       "      <td>0</td>\n",
       "      <td>0</td>\n",
       "      <td>0</td>\n",
       "      <td>0</td>\n",
       "      <td>0</td>\n",
       "      <td>0</td>\n",
       "      <td>0</td>\n",
       "      <td>0</td>\n",
       "      <td>0</td>\n",
       "    </tr>\n",
       "    <tr>\n",
       "      <th>1</th>\n",
       "      <td>0</td>\n",
       "      <td>0</td>\n",
       "      <td>0</td>\n",
       "      <td>0</td>\n",
       "      <td>0</td>\n",
       "      <td>0</td>\n",
       "      <td>0</td>\n",
       "      <td>0</td>\n",
       "      <td>0</td>\n",
       "      <td>0</td>\n",
       "      <td>...</td>\n",
       "      <td>0</td>\n",
       "      <td>0</td>\n",
       "      <td>0</td>\n",
       "      <td>0</td>\n",
       "      <td>0</td>\n",
       "      <td>0</td>\n",
       "      <td>0</td>\n",
       "      <td>0</td>\n",
       "      <td>0</td>\n",
       "      <td>0</td>\n",
       "    </tr>\n",
       "    <tr>\n",
       "      <th>2</th>\n",
       "      <td>0</td>\n",
       "      <td>0</td>\n",
       "      <td>0</td>\n",
       "      <td>0</td>\n",
       "      <td>0</td>\n",
       "      <td>0</td>\n",
       "      <td>0</td>\n",
       "      <td>0</td>\n",
       "      <td>0</td>\n",
       "      <td>0</td>\n",
       "      <td>...</td>\n",
       "      <td>1</td>\n",
       "      <td>1</td>\n",
       "      <td>0</td>\n",
       "      <td>0</td>\n",
       "      <td>0</td>\n",
       "      <td>0</td>\n",
       "      <td>0</td>\n",
       "      <td>0</td>\n",
       "      <td>0</td>\n",
       "      <td>0</td>\n",
       "    </tr>\n",
       "    <tr>\n",
       "      <th>3</th>\n",
       "      <td>1</td>\n",
       "      <td>1</td>\n",
       "      <td>1</td>\n",
       "      <td>0</td>\n",
       "      <td>0</td>\n",
       "      <td>0</td>\n",
       "      <td>0</td>\n",
       "      <td>0</td>\n",
       "      <td>0</td>\n",
       "      <td>0</td>\n",
       "      <td>...</td>\n",
       "      <td>0</td>\n",
       "      <td>0</td>\n",
       "      <td>0</td>\n",
       "      <td>0</td>\n",
       "      <td>0</td>\n",
       "      <td>0</td>\n",
       "      <td>0</td>\n",
       "      <td>0</td>\n",
       "      <td>0</td>\n",
       "      <td>0</td>\n",
       "    </tr>\n",
       "    <tr>\n",
       "      <th>4</th>\n",
       "      <td>0</td>\n",
       "      <td>0</td>\n",
       "      <td>0</td>\n",
       "      <td>0</td>\n",
       "      <td>0</td>\n",
       "      <td>0</td>\n",
       "      <td>0</td>\n",
       "      <td>0</td>\n",
       "      <td>0</td>\n",
       "      <td>0</td>\n",
       "      <td>...</td>\n",
       "      <td>1</td>\n",
       "      <td>0</td>\n",
       "      <td>1</td>\n",
       "      <td>1</td>\n",
       "      <td>0</td>\n",
       "      <td>0</td>\n",
       "      <td>0</td>\n",
       "      <td>0</td>\n",
       "      <td>0</td>\n",
       "      <td>0</td>\n",
       "    </tr>\n",
       "  </tbody>\n",
       "</table>\n",
       "<p>5 rows × 2100 columns</p>\n",
       "</div>"
      ],
      "text/plain": [
       "   02  02 cold  02 cold hold  03  03 food  03 food products  07  07 food  \\\n",
       "0   0        0             0   0        0                 0   0        0   \n",
       "1   0        0             0   0        0                 0   0        0   \n",
       "2   0        0             0   0        0                 0   0        0   \n",
       "3   1        1             1   0        0                 0   0        0   \n",
       "4   0        0             0   0        0                 0   0        0   \n",
       "\n",
       "   07 food safe  09  ...  õ228 111  õ228 111 title  õ228 206  õ228 206 title  \\\n",
       "0             0   0  ...         0               0         0               0   \n",
       "1             0   0  ...         0               0         0               0   \n",
       "2             0   0  ...         1               1         0               0   \n",
       "3             0   0  ...         0               0         0               0   \n",
       "4             0   0  ...         1               0         1               1   \n",
       "\n",
       "   õ228 71  õ228 71 title  õ228 73  õ228 73 title  õ228 78  õ228 78 title  \n",
       "0        0              0        0              0        0              0  \n",
       "1        0              0        0              0        0              0  \n",
       "2        0              0        0              0        0              0  \n",
       "3        0              0        0              0        0              0  \n",
       "4        0              0        0              0        0              0  \n",
       "\n",
       "[5 rows x 2100 columns]"
      ]
     },
     "execution_count": 54,
     "metadata": {},
     "output_type": "execute_result"
    }
   ],
   "source": [
    "X_text_df.head()"
   ]
  },
  {
   "cell_type": "code",
   "execution_count": 55,
   "metadata": {},
   "outputs": [],
   "source": [
    "df.drop(columns = ['Inspection Date', 'alltext'], inplace=True)"
   ]
  },
  {
   "cell_type": "code",
   "execution_count": 56,
   "metadata": {},
   "outputs": [],
   "source": [
    "X_text_df[df.columns] = df"
   ]
  },
  {
   "cell_type": "code",
   "execution_count": 57,
   "metadata": {},
   "outputs": [
    {
     "data": {
      "text/html": [
       "<div>\n",
       "<style scoped>\n",
       "    .dataframe tbody tr th:only-of-type {\n",
       "        vertical-align: middle;\n",
       "    }\n",
       "\n",
       "    .dataframe tbody tr th {\n",
       "        vertical-align: top;\n",
       "    }\n",
       "\n",
       "    .dataframe thead th {\n",
       "        text-align: right;\n",
       "    }\n",
       "</style>\n",
       "<table border=\"1\" class=\"dataframe\">\n",
       "  <thead>\n",
       "    <tr style=\"text-align: right;\">\n",
       "      <th></th>\n",
       "      <th>02</th>\n",
       "      <th>02 cold</th>\n",
       "      <th>02 cold hold</th>\n",
       "      <th>03</th>\n",
       "      <th>03 food</th>\n",
       "      <th>03 food products</th>\n",
       "      <th>07</th>\n",
       "      <th>07 food</th>\n",
       "      <th>07 food safe</th>\n",
       "      <th>09</th>\n",
       "      <th>...</th>\n",
       "      <th>õ228 71 title</th>\n",
       "      <th>õ228 73</th>\n",
       "      <th>õ228 73 title</th>\n",
       "      <th>õ228 78</th>\n",
       "      <th>õ228 78 title</th>\n",
       "      <th>calculated_score</th>\n",
       "      <th>next_inspection_score</th>\n",
       "      <th>days_since_last_insp</th>\n",
       "      <th>inspection_count</th>\n",
       "      <th>next_inspection_grade</th>\n",
       "    </tr>\n",
       "  </thead>\n",
       "  <tbody>\n",
       "    <tr>\n",
       "      <th>0</th>\n",
       "      <td>0</td>\n",
       "      <td>0</td>\n",
       "      <td>0</td>\n",
       "      <td>0</td>\n",
       "      <td>0</td>\n",
       "      <td>0</td>\n",
       "      <td>0</td>\n",
       "      <td>0</td>\n",
       "      <td>0</td>\n",
       "      <td>0</td>\n",
       "      <td>...</td>\n",
       "      <td>0</td>\n",
       "      <td>0</td>\n",
       "      <td>0</td>\n",
       "      <td>0</td>\n",
       "      <td>0</td>\n",
       "      <td>96.0</td>\n",
       "      <td>100.0</td>\n",
       "      <td>0.0</td>\n",
       "      <td>2</td>\n",
       "      <td>A</td>\n",
       "    </tr>\n",
       "    <tr>\n",
       "      <th>1</th>\n",
       "      <td>0</td>\n",
       "      <td>0</td>\n",
       "      <td>0</td>\n",
       "      <td>0</td>\n",
       "      <td>0</td>\n",
       "      <td>0</td>\n",
       "      <td>0</td>\n",
       "      <td>0</td>\n",
       "      <td>0</td>\n",
       "      <td>0</td>\n",
       "      <td>...</td>\n",
       "      <td>0</td>\n",
       "      <td>0</td>\n",
       "      <td>0</td>\n",
       "      <td>0</td>\n",
       "      <td>0</td>\n",
       "      <td>97.0</td>\n",
       "      <td>94.0</td>\n",
       "      <td>0.0</td>\n",
       "      <td>2</td>\n",
       "      <td>A</td>\n",
       "    </tr>\n",
       "    <tr>\n",
       "      <th>2</th>\n",
       "      <td>0</td>\n",
       "      <td>0</td>\n",
       "      <td>0</td>\n",
       "      <td>0</td>\n",
       "      <td>0</td>\n",
       "      <td>0</td>\n",
       "      <td>0</td>\n",
       "      <td>0</td>\n",
       "      <td>0</td>\n",
       "      <td>0</td>\n",
       "      <td>...</td>\n",
       "      <td>0</td>\n",
       "      <td>0</td>\n",
       "      <td>0</td>\n",
       "      <td>0</td>\n",
       "      <td>0</td>\n",
       "      <td>91.0</td>\n",
       "      <td>90.0</td>\n",
       "      <td>0.0</td>\n",
       "      <td>2</td>\n",
       "      <td>A</td>\n",
       "    </tr>\n",
       "    <tr>\n",
       "      <th>3</th>\n",
       "      <td>1</td>\n",
       "      <td>1</td>\n",
       "      <td>1</td>\n",
       "      <td>0</td>\n",
       "      <td>0</td>\n",
       "      <td>0</td>\n",
       "      <td>0</td>\n",
       "      <td>0</td>\n",
       "      <td>0</td>\n",
       "      <td>0</td>\n",
       "      <td>...</td>\n",
       "      <td>0</td>\n",
       "      <td>0</td>\n",
       "      <td>0</td>\n",
       "      <td>0</td>\n",
       "      <td>0</td>\n",
       "      <td>80.0</td>\n",
       "      <td>81.0</td>\n",
       "      <td>7.0</td>\n",
       "      <td>2</td>\n",
       "      <td>B</td>\n",
       "    </tr>\n",
       "    <tr>\n",
       "      <th>4</th>\n",
       "      <td>0</td>\n",
       "      <td>0</td>\n",
       "      <td>0</td>\n",
       "      <td>0</td>\n",
       "      <td>0</td>\n",
       "      <td>0</td>\n",
       "      <td>0</td>\n",
       "      <td>0</td>\n",
       "      <td>0</td>\n",
       "      <td>0</td>\n",
       "      <td>...</td>\n",
       "      <td>0</td>\n",
       "      <td>0</td>\n",
       "      <td>0</td>\n",
       "      <td>0</td>\n",
       "      <td>0</td>\n",
       "      <td>81.0</td>\n",
       "      <td>73.0</td>\n",
       "      <td>11.0</td>\n",
       "      <td>2</td>\n",
       "      <td>C</td>\n",
       "    </tr>\n",
       "    <tr>\n",
       "      <th>...</th>\n",
       "      <td>...</td>\n",
       "      <td>...</td>\n",
       "      <td>...</td>\n",
       "      <td>...</td>\n",
       "      <td>...</td>\n",
       "      <td>...</td>\n",
       "      <td>...</td>\n",
       "      <td>...</td>\n",
       "      <td>...</td>\n",
       "      <td>...</td>\n",
       "      <td>...</td>\n",
       "      <td>...</td>\n",
       "      <td>...</td>\n",
       "      <td>...</td>\n",
       "      <td>...</td>\n",
       "      <td>...</td>\n",
       "      <td>...</td>\n",
       "      <td>...</td>\n",
       "      <td>...</td>\n",
       "      <td>...</td>\n",
       "      <td>...</td>\n",
       "    </tr>\n",
       "    <tr>\n",
       "      <th>28442</th>\n",
       "      <td>1</td>\n",
       "      <td>1</td>\n",
       "      <td>1</td>\n",
       "      <td>0</td>\n",
       "      <td>0</td>\n",
       "      <td>0</td>\n",
       "      <td>0</td>\n",
       "      <td>0</td>\n",
       "      <td>0</td>\n",
       "      <td>0</td>\n",
       "      <td>...</td>\n",
       "      <td>0</td>\n",
       "      <td>0</td>\n",
       "      <td>0</td>\n",
       "      <td>0</td>\n",
       "      <td>0</td>\n",
       "      <td>80.0</td>\n",
       "      <td>91.0</td>\n",
       "      <td>166.0</td>\n",
       "      <td>1</td>\n",
       "      <td>A</td>\n",
       "    </tr>\n",
       "    <tr>\n",
       "      <th>28443</th>\n",
       "      <td>1</td>\n",
       "      <td>1</td>\n",
       "      <td>1</td>\n",
       "      <td>1</td>\n",
       "      <td>1</td>\n",
       "      <td>1</td>\n",
       "      <td>0</td>\n",
       "      <td>0</td>\n",
       "      <td>0</td>\n",
       "      <td>1</td>\n",
       "      <td>...</td>\n",
       "      <td>1</td>\n",
       "      <td>1</td>\n",
       "      <td>1</td>\n",
       "      <td>0</td>\n",
       "      <td>0</td>\n",
       "      <td>70.0</td>\n",
       "      <td>95.0</td>\n",
       "      <td>197.0</td>\n",
       "      <td>1</td>\n",
       "      <td>A</td>\n",
       "    </tr>\n",
       "    <tr>\n",
       "      <th>28444</th>\n",
       "      <td>0</td>\n",
       "      <td>0</td>\n",
       "      <td>0</td>\n",
       "      <td>0</td>\n",
       "      <td>0</td>\n",
       "      <td>0</td>\n",
       "      <td>0</td>\n",
       "      <td>0</td>\n",
       "      <td>0</td>\n",
       "      <td>1</td>\n",
       "      <td>...</td>\n",
       "      <td>0</td>\n",
       "      <td>0</td>\n",
       "      <td>0</td>\n",
       "      <td>0</td>\n",
       "      <td>0</td>\n",
       "      <td>69.0</td>\n",
       "      <td>89.0</td>\n",
       "      <td>190.0</td>\n",
       "      <td>1</td>\n",
       "      <td>B</td>\n",
       "    </tr>\n",
       "    <tr>\n",
       "      <th>28445</th>\n",
       "      <td>0</td>\n",
       "      <td>0</td>\n",
       "      <td>0</td>\n",
       "      <td>0</td>\n",
       "      <td>0</td>\n",
       "      <td>0</td>\n",
       "      <td>0</td>\n",
       "      <td>0</td>\n",
       "      <td>0</td>\n",
       "      <td>0</td>\n",
       "      <td>...</td>\n",
       "      <td>0</td>\n",
       "      <td>0</td>\n",
       "      <td>0</td>\n",
       "      <td>0</td>\n",
       "      <td>0</td>\n",
       "      <td>96.0</td>\n",
       "      <td>95.0</td>\n",
       "      <td>369.0</td>\n",
       "      <td>1</td>\n",
       "      <td>A</td>\n",
       "    </tr>\n",
       "    <tr>\n",
       "      <th>28446</th>\n",
       "      <td>0</td>\n",
       "      <td>0</td>\n",
       "      <td>0</td>\n",
       "      <td>0</td>\n",
       "      <td>0</td>\n",
       "      <td>0</td>\n",
       "      <td>0</td>\n",
       "      <td>0</td>\n",
       "      <td>0</td>\n",
       "      <td>0</td>\n",
       "      <td>...</td>\n",
       "      <td>0</td>\n",
       "      <td>0</td>\n",
       "      <td>0</td>\n",
       "      <td>0</td>\n",
       "      <td>0</td>\n",
       "      <td>90.0</td>\n",
       "      <td>96.0</td>\n",
       "      <td>181.0</td>\n",
       "      <td>3</td>\n",
       "      <td>A</td>\n",
       "    </tr>\n",
       "  </tbody>\n",
       "</table>\n",
       "<p>28447 rows × 2105 columns</p>\n",
       "</div>"
      ],
      "text/plain": [
       "       02  02 cold  02 cold hold  03  03 food  03 food products  07  07 food  \\\n",
       "0       0        0             0   0        0                 0   0        0   \n",
       "1       0        0             0   0        0                 0   0        0   \n",
       "2       0        0             0   0        0                 0   0        0   \n",
       "3       1        1             1   0        0                 0   0        0   \n",
       "4       0        0             0   0        0                 0   0        0   \n",
       "...    ..      ...           ...  ..      ...               ...  ..      ...   \n",
       "28442   1        1             1   0        0                 0   0        0   \n",
       "28443   1        1             1   1        1                 1   0        0   \n",
       "28444   0        0             0   0        0                 0   0        0   \n",
       "28445   0        0             0   0        0                 0   0        0   \n",
       "28446   0        0             0   0        0                 0   0        0   \n",
       "\n",
       "       07 food safe  09  ...  õ228 71 title  õ228 73  õ228 73 title  õ228 78  \\\n",
       "0                 0   0  ...              0        0              0        0   \n",
       "1                 0   0  ...              0        0              0        0   \n",
       "2                 0   0  ...              0        0              0        0   \n",
       "3                 0   0  ...              0        0              0        0   \n",
       "4                 0   0  ...              0        0              0        0   \n",
       "...             ...  ..  ...            ...      ...            ...      ...   \n",
       "28442             0   0  ...              0        0              0        0   \n",
       "28443             0   1  ...              1        1              1        0   \n",
       "28444             0   1  ...              0        0              0        0   \n",
       "28445             0   0  ...              0        0              0        0   \n",
       "28446             0   0  ...              0        0              0        0   \n",
       "\n",
       "       õ228 78 title  calculated_score  next_inspection_score  \\\n",
       "0                  0              96.0                  100.0   \n",
       "1                  0              97.0                   94.0   \n",
       "2                  0              91.0                   90.0   \n",
       "3                  0              80.0                   81.0   \n",
       "4                  0              81.0                   73.0   \n",
       "...              ...               ...                    ...   \n",
       "28442              0              80.0                   91.0   \n",
       "28443              0              70.0                   95.0   \n",
       "28444              0              69.0                   89.0   \n",
       "28445              0              96.0                   95.0   \n",
       "28446              0              90.0                   96.0   \n",
       "\n",
       "       days_since_last_insp  inspection_count  next_inspection_grade  \n",
       "0                       0.0                 2                      A  \n",
       "1                       0.0                 2                      A  \n",
       "2                       0.0                 2                      A  \n",
       "3                       7.0                 2                      B  \n",
       "4                      11.0                 2                      C  \n",
       "...                     ...               ...                    ...  \n",
       "28442                 166.0                 1                      A  \n",
       "28443                 197.0                 1                      A  \n",
       "28444                 190.0                 1                      B  \n",
       "28445                 369.0                 1                      A  \n",
       "28446                 181.0                 3                      A  \n",
       "\n",
       "[28447 rows x 2105 columns]"
      ]
     },
     "execution_count": 57,
     "metadata": {},
     "output_type": "execute_result"
    }
   ],
   "source": [
    "X_text_df"
   ]
  },
  {
   "cell_type": "code",
   "execution_count": 98,
   "metadata": {},
   "outputs": [],
   "source": [
    "X = X_text_df.drop(columns = ['next_inspection_score', 'next_inspection_grade']) #predictive variable\n",
    "y = X_text_df['next_inspection_grade']"
   ]
  },
  {
   "cell_type": "code",
   "execution_count": 59,
   "metadata": {},
   "outputs": [
    {
     "data": {
      "text/plain": [
       "(28447, 2103)"
      ]
     },
     "execution_count": 59,
     "metadata": {},
     "output_type": "execute_result"
    }
   ],
   "source": [
    "X.shape"
   ]
  },
  {
   "cell_type": "code",
   "execution_count": 60,
   "metadata": {},
   "outputs": [
    {
     "data": {
      "text/plain": [
       "(28447,)"
      ]
     },
     "execution_count": 60,
     "metadata": {},
     "output_type": "execute_result"
    }
   ],
   "source": [
    "y.shape"
   ]
  },
  {
   "cell_type": "markdown",
   "metadata": {},
   "source": [
    "# Modeling"
   ]
  },
  {
   "cell_type": "code",
   "execution_count": 99,
   "metadata": {},
   "outputs": [],
   "source": [
    "X_train, X_test, y_train, y_test = train_test_split(X, y,\n",
    "                                                    random_state = 63, stratify = y)"
   ]
  },
  {
   "cell_type": "markdown",
   "metadata": {},
   "source": [
    "# Baseline"
   ]
  },
  {
   "cell_type": "code",
   "execution_count": 100,
   "metadata": {},
   "outputs": [
    {
     "data": {
      "text/plain": [
       "4    0.603825\n",
       "3    0.349316\n",
       "2    0.038668\n",
       "1    0.007839\n",
       "0    0.000352\n",
       "Name: next_inspection_grade, dtype: float64"
      ]
     },
     "execution_count": 100,
     "metadata": {},
     "output_type": "execute_result"
    }
   ],
   "source": [
    "y.value_counts()/len(df)"
   ]
  },
  {
   "cell_type": "markdown",
   "metadata": {},
   "source": [
    "Baseline model would perform at 60.3% accuracy, which would be if my model predicted A every time."
   ]
  },
  {
   "cell_type": "code",
   "execution_count": 102,
   "metadata": {},
   "outputs": [],
   "source": [
    "pipe = Pipeline([ #instantiate transformers and model \n",
    "    ('tfidf', TfidfTransformer()),\n",
    "    ('lr', LogisticRegression(random_state = 63))\n",
    "])\n",
    "\n",
    "# set hyperparameters\n",
    "\n",
    "pipe_params = {'tfidf__use_idf'  : [True, False], #toggle between use of TFIDF\n",
    "              'lr__solver': ['lbfgs'],\n",
    "              'lr__penalty': ['l2']}\n",
    "\n",
    "gs = GridSearchCV(pipe,\n",
    "                 param_grid = pipe_params,\n",
    "                 cv = 3, # cross validation of 3\n",
    "                 scoring = 'accuracy',\n",
    "                 verbose = 2)"
   ]
  },
  {
   "cell_type": "code",
   "execution_count": 103,
   "metadata": {
    "scrolled": true
   },
   "outputs": [
    {
     "name": "stdout",
     "output_type": "stream",
     "text": [
      "Fitting 3 folds for each of 18 candidates, totalling 54 fits\n",
      "[CV] lr__penalty=l1, lr__solver=liblinear, tfidf__use_idf=True .......\n"
     ]
    },
    {
     "name": "stderr",
     "output_type": "stream",
     "text": [
      "[Parallel(n_jobs=1)]: Using backend SequentialBackend with 1 concurrent workers.\n"
     ]
    },
    {
     "name": "stdout",
     "output_type": "stream",
     "text": [
      "[CV]  lr__penalty=l1, lr__solver=liblinear, tfidf__use_idf=True, total=  10.1s\n",
      "[CV] lr__penalty=l1, lr__solver=liblinear, tfidf__use_idf=True .......\n"
     ]
    },
    {
     "name": "stderr",
     "output_type": "stream",
     "text": [
      "[Parallel(n_jobs=1)]: Done   1 out of   1 | elapsed:   10.2s remaining:    0.0s\n"
     ]
    },
    {
     "name": "stdout",
     "output_type": "stream",
     "text": [
      "[CV]  lr__penalty=l1, lr__solver=liblinear, tfidf__use_idf=True, total=  11.4s\n",
      "[CV] lr__penalty=l1, lr__solver=liblinear, tfidf__use_idf=True .......\n",
      "[CV]  lr__penalty=l1, lr__solver=liblinear, tfidf__use_idf=True, total=   8.5s\n",
      "[CV] lr__penalty=l1, lr__solver=liblinear, tfidf__use_idf=False ......\n",
      "[CV]  lr__penalty=l1, lr__solver=liblinear, tfidf__use_idf=False, total=   9.2s\n",
      "[CV] lr__penalty=l1, lr__solver=liblinear, tfidf__use_idf=False ......\n",
      "[CV]  lr__penalty=l1, lr__solver=liblinear, tfidf__use_idf=False, total=   8.7s\n",
      "[CV] lr__penalty=l1, lr__solver=liblinear, tfidf__use_idf=False ......\n",
      "[CV]  lr__penalty=l1, lr__solver=liblinear, tfidf__use_idf=False, total=   8.4s\n",
      "[CV] lr__penalty=l1, lr__solver=lbfgs, tfidf__use_idf=True ...........\n"
     ]
    },
    {
     "name": "stderr",
     "output_type": "stream",
     "text": [
      "/Users/brandongreenspan/opt/anaconda3/envs/dsi/lib/python3.7/site-packages/sklearn/model_selection/_validation.py:536: FitFailedWarning: Estimator fit failed. The score on this train-test partition for these parameters will be set to nan. Details: \n",
      "ValueError: Solver lbfgs supports only 'l2' or 'none' penalties, got l1 penalty.\n",
      "\n",
      "  FitFailedWarning)\n"
     ]
    },
    {
     "name": "stdout",
     "output_type": "stream",
     "text": [
      "[CV]  lr__penalty=l1, lr__solver=lbfgs, tfidf__use_idf=True, total=   2.9s\n",
      "[CV] lr__penalty=l1, lr__solver=lbfgs, tfidf__use_idf=True ...........\n"
     ]
    },
    {
     "name": "stderr",
     "output_type": "stream",
     "text": [
      "/Users/brandongreenspan/opt/anaconda3/envs/dsi/lib/python3.7/site-packages/sklearn/model_selection/_validation.py:536: FitFailedWarning: Estimator fit failed. The score on this train-test partition for these parameters will be set to nan. Details: \n",
      "ValueError: Solver lbfgs supports only 'l2' or 'none' penalties, got l1 penalty.\n",
      "\n",
      "  FitFailedWarning)\n"
     ]
    },
    {
     "name": "stdout",
     "output_type": "stream",
     "text": [
      "[CV]  lr__penalty=l1, lr__solver=lbfgs, tfidf__use_idf=True, total=   3.1s\n",
      "[CV] lr__penalty=l1, lr__solver=lbfgs, tfidf__use_idf=True ...........\n"
     ]
    },
    {
     "name": "stderr",
     "output_type": "stream",
     "text": [
      "/Users/brandongreenspan/opt/anaconda3/envs/dsi/lib/python3.7/site-packages/sklearn/model_selection/_validation.py:536: FitFailedWarning: Estimator fit failed. The score on this train-test partition for these parameters will be set to nan. Details: \n",
      "ValueError: Solver lbfgs supports only 'l2' or 'none' penalties, got l1 penalty.\n",
      "\n",
      "  FitFailedWarning)\n"
     ]
    },
    {
     "name": "stdout",
     "output_type": "stream",
     "text": [
      "[CV]  lr__penalty=l1, lr__solver=lbfgs, tfidf__use_idf=True, total=   2.5s\n",
      "[CV] lr__penalty=l1, lr__solver=lbfgs, tfidf__use_idf=False ..........\n"
     ]
    },
    {
     "name": "stderr",
     "output_type": "stream",
     "text": [
      "/Users/brandongreenspan/opt/anaconda3/envs/dsi/lib/python3.7/site-packages/sklearn/model_selection/_validation.py:536: FitFailedWarning: Estimator fit failed. The score on this train-test partition for these parameters will be set to nan. Details: \n",
      "ValueError: Solver lbfgs supports only 'l2' or 'none' penalties, got l1 penalty.\n",
      "\n",
      "  FitFailedWarning)\n"
     ]
    },
    {
     "name": "stdout",
     "output_type": "stream",
     "text": [
      "[CV]  lr__penalty=l1, lr__solver=lbfgs, tfidf__use_idf=False, total=   2.7s\n",
      "[CV] lr__penalty=l1, lr__solver=lbfgs, tfidf__use_idf=False ..........\n"
     ]
    },
    {
     "name": "stderr",
     "output_type": "stream",
     "text": [
      "/Users/brandongreenspan/opt/anaconda3/envs/dsi/lib/python3.7/site-packages/sklearn/model_selection/_validation.py:536: FitFailedWarning: Estimator fit failed. The score on this train-test partition for these parameters will be set to nan. Details: \n",
      "ValueError: Solver lbfgs supports only 'l2' or 'none' penalties, got l1 penalty.\n",
      "\n",
      "  FitFailedWarning)\n"
     ]
    },
    {
     "name": "stdout",
     "output_type": "stream",
     "text": [
      "[CV]  lr__penalty=l1, lr__solver=lbfgs, tfidf__use_idf=False, total=   2.8s\n",
      "[CV] lr__penalty=l1, lr__solver=lbfgs, tfidf__use_idf=False ..........\n"
     ]
    },
    {
     "name": "stderr",
     "output_type": "stream",
     "text": [
      "/Users/brandongreenspan/opt/anaconda3/envs/dsi/lib/python3.7/site-packages/sklearn/model_selection/_validation.py:536: FitFailedWarning: Estimator fit failed. The score on this train-test partition for these parameters will be set to nan. Details: \n",
      "ValueError: Solver lbfgs supports only 'l2' or 'none' penalties, got l1 penalty.\n",
      "\n",
      "  FitFailedWarning)\n"
     ]
    },
    {
     "name": "stdout",
     "output_type": "stream",
     "text": [
      "[CV]  lr__penalty=l1, lr__solver=lbfgs, tfidf__use_idf=False, total=   2.4s\n",
      "[CV] lr__penalty=l1, lr__solver=none, tfidf__use_idf=True ............\n"
     ]
    },
    {
     "name": "stderr",
     "output_type": "stream",
     "text": [
      "/Users/brandongreenspan/opt/anaconda3/envs/dsi/lib/python3.7/site-packages/sklearn/model_selection/_validation.py:536: FitFailedWarning: Estimator fit failed. The score on this train-test partition for these parameters will be set to nan. Details: \n",
      "ValueError: Logistic Regression supports only solvers in ['liblinear', 'newton-cg', 'lbfgs', 'sag', 'saga'], got none.\n",
      "\n",
      "  FitFailedWarning)\n"
     ]
    },
    {
     "name": "stdout",
     "output_type": "stream",
     "text": [
      "[CV]  lr__penalty=l1, lr__solver=none, tfidf__use_idf=True, total=   2.8s\n",
      "[CV] lr__penalty=l1, lr__solver=none, tfidf__use_idf=True ............\n"
     ]
    },
    {
     "name": "stderr",
     "output_type": "stream",
     "text": [
      "/Users/brandongreenspan/opt/anaconda3/envs/dsi/lib/python3.7/site-packages/sklearn/model_selection/_validation.py:536: FitFailedWarning: Estimator fit failed. The score on this train-test partition for these parameters will be set to nan. Details: \n",
      "ValueError: Logistic Regression supports only solvers in ['liblinear', 'newton-cg', 'lbfgs', 'sag', 'saga'], got none.\n",
      "\n",
      "  FitFailedWarning)\n"
     ]
    },
    {
     "name": "stdout",
     "output_type": "stream",
     "text": [
      "[CV]  lr__penalty=l1, lr__solver=none, tfidf__use_idf=True, total=   3.0s\n",
      "[CV] lr__penalty=l1, lr__solver=none, tfidf__use_idf=True ............\n"
     ]
    },
    {
     "name": "stderr",
     "output_type": "stream",
     "text": [
      "/Users/brandongreenspan/opt/anaconda3/envs/dsi/lib/python3.7/site-packages/sklearn/model_selection/_validation.py:536: FitFailedWarning: Estimator fit failed. The score on this train-test partition for these parameters will be set to nan. Details: \n",
      "ValueError: Logistic Regression supports only solvers in ['liblinear', 'newton-cg', 'lbfgs', 'sag', 'saga'], got none.\n",
      "\n",
      "  FitFailedWarning)\n"
     ]
    },
    {
     "name": "stdout",
     "output_type": "stream",
     "text": [
      "[CV]  lr__penalty=l1, lr__solver=none, tfidf__use_idf=True, total=   2.6s\n",
      "[CV] lr__penalty=l1, lr__solver=none, tfidf__use_idf=False ...........\n"
     ]
    },
    {
     "name": "stderr",
     "output_type": "stream",
     "text": [
      "/Users/brandongreenspan/opt/anaconda3/envs/dsi/lib/python3.7/site-packages/sklearn/model_selection/_validation.py:536: FitFailedWarning: Estimator fit failed. The score on this train-test partition for these parameters will be set to nan. Details: \n",
      "ValueError: Logistic Regression supports only solvers in ['liblinear', 'newton-cg', 'lbfgs', 'sag', 'saga'], got none.\n",
      "\n",
      "  FitFailedWarning)\n"
     ]
    },
    {
     "name": "stdout",
     "output_type": "stream",
     "text": [
      "[CV]  lr__penalty=l1, lr__solver=none, tfidf__use_idf=False, total=   2.9s\n",
      "[CV] lr__penalty=l1, lr__solver=none, tfidf__use_idf=False ...........\n"
     ]
    },
    {
     "name": "stderr",
     "output_type": "stream",
     "text": [
      "/Users/brandongreenspan/opt/anaconda3/envs/dsi/lib/python3.7/site-packages/sklearn/model_selection/_validation.py:536: FitFailedWarning: Estimator fit failed. The score on this train-test partition for these parameters will be set to nan. Details: \n",
      "ValueError: Logistic Regression supports only solvers in ['liblinear', 'newton-cg', 'lbfgs', 'sag', 'saga'], got none.\n",
      "\n",
      "  FitFailedWarning)\n"
     ]
    },
    {
     "name": "stdout",
     "output_type": "stream",
     "text": [
      "[CV]  lr__penalty=l1, lr__solver=none, tfidf__use_idf=False, total=   2.7s\n",
      "[CV] lr__penalty=l1, lr__solver=none, tfidf__use_idf=False ...........\n"
     ]
    },
    {
     "name": "stderr",
     "output_type": "stream",
     "text": [
      "/Users/brandongreenspan/opt/anaconda3/envs/dsi/lib/python3.7/site-packages/sklearn/model_selection/_validation.py:536: FitFailedWarning: Estimator fit failed. The score on this train-test partition for these parameters will be set to nan. Details: \n",
      "ValueError: Logistic Regression supports only solvers in ['liblinear', 'newton-cg', 'lbfgs', 'sag', 'saga'], got none.\n",
      "\n",
      "  FitFailedWarning)\n"
     ]
    },
    {
     "name": "stdout",
     "output_type": "stream",
     "text": [
      "[CV]  lr__penalty=l1, lr__solver=none, tfidf__use_idf=False, total=   2.4s\n",
      "[CV] lr__penalty=l2, lr__solver=liblinear, tfidf__use_idf=True .......\n",
      "[CV]  lr__penalty=l2, lr__solver=liblinear, tfidf__use_idf=True, total=   6.7s\n",
      "[CV] lr__penalty=l2, lr__solver=liblinear, tfidf__use_idf=True .......\n",
      "[CV]  lr__penalty=l2, lr__solver=liblinear, tfidf__use_idf=True, total=   6.8s\n",
      "[CV] lr__penalty=l2, lr__solver=liblinear, tfidf__use_idf=True .......\n",
      "[CV]  lr__penalty=l2, lr__solver=liblinear, tfidf__use_idf=True, total=  11.0s\n",
      "[CV] lr__penalty=l2, lr__solver=liblinear, tfidf__use_idf=False ......\n",
      "[CV]  lr__penalty=l2, lr__solver=liblinear, tfidf__use_idf=False, total=   7.7s\n",
      "[CV] lr__penalty=l2, lr__solver=liblinear, tfidf__use_idf=False ......\n",
      "[CV]  lr__penalty=l2, lr__solver=liblinear, tfidf__use_idf=False, total=   7.5s\n",
      "[CV] lr__penalty=l2, lr__solver=liblinear, tfidf__use_idf=False ......\n",
      "[CV]  lr__penalty=l2, lr__solver=liblinear, tfidf__use_idf=False, total=   6.5s\n",
      "[CV] lr__penalty=l2, lr__solver=lbfgs, tfidf__use_idf=True ...........\n"
     ]
    },
    {
     "name": "stderr",
     "output_type": "stream",
     "text": [
      "/Users/brandongreenspan/opt/anaconda3/envs/dsi/lib/python3.7/site-packages/sklearn/linear_model/_logistic.py:940: ConvergenceWarning: lbfgs failed to converge (status=1):\n",
      "STOP: TOTAL NO. of ITERATIONS REACHED LIMIT.\n",
      "\n",
      "Increase the number of iterations (max_iter) or scale the data as shown in:\n",
      "    https://scikit-learn.org/stable/modules/preprocessing.html\n",
      "Please also refer to the documentation for alternative solver options:\n",
      "    https://scikit-learn.org/stable/modules/linear_model.html#logistic-regression\n",
      "  extra_warning_msg=_LOGISTIC_SOLVER_CONVERGENCE_MSG)\n"
     ]
    },
    {
     "name": "stdout",
     "output_type": "stream",
     "text": [
      "[CV]  lr__penalty=l2, lr__solver=lbfgs, tfidf__use_idf=True, total=  11.3s\n",
      "[CV] lr__penalty=l2, lr__solver=lbfgs, tfidf__use_idf=True ...........\n"
     ]
    },
    {
     "name": "stderr",
     "output_type": "stream",
     "text": [
      "/Users/brandongreenspan/opt/anaconda3/envs/dsi/lib/python3.7/site-packages/sklearn/linear_model/_logistic.py:940: ConvergenceWarning: lbfgs failed to converge (status=1):\n",
      "STOP: TOTAL NO. of ITERATIONS REACHED LIMIT.\n",
      "\n",
      "Increase the number of iterations (max_iter) or scale the data as shown in:\n",
      "    https://scikit-learn.org/stable/modules/preprocessing.html\n",
      "Please also refer to the documentation for alternative solver options:\n",
      "    https://scikit-learn.org/stable/modules/linear_model.html#logistic-regression\n",
      "  extra_warning_msg=_LOGISTIC_SOLVER_CONVERGENCE_MSG)\n"
     ]
    },
    {
     "name": "stdout",
     "output_type": "stream",
     "text": [
      "[CV]  lr__penalty=l2, lr__solver=lbfgs, tfidf__use_idf=True, total=  11.1s\n",
      "[CV] lr__penalty=l2, lr__solver=lbfgs, tfidf__use_idf=True ...........\n"
     ]
    },
    {
     "name": "stderr",
     "output_type": "stream",
     "text": [
      "/Users/brandongreenspan/opt/anaconda3/envs/dsi/lib/python3.7/site-packages/sklearn/linear_model/_logistic.py:940: ConvergenceWarning: lbfgs failed to converge (status=1):\n",
      "STOP: TOTAL NO. of ITERATIONS REACHED LIMIT.\n",
      "\n",
      "Increase the number of iterations (max_iter) or scale the data as shown in:\n",
      "    https://scikit-learn.org/stable/modules/preprocessing.html\n",
      "Please also refer to the documentation for alternative solver options:\n",
      "    https://scikit-learn.org/stable/modules/linear_model.html#logistic-regression\n",
      "  extra_warning_msg=_LOGISTIC_SOLVER_CONVERGENCE_MSG)\n"
     ]
    },
    {
     "name": "stdout",
     "output_type": "stream",
     "text": [
      "[CV]  lr__penalty=l2, lr__solver=lbfgs, tfidf__use_idf=True, total=  11.4s\n",
      "[CV] lr__penalty=l2, lr__solver=lbfgs, tfidf__use_idf=False ..........\n"
     ]
    },
    {
     "name": "stderr",
     "output_type": "stream",
     "text": [
      "/Users/brandongreenspan/opt/anaconda3/envs/dsi/lib/python3.7/site-packages/sklearn/linear_model/_logistic.py:940: ConvergenceWarning: lbfgs failed to converge (status=1):\n",
      "STOP: TOTAL NO. of ITERATIONS REACHED LIMIT.\n",
      "\n",
      "Increase the number of iterations (max_iter) or scale the data as shown in:\n",
      "    https://scikit-learn.org/stable/modules/preprocessing.html\n",
      "Please also refer to the documentation for alternative solver options:\n",
      "    https://scikit-learn.org/stable/modules/linear_model.html#logistic-regression\n",
      "  extra_warning_msg=_LOGISTIC_SOLVER_CONVERGENCE_MSG)\n"
     ]
    },
    {
     "name": "stdout",
     "output_type": "stream",
     "text": [
      "[CV]  lr__penalty=l2, lr__solver=lbfgs, tfidf__use_idf=False, total=  11.4s\n",
      "[CV] lr__penalty=l2, lr__solver=lbfgs, tfidf__use_idf=False ..........\n"
     ]
    },
    {
     "name": "stderr",
     "output_type": "stream",
     "text": [
      "/Users/brandongreenspan/opt/anaconda3/envs/dsi/lib/python3.7/site-packages/sklearn/linear_model/_logistic.py:940: ConvergenceWarning: lbfgs failed to converge (status=1):\n",
      "STOP: TOTAL NO. of ITERATIONS REACHED LIMIT.\n",
      "\n",
      "Increase the number of iterations (max_iter) or scale the data as shown in:\n",
      "    https://scikit-learn.org/stable/modules/preprocessing.html\n",
      "Please also refer to the documentation for alternative solver options:\n",
      "    https://scikit-learn.org/stable/modules/linear_model.html#logistic-regression\n",
      "  extra_warning_msg=_LOGISTIC_SOLVER_CONVERGENCE_MSG)\n"
     ]
    },
    {
     "name": "stdout",
     "output_type": "stream",
     "text": [
      "[CV]  lr__penalty=l2, lr__solver=lbfgs, tfidf__use_idf=False, total=  11.2s\n",
      "[CV] lr__penalty=l2, lr__solver=lbfgs, tfidf__use_idf=False ..........\n"
     ]
    },
    {
     "name": "stderr",
     "output_type": "stream",
     "text": [
      "/Users/brandongreenspan/opt/anaconda3/envs/dsi/lib/python3.7/site-packages/sklearn/linear_model/_logistic.py:940: ConvergenceWarning: lbfgs failed to converge (status=1):\n",
      "STOP: TOTAL NO. of ITERATIONS REACHED LIMIT.\n",
      "\n",
      "Increase the number of iterations (max_iter) or scale the data as shown in:\n",
      "    https://scikit-learn.org/stable/modules/preprocessing.html\n",
      "Please also refer to the documentation for alternative solver options:\n",
      "    https://scikit-learn.org/stable/modules/linear_model.html#logistic-regression\n",
      "  extra_warning_msg=_LOGISTIC_SOLVER_CONVERGENCE_MSG)\n"
     ]
    },
    {
     "name": "stdout",
     "output_type": "stream",
     "text": [
      "[CV]  lr__penalty=l2, lr__solver=lbfgs, tfidf__use_idf=False, total=  10.9s\n",
      "[CV] lr__penalty=l2, lr__solver=none, tfidf__use_idf=True ............\n"
     ]
    },
    {
     "name": "stderr",
     "output_type": "stream",
     "text": [
      "/Users/brandongreenspan/opt/anaconda3/envs/dsi/lib/python3.7/site-packages/sklearn/model_selection/_validation.py:536: FitFailedWarning: Estimator fit failed. The score on this train-test partition for these parameters will be set to nan. Details: \n",
      "ValueError: Logistic Regression supports only solvers in ['liblinear', 'newton-cg', 'lbfgs', 'sag', 'saga'], got none.\n",
      "\n",
      "  FitFailedWarning)\n"
     ]
    },
    {
     "name": "stdout",
     "output_type": "stream",
     "text": [
      "[CV]  lr__penalty=l2, lr__solver=none, tfidf__use_idf=True, total=   3.0s\n",
      "[CV] lr__penalty=l2, lr__solver=none, tfidf__use_idf=True ............\n"
     ]
    },
    {
     "name": "stderr",
     "output_type": "stream",
     "text": [
      "/Users/brandongreenspan/opt/anaconda3/envs/dsi/lib/python3.7/site-packages/sklearn/model_selection/_validation.py:536: FitFailedWarning: Estimator fit failed. The score on this train-test partition for these parameters will be set to nan. Details: \n",
      "ValueError: Logistic Regression supports only solvers in ['liblinear', 'newton-cg', 'lbfgs', 'sag', 'saga'], got none.\n",
      "\n",
      "  FitFailedWarning)\n"
     ]
    },
    {
     "name": "stdout",
     "output_type": "stream",
     "text": [
      "[CV]  lr__penalty=l2, lr__solver=none, tfidf__use_idf=True, total=   3.3s\n",
      "[CV] lr__penalty=l2, lr__solver=none, tfidf__use_idf=True ............\n"
     ]
    },
    {
     "name": "stderr",
     "output_type": "stream",
     "text": [
      "/Users/brandongreenspan/opt/anaconda3/envs/dsi/lib/python3.7/site-packages/sklearn/model_selection/_validation.py:536: FitFailedWarning: Estimator fit failed. The score on this train-test partition for these parameters will be set to nan. Details: \n",
      "ValueError: Logistic Regression supports only solvers in ['liblinear', 'newton-cg', 'lbfgs', 'sag', 'saga'], got none.\n",
      "\n",
      "  FitFailedWarning)\n"
     ]
    },
    {
     "name": "stdout",
     "output_type": "stream",
     "text": [
      "[CV]  lr__penalty=l2, lr__solver=none, tfidf__use_idf=True, total=   3.0s\n",
      "[CV] lr__penalty=l2, lr__solver=none, tfidf__use_idf=False ...........\n"
     ]
    },
    {
     "name": "stderr",
     "output_type": "stream",
     "text": [
      "/Users/brandongreenspan/opt/anaconda3/envs/dsi/lib/python3.7/site-packages/sklearn/model_selection/_validation.py:536: FitFailedWarning: Estimator fit failed. The score on this train-test partition for these parameters will be set to nan. Details: \n",
      "ValueError: Logistic Regression supports only solvers in ['liblinear', 'newton-cg', 'lbfgs', 'sag', 'saga'], got none.\n",
      "\n",
      "  FitFailedWarning)\n"
     ]
    },
    {
     "name": "stdout",
     "output_type": "stream",
     "text": [
      "[CV]  lr__penalty=l2, lr__solver=none, tfidf__use_idf=False, total=   3.1s\n",
      "[CV] lr__penalty=l2, lr__solver=none, tfidf__use_idf=False ...........\n"
     ]
    },
    {
     "name": "stderr",
     "output_type": "stream",
     "text": [
      "/Users/brandongreenspan/opt/anaconda3/envs/dsi/lib/python3.7/site-packages/sklearn/model_selection/_validation.py:536: FitFailedWarning: Estimator fit failed. The score on this train-test partition for these parameters will be set to nan. Details: \n",
      "ValueError: Logistic Regression supports only solvers in ['liblinear', 'newton-cg', 'lbfgs', 'sag', 'saga'], got none.\n",
      "\n",
      "  FitFailedWarning)\n"
     ]
    },
    {
     "name": "stdout",
     "output_type": "stream",
     "text": [
      "[CV]  lr__penalty=l2, lr__solver=none, tfidf__use_idf=False, total=   2.9s\n",
      "[CV] lr__penalty=l2, lr__solver=none, tfidf__use_idf=False ...........\n"
     ]
    },
    {
     "name": "stderr",
     "output_type": "stream",
     "text": [
      "/Users/brandongreenspan/opt/anaconda3/envs/dsi/lib/python3.7/site-packages/sklearn/model_selection/_validation.py:536: FitFailedWarning: Estimator fit failed. The score on this train-test partition for these parameters will be set to nan. Details: \n",
      "ValueError: Logistic Regression supports only solvers in ['liblinear', 'newton-cg', 'lbfgs', 'sag', 'saga'], got none.\n",
      "\n",
      "  FitFailedWarning)\n"
     ]
    },
    {
     "name": "stdout",
     "output_type": "stream",
     "text": [
      "[CV]  lr__penalty=l2, lr__solver=none, tfidf__use_idf=False, total=   2.4s\n",
      "[CV] lr__penalty=none, lr__solver=liblinear, tfidf__use_idf=True .....\n"
     ]
    },
    {
     "name": "stderr",
     "output_type": "stream",
     "text": [
      "/Users/brandongreenspan/opt/anaconda3/envs/dsi/lib/python3.7/site-packages/sklearn/model_selection/_validation.py:536: FitFailedWarning: Estimator fit failed. The score on this train-test partition for these parameters will be set to nan. Details: \n",
      "ValueError: penalty='none' is not supported for the liblinear solver\n",
      "\n",
      "  FitFailedWarning)\n"
     ]
    },
    {
     "name": "stdout",
     "output_type": "stream",
     "text": [
      "[CV]  lr__penalty=none, lr__solver=liblinear, tfidf__use_idf=True, total=   2.8s\n",
      "[CV] lr__penalty=none, lr__solver=liblinear, tfidf__use_idf=True .....\n"
     ]
    },
    {
     "name": "stderr",
     "output_type": "stream",
     "text": [
      "/Users/brandongreenspan/opt/anaconda3/envs/dsi/lib/python3.7/site-packages/sklearn/model_selection/_validation.py:536: FitFailedWarning: Estimator fit failed. The score on this train-test partition for these parameters will be set to nan. Details: \n",
      "ValueError: penalty='none' is not supported for the liblinear solver\n",
      "\n",
      "  FitFailedWarning)\n"
     ]
    },
    {
     "name": "stdout",
     "output_type": "stream",
     "text": [
      "[CV]  lr__penalty=none, lr__solver=liblinear, tfidf__use_idf=True, total=   2.9s\n",
      "[CV] lr__penalty=none, lr__solver=liblinear, tfidf__use_idf=True .....\n"
     ]
    },
    {
     "name": "stderr",
     "output_type": "stream",
     "text": [
      "/Users/brandongreenspan/opt/anaconda3/envs/dsi/lib/python3.7/site-packages/sklearn/model_selection/_validation.py:536: FitFailedWarning: Estimator fit failed. The score on this train-test partition for these parameters will be set to nan. Details: \n",
      "ValueError: penalty='none' is not supported for the liblinear solver\n",
      "\n",
      "  FitFailedWarning)\n"
     ]
    },
    {
     "name": "stdout",
     "output_type": "stream",
     "text": [
      "[CV]  lr__penalty=none, lr__solver=liblinear, tfidf__use_idf=True, total=   2.5s\n",
      "[CV] lr__penalty=none, lr__solver=liblinear, tfidf__use_idf=False ....\n"
     ]
    },
    {
     "name": "stderr",
     "output_type": "stream",
     "text": [
      "/Users/brandongreenspan/opt/anaconda3/envs/dsi/lib/python3.7/site-packages/sklearn/model_selection/_validation.py:536: FitFailedWarning: Estimator fit failed. The score on this train-test partition for these parameters will be set to nan. Details: \n",
      "ValueError: penalty='none' is not supported for the liblinear solver\n",
      "\n",
      "  FitFailedWarning)\n"
     ]
    },
    {
     "name": "stdout",
     "output_type": "stream",
     "text": [
      "[CV]  lr__penalty=none, lr__solver=liblinear, tfidf__use_idf=False, total=   2.8s\n",
      "[CV] lr__penalty=none, lr__solver=liblinear, tfidf__use_idf=False ....\n"
     ]
    },
    {
     "name": "stderr",
     "output_type": "stream",
     "text": [
      "/Users/brandongreenspan/opt/anaconda3/envs/dsi/lib/python3.7/site-packages/sklearn/model_selection/_validation.py:536: FitFailedWarning: Estimator fit failed. The score on this train-test partition for these parameters will be set to nan. Details: \n",
      "ValueError: penalty='none' is not supported for the liblinear solver\n",
      "\n",
      "  FitFailedWarning)\n"
     ]
    },
    {
     "name": "stdout",
     "output_type": "stream",
     "text": [
      "[CV]  lr__penalty=none, lr__solver=liblinear, tfidf__use_idf=False, total=   2.8s\n",
      "[CV] lr__penalty=none, lr__solver=liblinear, tfidf__use_idf=False ....\n"
     ]
    },
    {
     "name": "stderr",
     "output_type": "stream",
     "text": [
      "/Users/brandongreenspan/opt/anaconda3/envs/dsi/lib/python3.7/site-packages/sklearn/model_selection/_validation.py:536: FitFailedWarning: Estimator fit failed. The score on this train-test partition for these parameters will be set to nan. Details: \n",
      "ValueError: penalty='none' is not supported for the liblinear solver\n",
      "\n",
      "  FitFailedWarning)\n"
     ]
    },
    {
     "name": "stdout",
     "output_type": "stream",
     "text": [
      "[CV]  lr__penalty=none, lr__solver=liblinear, tfidf__use_idf=False, total=   2.5s\n",
      "[CV] lr__penalty=none, lr__solver=lbfgs, tfidf__use_idf=True .........\n"
     ]
    },
    {
     "name": "stderr",
     "output_type": "stream",
     "text": [
      "/Users/brandongreenspan/opt/anaconda3/envs/dsi/lib/python3.7/site-packages/sklearn/linear_model/_logistic.py:940: ConvergenceWarning: lbfgs failed to converge (status=1):\n",
      "STOP: TOTAL NO. of ITERATIONS REACHED LIMIT.\n",
      "\n",
      "Increase the number of iterations (max_iter) or scale the data as shown in:\n",
      "    https://scikit-learn.org/stable/modules/preprocessing.html\n",
      "Please also refer to the documentation for alternative solver options:\n",
      "    https://scikit-learn.org/stable/modules/linear_model.html#logistic-regression\n",
      "  extra_warning_msg=_LOGISTIC_SOLVER_CONVERGENCE_MSG)\n"
     ]
    },
    {
     "name": "stdout",
     "output_type": "stream",
     "text": [
      "[CV]  lr__penalty=none, lr__solver=lbfgs, tfidf__use_idf=True, total=  10.6s\n",
      "[CV] lr__penalty=none, lr__solver=lbfgs, tfidf__use_idf=True .........\n"
     ]
    },
    {
     "name": "stderr",
     "output_type": "stream",
     "text": [
      "/Users/brandongreenspan/opt/anaconda3/envs/dsi/lib/python3.7/site-packages/sklearn/linear_model/_logistic.py:940: ConvergenceWarning: lbfgs failed to converge (status=1):\n",
      "STOP: TOTAL NO. of ITERATIONS REACHED LIMIT.\n",
      "\n",
      "Increase the number of iterations (max_iter) or scale the data as shown in:\n",
      "    https://scikit-learn.org/stable/modules/preprocessing.html\n",
      "Please also refer to the documentation for alternative solver options:\n",
      "    https://scikit-learn.org/stable/modules/linear_model.html#logistic-regression\n",
      "  extra_warning_msg=_LOGISTIC_SOLVER_CONVERGENCE_MSG)\n"
     ]
    },
    {
     "name": "stdout",
     "output_type": "stream",
     "text": [
      "[CV]  lr__penalty=none, lr__solver=lbfgs, tfidf__use_idf=True, total=  11.3s\n",
      "[CV] lr__penalty=none, lr__solver=lbfgs, tfidf__use_idf=True .........\n"
     ]
    },
    {
     "name": "stderr",
     "output_type": "stream",
     "text": [
      "/Users/brandongreenspan/opt/anaconda3/envs/dsi/lib/python3.7/site-packages/sklearn/linear_model/_logistic.py:940: ConvergenceWarning: lbfgs failed to converge (status=1):\n",
      "STOP: TOTAL NO. of ITERATIONS REACHED LIMIT.\n",
      "\n",
      "Increase the number of iterations (max_iter) or scale the data as shown in:\n",
      "    https://scikit-learn.org/stable/modules/preprocessing.html\n",
      "Please also refer to the documentation for alternative solver options:\n",
      "    https://scikit-learn.org/stable/modules/linear_model.html#logistic-regression\n",
      "  extra_warning_msg=_LOGISTIC_SOLVER_CONVERGENCE_MSG)\n"
     ]
    },
    {
     "name": "stdout",
     "output_type": "stream",
     "text": [
      "[CV]  lr__penalty=none, lr__solver=lbfgs, tfidf__use_idf=True, total=  10.9s\n",
      "[CV] lr__penalty=none, lr__solver=lbfgs, tfidf__use_idf=False ........\n"
     ]
    },
    {
     "name": "stderr",
     "output_type": "stream",
     "text": [
      "/Users/brandongreenspan/opt/anaconda3/envs/dsi/lib/python3.7/site-packages/sklearn/linear_model/_logistic.py:940: ConvergenceWarning: lbfgs failed to converge (status=1):\n",
      "STOP: TOTAL NO. of ITERATIONS REACHED LIMIT.\n",
      "\n",
      "Increase the number of iterations (max_iter) or scale the data as shown in:\n",
      "    https://scikit-learn.org/stable/modules/preprocessing.html\n",
      "Please also refer to the documentation for alternative solver options:\n",
      "    https://scikit-learn.org/stable/modules/linear_model.html#logistic-regression\n",
      "  extra_warning_msg=_LOGISTIC_SOLVER_CONVERGENCE_MSG)\n"
     ]
    },
    {
     "name": "stdout",
     "output_type": "stream",
     "text": [
      "[CV]  lr__penalty=none, lr__solver=lbfgs, tfidf__use_idf=False, total=  10.8s\n",
      "[CV] lr__penalty=none, lr__solver=lbfgs, tfidf__use_idf=False ........\n"
     ]
    },
    {
     "name": "stderr",
     "output_type": "stream",
     "text": [
      "/Users/brandongreenspan/opt/anaconda3/envs/dsi/lib/python3.7/site-packages/sklearn/linear_model/_logistic.py:940: ConvergenceWarning: lbfgs failed to converge (status=1):\n",
      "STOP: TOTAL NO. of ITERATIONS REACHED LIMIT.\n",
      "\n",
      "Increase the number of iterations (max_iter) or scale the data as shown in:\n",
      "    https://scikit-learn.org/stable/modules/preprocessing.html\n",
      "Please also refer to the documentation for alternative solver options:\n",
      "    https://scikit-learn.org/stable/modules/linear_model.html#logistic-regression\n",
      "  extra_warning_msg=_LOGISTIC_SOLVER_CONVERGENCE_MSG)\n"
     ]
    },
    {
     "name": "stdout",
     "output_type": "stream",
     "text": [
      "[CV]  lr__penalty=none, lr__solver=lbfgs, tfidf__use_idf=False, total=  11.0s\n",
      "[CV] lr__penalty=none, lr__solver=lbfgs, tfidf__use_idf=False ........\n"
     ]
    },
    {
     "name": "stderr",
     "output_type": "stream",
     "text": [
      "/Users/brandongreenspan/opt/anaconda3/envs/dsi/lib/python3.7/site-packages/sklearn/linear_model/_logistic.py:940: ConvergenceWarning: lbfgs failed to converge (status=1):\n",
      "STOP: TOTAL NO. of ITERATIONS REACHED LIMIT.\n",
      "\n",
      "Increase the number of iterations (max_iter) or scale the data as shown in:\n",
      "    https://scikit-learn.org/stable/modules/preprocessing.html\n",
      "Please also refer to the documentation for alternative solver options:\n",
      "    https://scikit-learn.org/stable/modules/linear_model.html#logistic-regression\n",
      "  extra_warning_msg=_LOGISTIC_SOLVER_CONVERGENCE_MSG)\n"
     ]
    },
    {
     "name": "stdout",
     "output_type": "stream",
     "text": [
      "[CV]  lr__penalty=none, lr__solver=lbfgs, tfidf__use_idf=False, total=  11.4s\n",
      "[CV] lr__penalty=none, lr__solver=none, tfidf__use_idf=True ..........\n"
     ]
    },
    {
     "name": "stderr",
     "output_type": "stream",
     "text": [
      "/Users/brandongreenspan/opt/anaconda3/envs/dsi/lib/python3.7/site-packages/sklearn/model_selection/_validation.py:536: FitFailedWarning: Estimator fit failed. The score on this train-test partition for these parameters will be set to nan. Details: \n",
      "ValueError: Logistic Regression supports only solvers in ['liblinear', 'newton-cg', 'lbfgs', 'sag', 'saga'], got none.\n",
      "\n",
      "  FitFailedWarning)\n"
     ]
    },
    {
     "name": "stdout",
     "output_type": "stream",
     "text": [
      "[CV]  lr__penalty=none, lr__solver=none, tfidf__use_idf=True, total=   3.8s\n",
      "[CV] lr__penalty=none, lr__solver=none, tfidf__use_idf=True ..........\n"
     ]
    },
    {
     "name": "stderr",
     "output_type": "stream",
     "text": [
      "/Users/brandongreenspan/opt/anaconda3/envs/dsi/lib/python3.7/site-packages/sklearn/model_selection/_validation.py:536: FitFailedWarning: Estimator fit failed. The score on this train-test partition for these parameters will be set to nan. Details: \n",
      "ValueError: Logistic Regression supports only solvers in ['liblinear', 'newton-cg', 'lbfgs', 'sag', 'saga'], got none.\n",
      "\n",
      "  FitFailedWarning)\n"
     ]
    },
    {
     "name": "stdout",
     "output_type": "stream",
     "text": [
      "[CV]  lr__penalty=none, lr__solver=none, tfidf__use_idf=True, total=   3.8s\n",
      "[CV] lr__penalty=none, lr__solver=none, tfidf__use_idf=True ..........\n"
     ]
    },
    {
     "name": "stderr",
     "output_type": "stream",
     "text": [
      "/Users/brandongreenspan/opt/anaconda3/envs/dsi/lib/python3.7/site-packages/sklearn/model_selection/_validation.py:536: FitFailedWarning: Estimator fit failed. The score on this train-test partition for these parameters will be set to nan. Details: \n",
      "ValueError: Logistic Regression supports only solvers in ['liblinear', 'newton-cg', 'lbfgs', 'sag', 'saga'], got none.\n",
      "\n",
      "  FitFailedWarning)\n"
     ]
    },
    {
     "name": "stdout",
     "output_type": "stream",
     "text": [
      "[CV]  lr__penalty=none, lr__solver=none, tfidf__use_idf=True, total=   3.2s\n",
      "[CV] lr__penalty=none, lr__solver=none, tfidf__use_idf=False .........\n"
     ]
    },
    {
     "name": "stderr",
     "output_type": "stream",
     "text": [
      "/Users/brandongreenspan/opt/anaconda3/envs/dsi/lib/python3.7/site-packages/sklearn/model_selection/_validation.py:536: FitFailedWarning: Estimator fit failed. The score on this train-test partition for these parameters will be set to nan. Details: \n",
      "ValueError: Logistic Regression supports only solvers in ['liblinear', 'newton-cg', 'lbfgs', 'sag', 'saga'], got none.\n",
      "\n",
      "  FitFailedWarning)\n"
     ]
    },
    {
     "name": "stdout",
     "output_type": "stream",
     "text": [
      "[CV]  lr__penalty=none, lr__solver=none, tfidf__use_idf=False, total=   3.3s\n",
      "[CV] lr__penalty=none, lr__solver=none, tfidf__use_idf=False .........\n"
     ]
    },
    {
     "name": "stderr",
     "output_type": "stream",
     "text": [
      "/Users/brandongreenspan/opt/anaconda3/envs/dsi/lib/python3.7/site-packages/sklearn/model_selection/_validation.py:536: FitFailedWarning: Estimator fit failed. The score on this train-test partition for these parameters will be set to nan. Details: \n",
      "ValueError: Logistic Regression supports only solvers in ['liblinear', 'newton-cg', 'lbfgs', 'sag', 'saga'], got none.\n",
      "\n",
      "  FitFailedWarning)\n"
     ]
    },
    {
     "name": "stdout",
     "output_type": "stream",
     "text": [
      "[CV]  lr__penalty=none, lr__solver=none, tfidf__use_idf=False, total=   3.5s\n",
      "[CV] lr__penalty=none, lr__solver=none, tfidf__use_idf=False .........\n"
     ]
    },
    {
     "name": "stderr",
     "output_type": "stream",
     "text": [
      "/Users/brandongreenspan/opt/anaconda3/envs/dsi/lib/python3.7/site-packages/sklearn/model_selection/_validation.py:536: FitFailedWarning: Estimator fit failed. The score on this train-test partition for these parameters will be set to nan. Details: \n",
      "ValueError: Logistic Regression supports only solvers in ['liblinear', 'newton-cg', 'lbfgs', 'sag', 'saga'], got none.\n",
      "\n",
      "  FitFailedWarning)\n",
      "[Parallel(n_jobs=1)]: Done  54 out of  54 | elapsed:  5.5min finished\n"
     ]
    },
    {
     "name": "stdout",
     "output_type": "stream",
     "text": [
      "[CV]  lr__penalty=none, lr__solver=none, tfidf__use_idf=False, total=   5.0s\n"
     ]
    },
    {
     "name": "stderr",
     "output_type": "stream",
     "text": [
      "/Users/brandongreenspan/opt/anaconda3/envs/dsi/lib/python3.7/site-packages/sklearn/linear_model/_logistic.py:940: ConvergenceWarning: lbfgs failed to converge (status=1):\n",
      "STOP: TOTAL NO. of ITERATIONS REACHED LIMIT.\n",
      "\n",
      "Increase the number of iterations (max_iter) or scale the data as shown in:\n",
      "    https://scikit-learn.org/stable/modules/preprocessing.html\n",
      "Please also refer to the documentation for alternative solver options:\n",
      "    https://scikit-learn.org/stable/modules/linear_model.html#logistic-regression\n",
      "  extra_warning_msg=_LOGISTIC_SOLVER_CONVERGENCE_MSG)\n"
     ]
    }
   ],
   "source": [
    "logreg1 = gs.fit(X_train,y_train)"
   ]
  },
  {
   "cell_type": "code",
   "execution_count": 104,
   "metadata": {},
   "outputs": [
    {
     "name": "stdout",
     "output_type": "stream",
     "text": [
      "Training accuracy score for our Logistic Regression model is: 0.6969.\n",
      "Testing accuracy score for our Logistic Regression model is: 0.6936.\n"
     ]
    }
   ],
   "source": [
    "print(f'Training accuracy score for our Logistic Regression model is: {round(logreg1.score(X_train, y_train),4)}.')\n",
    "print(f'Testing accuracy score for our Logistic Regression model is: {round(logreg1.score(X_test, y_test),4)}.')"
   ]
  },
  {
   "cell_type": "code",
   "execution_count": 105,
   "metadata": {},
   "outputs": [
    {
     "data": {
      "text/plain": [
       "{'lr__penalty': 'l2', 'lr__solver': 'lbfgs', 'tfidf__use_idf': True}"
      ]
     },
     "execution_count": 105,
     "metadata": {},
     "output_type": "execute_result"
    }
   ],
   "source": [
    "logreg1.best_params_"
   ]
  },
  {
   "cell_type": "code",
   "execution_count": 67,
   "metadata": {},
   "outputs": [
    {
     "name": "stderr",
     "output_type": "stream",
     "text": [
      "/Users/brandongreenspan/opt/anaconda3/envs/dsi/lib/python3.7/site-packages/sklearn/linear_model/_logistic.py:940: ConvergenceWarning: lbfgs failed to converge (status=1):\n",
      "STOP: TOTAL NO. of ITERATIONS REACHED LIMIT.\n",
      "\n",
      "Increase the number of iterations (max_iter) or scale the data as shown in:\n",
      "    https://scikit-learn.org/stable/modules/preprocessing.html\n",
      "Please also refer to the documentation for alternative solver options:\n",
      "    https://scikit-learn.org/stable/modules/linear_model.html#logistic-regression\n",
      "  extra_warning_msg=_LOGISTIC_SOLVER_CONVERGENCE_MSG)\n",
      "/Users/brandongreenspan/opt/anaconda3/envs/dsi/lib/python3.7/site-packages/sklearn/linear_model/_logistic.py:940: ConvergenceWarning: lbfgs failed to converge (status=1):\n",
      "STOP: TOTAL NO. of ITERATIONS REACHED LIMIT.\n",
      "\n",
      "Increase the number of iterations (max_iter) or scale the data as shown in:\n",
      "    https://scikit-learn.org/stable/modules/preprocessing.html\n",
      "Please also refer to the documentation for alternative solver options:\n",
      "    https://scikit-learn.org/stable/modules/linear_model.html#logistic-regression\n",
      "  extra_warning_msg=_LOGISTIC_SOLVER_CONVERGENCE_MSG)\n",
      "/Users/brandongreenspan/opt/anaconda3/envs/dsi/lib/python3.7/site-packages/sklearn/linear_model/_logistic.py:940: ConvergenceWarning: lbfgs failed to converge (status=1):\n",
      "STOP: TOTAL NO. of ITERATIONS REACHED LIMIT.\n",
      "\n",
      "Increase the number of iterations (max_iter) or scale the data as shown in:\n",
      "    https://scikit-learn.org/stable/modules/preprocessing.html\n",
      "Please also refer to the documentation for alternative solver options:\n",
      "    https://scikit-learn.org/stable/modules/linear_model.html#logistic-regression\n",
      "  extra_warning_msg=_LOGISTIC_SOLVER_CONVERGENCE_MSG)\n",
      "/Users/brandongreenspan/opt/anaconda3/envs/dsi/lib/python3.7/site-packages/sklearn/linear_model/_logistic.py:940: ConvergenceWarning: lbfgs failed to converge (status=1):\n",
      "STOP: TOTAL NO. of ITERATIONS REACHED LIMIT.\n",
      "\n",
      "Increase the number of iterations (max_iter) or scale the data as shown in:\n",
      "    https://scikit-learn.org/stable/modules/preprocessing.html\n",
      "Please also refer to the documentation for alternative solver options:\n",
      "    https://scikit-learn.org/stable/modules/linear_model.html#logistic-regression\n",
      "  extra_warning_msg=_LOGISTIC_SOLVER_CONVERGENCE_MSG)\n",
      "/Users/brandongreenspan/opt/anaconda3/envs/dsi/lib/python3.7/site-packages/sklearn/linear_model/_logistic.py:940: ConvergenceWarning: lbfgs failed to converge (status=1):\n",
      "STOP: TOTAL NO. of ITERATIONS REACHED LIMIT.\n",
      "\n",
      "Increase the number of iterations (max_iter) or scale the data as shown in:\n",
      "    https://scikit-learn.org/stable/modules/preprocessing.html\n",
      "Please also refer to the documentation for alternative solver options:\n",
      "    https://scikit-learn.org/stable/modules/linear_model.html#logistic-regression\n",
      "  extra_warning_msg=_LOGISTIC_SOLVER_CONVERGENCE_MSG)\n"
     ]
    },
    {
     "data": {
      "text/plain": [
       "0.6818294485612014"
      ]
     },
     "execution_count": 67,
     "metadata": {},
     "output_type": "execute_result"
    }
   ],
   "source": [
    "cross_val_score(logreg1.best_estimator_, X, y).mean()"
   ]
  },
  {
   "cell_type": "markdown",
   "metadata": {},
   "source": [
    "# MNB"
   ]
  },
  {
   "cell_type": "code",
   "execution_count": 127,
   "metadata": {},
   "outputs": [],
   "source": [
    "pipe = Pipeline([ # instantiate\n",
    "    ('tfidf', TfidfTransformer()),\n",
    "    ('mnb', MultinomialNB())\n",
    "])\n",
    "\n",
    "# set hyperparameters\n",
    "\n",
    "pipe_params = {\n",
    "    'tfidf__use_idf'  : [True, False],\n",
    "    'mnb__fit_prior' : [True, False],          \n",
    "    'mnb__alpha': [2,3,4] #tested out other alpha values and got it narrowed to this\n",
    "              }\n",
    "\n",
    "gsnb = GridSearchCV(pipe,\n",
    "                 param_grid = pipe_params,\n",
    "                 cv = 5,\n",
    "                 scoring = 'accuracy',\n",
    "                 verbose = 2 # let's get progress updates in real time this time\n",
    "                   )"
   ]
  },
  {
   "cell_type": "code",
   "execution_count": 128,
   "metadata": {},
   "outputs": [
    {
     "data": {
      "text/plain": [
       "(21335, 2103)"
      ]
     },
     "execution_count": 128,
     "metadata": {},
     "output_type": "execute_result"
    }
   ],
   "source": [
    "X_train.shape"
   ]
  },
  {
   "cell_type": "code",
   "execution_count": 129,
   "metadata": {},
   "outputs": [
    {
     "name": "stdout",
     "output_type": "stream",
     "text": [
      "Fitting 5 folds for each of 12 candidates, totalling 60 fits\n",
      "[CV] mnb__alpha=2, mnb__fit_prior=True, tfidf__use_idf=True ..........\n"
     ]
    },
    {
     "name": "stderr",
     "output_type": "stream",
     "text": [
      "[Parallel(n_jobs=1)]: Using backend SequentialBackend with 1 concurrent workers.\n"
     ]
    },
    {
     "name": "stdout",
     "output_type": "stream",
     "text": [
      "[CV]  mnb__alpha=2, mnb__fit_prior=True, tfidf__use_idf=True, total=   6.2s\n",
      "[CV] mnb__alpha=2, mnb__fit_prior=True, tfidf__use_idf=True ..........\n"
     ]
    },
    {
     "name": "stderr",
     "output_type": "stream",
     "text": [
      "[Parallel(n_jobs=1)]: Done   1 out of   1 | elapsed:    6.2s remaining:    0.0s\n"
     ]
    },
    {
     "name": "stdout",
     "output_type": "stream",
     "text": [
      "[CV]  mnb__alpha=2, mnb__fit_prior=True, tfidf__use_idf=True, total=   4.1s\n",
      "[CV] mnb__alpha=2, mnb__fit_prior=True, tfidf__use_idf=True ..........\n",
      "[CV]  mnb__alpha=2, mnb__fit_prior=True, tfidf__use_idf=True, total=   4.2s\n",
      "[CV] mnb__alpha=2, mnb__fit_prior=True, tfidf__use_idf=True ..........\n",
      "[CV]  mnb__alpha=2, mnb__fit_prior=True, tfidf__use_idf=True, total=   4.1s\n",
      "[CV] mnb__alpha=2, mnb__fit_prior=True, tfidf__use_idf=True ..........\n",
      "[CV]  mnb__alpha=2, mnb__fit_prior=True, tfidf__use_idf=True, total=   4.1s\n",
      "[CV] mnb__alpha=2, mnb__fit_prior=True, tfidf__use_idf=False .........\n",
      "[CV]  mnb__alpha=2, mnb__fit_prior=True, tfidf__use_idf=False, total=   4.0s\n",
      "[CV] mnb__alpha=2, mnb__fit_prior=True, tfidf__use_idf=False .........\n",
      "[CV]  mnb__alpha=2, mnb__fit_prior=True, tfidf__use_idf=False, total=   4.9s\n",
      "[CV] mnb__alpha=2, mnb__fit_prior=True, tfidf__use_idf=False .........\n",
      "[CV]  mnb__alpha=2, mnb__fit_prior=True, tfidf__use_idf=False, total=   6.4s\n",
      "[CV] mnb__alpha=2, mnb__fit_prior=True, tfidf__use_idf=False .........\n",
      "[CV]  mnb__alpha=2, mnb__fit_prior=True, tfidf__use_idf=False, total=   4.4s\n",
      "[CV] mnb__alpha=2, mnb__fit_prior=True, tfidf__use_idf=False .........\n",
      "[CV]  mnb__alpha=2, mnb__fit_prior=True, tfidf__use_idf=False, total=   4.1s\n",
      "[CV] mnb__alpha=2, mnb__fit_prior=False, tfidf__use_idf=True .........\n",
      "[CV]  mnb__alpha=2, mnb__fit_prior=False, tfidf__use_idf=True, total=   4.3s\n",
      "[CV] mnb__alpha=2, mnb__fit_prior=False, tfidf__use_idf=True .........\n",
      "[CV]  mnb__alpha=2, mnb__fit_prior=False, tfidf__use_idf=True, total=   4.4s\n",
      "[CV] mnb__alpha=2, mnb__fit_prior=False, tfidf__use_idf=True .........\n",
      "[CV]  mnb__alpha=2, mnb__fit_prior=False, tfidf__use_idf=True, total=   4.2s\n",
      "[CV] mnb__alpha=2, mnb__fit_prior=False, tfidf__use_idf=True .........\n",
      "[CV]  mnb__alpha=2, mnb__fit_prior=False, tfidf__use_idf=True, total=   4.4s\n",
      "[CV] mnb__alpha=2, mnb__fit_prior=False, tfidf__use_idf=True .........\n",
      "[CV]  mnb__alpha=2, mnb__fit_prior=False, tfidf__use_idf=True, total=   4.2s\n",
      "[CV] mnb__alpha=2, mnb__fit_prior=False, tfidf__use_idf=False ........\n",
      "[CV]  mnb__alpha=2, mnb__fit_prior=False, tfidf__use_idf=False, total=   4.1s\n",
      "[CV] mnb__alpha=2, mnb__fit_prior=False, tfidf__use_idf=False ........\n",
      "[CV]  mnb__alpha=2, mnb__fit_prior=False, tfidf__use_idf=False, total=   4.3s\n",
      "[CV] mnb__alpha=2, mnb__fit_prior=False, tfidf__use_idf=False ........\n",
      "[CV]  mnb__alpha=2, mnb__fit_prior=False, tfidf__use_idf=False, total=   4.4s\n",
      "[CV] mnb__alpha=2, mnb__fit_prior=False, tfidf__use_idf=False ........\n",
      "[CV]  mnb__alpha=2, mnb__fit_prior=False, tfidf__use_idf=False, total=   4.2s\n",
      "[CV] mnb__alpha=2, mnb__fit_prior=False, tfidf__use_idf=False ........\n",
      "[CV]  mnb__alpha=2, mnb__fit_prior=False, tfidf__use_idf=False, total=   4.3s\n",
      "[CV] mnb__alpha=3, mnb__fit_prior=True, tfidf__use_idf=True ..........\n",
      "[CV]  mnb__alpha=3, mnb__fit_prior=True, tfidf__use_idf=True, total=   4.4s\n",
      "[CV] mnb__alpha=3, mnb__fit_prior=True, tfidf__use_idf=True ..........\n",
      "[CV]  mnb__alpha=3, mnb__fit_prior=True, tfidf__use_idf=True, total=   4.3s\n",
      "[CV] mnb__alpha=3, mnb__fit_prior=True, tfidf__use_idf=True ..........\n",
      "[CV]  mnb__alpha=3, mnb__fit_prior=True, tfidf__use_idf=True, total=   4.7s\n",
      "[CV] mnb__alpha=3, mnb__fit_prior=True, tfidf__use_idf=True ..........\n",
      "[CV]  mnb__alpha=3, mnb__fit_prior=True, tfidf__use_idf=True, total=   5.3s\n",
      "[CV] mnb__alpha=3, mnb__fit_prior=True, tfidf__use_idf=True ..........\n",
      "[CV]  mnb__alpha=3, mnb__fit_prior=True, tfidf__use_idf=True, total=   4.2s\n",
      "[CV] mnb__alpha=3, mnb__fit_prior=True, tfidf__use_idf=False .........\n",
      "[CV]  mnb__alpha=3, mnb__fit_prior=True, tfidf__use_idf=False, total=   4.0s\n",
      "[CV] mnb__alpha=3, mnb__fit_prior=True, tfidf__use_idf=False .........\n",
      "[CV]  mnb__alpha=3, mnb__fit_prior=True, tfidf__use_idf=False, total=   4.0s\n",
      "[CV] mnb__alpha=3, mnb__fit_prior=True, tfidf__use_idf=False .........\n",
      "[CV]  mnb__alpha=3, mnb__fit_prior=True, tfidf__use_idf=False, total=   4.0s\n",
      "[CV] mnb__alpha=3, mnb__fit_prior=True, tfidf__use_idf=False .........\n",
      "[CV]  mnb__alpha=3, mnb__fit_prior=True, tfidf__use_idf=False, total=   4.0s\n",
      "[CV] mnb__alpha=3, mnb__fit_prior=True, tfidf__use_idf=False .........\n",
      "[CV]  mnb__alpha=3, mnb__fit_prior=True, tfidf__use_idf=False, total=   4.1s\n",
      "[CV] mnb__alpha=3, mnb__fit_prior=False, tfidf__use_idf=True .........\n",
      "[CV]  mnb__alpha=3, mnb__fit_prior=False, tfidf__use_idf=True, total=   4.1s\n",
      "[CV] mnb__alpha=3, mnb__fit_prior=False, tfidf__use_idf=True .........\n",
      "[CV]  mnb__alpha=3, mnb__fit_prior=False, tfidf__use_idf=True, total=   4.0s\n",
      "[CV] mnb__alpha=3, mnb__fit_prior=False, tfidf__use_idf=True .........\n",
      "[CV]  mnb__alpha=3, mnb__fit_prior=False, tfidf__use_idf=True, total=   4.0s\n",
      "[CV] mnb__alpha=3, mnb__fit_prior=False, tfidf__use_idf=True .........\n",
      "[CV]  mnb__alpha=3, mnb__fit_prior=False, tfidf__use_idf=True, total=   4.1s\n",
      "[CV] mnb__alpha=3, mnb__fit_prior=False, tfidf__use_idf=True .........\n",
      "[CV]  mnb__alpha=3, mnb__fit_prior=False, tfidf__use_idf=True, total=   4.0s\n",
      "[CV] mnb__alpha=3, mnb__fit_prior=False, tfidf__use_idf=False ........\n",
      "[CV]  mnb__alpha=3, mnb__fit_prior=False, tfidf__use_idf=False, total=   4.0s\n",
      "[CV] mnb__alpha=3, mnb__fit_prior=False, tfidf__use_idf=False ........\n",
      "[CV]  mnb__alpha=3, mnb__fit_prior=False, tfidf__use_idf=False, total=   3.9s\n",
      "[CV] mnb__alpha=3, mnb__fit_prior=False, tfidf__use_idf=False ........\n",
      "[CV]  mnb__alpha=3, mnb__fit_prior=False, tfidf__use_idf=False, total=   4.0s\n",
      "[CV] mnb__alpha=3, mnb__fit_prior=False, tfidf__use_idf=False ........\n",
      "[CV]  mnb__alpha=3, mnb__fit_prior=False, tfidf__use_idf=False, total=   4.0s\n",
      "[CV] mnb__alpha=3, mnb__fit_prior=False, tfidf__use_idf=False ........\n",
      "[CV]  mnb__alpha=3, mnb__fit_prior=False, tfidf__use_idf=False, total=   3.9s\n",
      "[CV] mnb__alpha=4, mnb__fit_prior=True, tfidf__use_idf=True ..........\n",
      "[CV]  mnb__alpha=4, mnb__fit_prior=True, tfidf__use_idf=True, total=   4.1s\n",
      "[CV] mnb__alpha=4, mnb__fit_prior=True, tfidf__use_idf=True ..........\n",
      "[CV]  mnb__alpha=4, mnb__fit_prior=True, tfidf__use_idf=True, total=   4.1s\n",
      "[CV] mnb__alpha=4, mnb__fit_prior=True, tfidf__use_idf=True ..........\n",
      "[CV]  mnb__alpha=4, mnb__fit_prior=True, tfidf__use_idf=True, total=   4.1s\n",
      "[CV] mnb__alpha=4, mnb__fit_prior=True, tfidf__use_idf=True ..........\n",
      "[CV]  mnb__alpha=4, mnb__fit_prior=True, tfidf__use_idf=True, total=   4.4s\n",
      "[CV] mnb__alpha=4, mnb__fit_prior=True, tfidf__use_idf=True ..........\n",
      "[CV]  mnb__alpha=4, mnb__fit_prior=True, tfidf__use_idf=True, total=   4.4s\n",
      "[CV] mnb__alpha=4, mnb__fit_prior=True, tfidf__use_idf=False .........\n",
      "[CV]  mnb__alpha=4, mnb__fit_prior=True, tfidf__use_idf=False, total=   4.2s\n",
      "[CV] mnb__alpha=4, mnb__fit_prior=True, tfidf__use_idf=False .........\n",
      "[CV]  mnb__alpha=4, mnb__fit_prior=True, tfidf__use_idf=False, total=   4.2s\n",
      "[CV] mnb__alpha=4, mnb__fit_prior=True, tfidf__use_idf=False .........\n",
      "[CV]  mnb__alpha=4, mnb__fit_prior=True, tfidf__use_idf=False, total=   4.1s\n",
      "[CV] mnb__alpha=4, mnb__fit_prior=True, tfidf__use_idf=False .........\n",
      "[CV]  mnb__alpha=4, mnb__fit_prior=True, tfidf__use_idf=False, total=   4.1s\n",
      "[CV] mnb__alpha=4, mnb__fit_prior=True, tfidf__use_idf=False .........\n",
      "[CV]  mnb__alpha=4, mnb__fit_prior=True, tfidf__use_idf=False, total=   4.1s\n",
      "[CV] mnb__alpha=4, mnb__fit_prior=False, tfidf__use_idf=True .........\n",
      "[CV]  mnb__alpha=4, mnb__fit_prior=False, tfidf__use_idf=True, total=   4.9s\n",
      "[CV] mnb__alpha=4, mnb__fit_prior=False, tfidf__use_idf=True .........\n",
      "[CV]  mnb__alpha=4, mnb__fit_prior=False, tfidf__use_idf=True, total=   4.2s\n",
      "[CV] mnb__alpha=4, mnb__fit_prior=False, tfidf__use_idf=True .........\n",
      "[CV]  mnb__alpha=4, mnb__fit_prior=False, tfidf__use_idf=True, total=   4.1s\n",
      "[CV] mnb__alpha=4, mnb__fit_prior=False, tfidf__use_idf=True .........\n",
      "[CV]  mnb__alpha=4, mnb__fit_prior=False, tfidf__use_idf=True, total=   4.4s\n",
      "[CV] mnb__alpha=4, mnb__fit_prior=False, tfidf__use_idf=True .........\n",
      "[CV]  mnb__alpha=4, mnb__fit_prior=False, tfidf__use_idf=True, total=   4.2s\n",
      "[CV] mnb__alpha=4, mnb__fit_prior=False, tfidf__use_idf=False ........\n",
      "[CV]  mnb__alpha=4, mnb__fit_prior=False, tfidf__use_idf=False, total=   3.9s\n",
      "[CV] mnb__alpha=4, mnb__fit_prior=False, tfidf__use_idf=False ........\n",
      "[CV]  mnb__alpha=4, mnb__fit_prior=False, tfidf__use_idf=False, total=   4.6s\n",
      "[CV] mnb__alpha=4, mnb__fit_prior=False, tfidf__use_idf=False ........\n"
     ]
    },
    {
     "name": "stdout",
     "output_type": "stream",
     "text": [
      "[CV]  mnb__alpha=4, mnb__fit_prior=False, tfidf__use_idf=False, total=   5.0s\n",
      "[CV] mnb__alpha=4, mnb__fit_prior=False, tfidf__use_idf=False ........\n",
      "[CV]  mnb__alpha=4, mnb__fit_prior=False, tfidf__use_idf=False, total=   4.2s\n",
      "[CV] mnb__alpha=4, mnb__fit_prior=False, tfidf__use_idf=False ........\n",
      "[CV]  mnb__alpha=4, mnb__fit_prior=False, tfidf__use_idf=False, total=   4.5s\n"
     ]
    },
    {
     "name": "stderr",
     "output_type": "stream",
     "text": [
      "[Parallel(n_jobs=1)]: Done  60 out of  60 | elapsed:  4.3min finished\n"
     ]
    }
   ],
   "source": [
    "mnb_fit = gsnb.fit(X_train, y_train)"
   ]
  },
  {
   "cell_type": "code",
   "execution_count": 130,
   "metadata": {},
   "outputs": [
    {
     "data": {
      "text/plain": [
       "{'mnb__alpha': 4, 'mnb__fit_prior': False, 'tfidf__use_idf': False}"
      ]
     },
     "execution_count": 130,
     "metadata": {},
     "output_type": "execute_result"
    }
   ],
   "source": [
    "mnb_fit.best_params_"
   ]
  },
  {
   "cell_type": "code",
   "execution_count": 131,
   "metadata": {},
   "outputs": [
    {
     "data": {
      "text/plain": [
       "0.6820248418092336"
      ]
     },
     "execution_count": 131,
     "metadata": {},
     "output_type": "execute_result"
    }
   ],
   "source": [
    "mnb_fit.score(X_train, y_train)"
   ]
  },
  {
   "cell_type": "code",
   "execution_count": 132,
   "metadata": {},
   "outputs": [
    {
     "data": {
      "text/plain": [
       "0.6850393700787402"
      ]
     },
     "execution_count": 132,
     "metadata": {},
     "output_type": "execute_result"
    }
   ],
   "source": [
    "mnb_fit.score(X_test, y_test)"
   ]
  },
  {
   "cell_type": "code",
   "execution_count": 133,
   "metadata": {},
   "outputs": [
    {
     "data": {
      "text/plain": [
       "0.6810210744936501"
      ]
     },
     "execution_count": 133,
     "metadata": {},
     "output_type": "execute_result"
    }
   ],
   "source": [
    "cross_val_score(mnb_fit.best_estimator_, X, y).mean()"
   ]
  },
  {
   "cell_type": "markdown",
   "metadata": {},
   "source": [
    "# Neural Network"
   ]
  },
  {
   "cell_type": "code",
   "execution_count": 75,
   "metadata": {},
   "outputs": [],
   "source": [
    "y.replace({\n",
    "    'A' : 4,\n",
    "    'B' : 3,\n",
    "    'C' : 2,\n",
    "    'D' : 1,\n",
    "    'F' : 0\n",
    "}, inplace=True)"
   ]
  },
  {
   "cell_type": "code",
   "execution_count": 76,
   "metadata": {},
   "outputs": [],
   "source": [
    "y = to_categorical(y)"
   ]
  },
  {
   "cell_type": "code",
   "execution_count": 77,
   "metadata": {},
   "outputs": [],
   "source": [
    "X_train, X_test, y_train, y_test = train_test_split(X, y, random_state=63)"
   ]
  },
  {
   "cell_type": "code",
   "execution_count": 91,
   "metadata": {},
   "outputs": [],
   "source": [
    "ss = StandardScaler()\n",
    "X_train_sc = ss.fit_transform(X_train)\n",
    "X_test_sc = ss.transform(X_test)"
   ]
  },
  {
   "cell_type": "code",
   "execution_count": 95,
   "metadata": {},
   "outputs": [],
   "source": [
    "model = Sequential()\n",
    "model.add(Dense(1024, \n",
    "                input_shape=(2103,),\n",
    "                activation='relu'))\n",
    "model.add(Dense(512,\n",
    "                activation='relu'))\n",
    "model.add(Dense(5, activation='softmax'))"
   ]
  },
  {
   "cell_type": "code",
   "execution_count": 96,
   "metadata": {},
   "outputs": [],
   "source": [
    "model.compile(loss='categorical_crossentropy', optimizer='adam', metrics=['accuracy'])"
   ]
  },
  {
   "cell_type": "code",
   "execution_count": 97,
   "metadata": {},
   "outputs": [
    {
     "name": "stdout",
     "output_type": "stream",
     "text": [
      "Epoch 1/10\n",
      "21/21 [==============================] - 4s 186ms/step - loss: 2.5696 - accuracy: 0.6157 - val_loss: 0.9541 - val_accuracy: 0.6298\n",
      "Epoch 2/10\n",
      "21/21 [==============================] - 4s 193ms/step - loss: 0.8069 - accuracy: 0.6824 - val_loss: 0.7543 - val_accuracy: 0.6689\n",
      "Epoch 3/10\n",
      "21/21 [==============================] - 5s 227ms/step - loss: 0.7054 - accuracy: 0.6974 - val_loss: 0.7089 - val_accuracy: 0.6873\n",
      "Epoch 4/10\n",
      "21/21 [==============================] - 5s 232ms/step - loss: 0.6901 - accuracy: 0.6985 - val_loss: 0.7050 - val_accuracy: 0.6873\n",
      "Epoch 5/10\n",
      "21/21 [==============================] - 4s 168ms/step - loss: 0.6696 - accuracy: 0.7091 - val_loss: 0.6975 - val_accuracy: 0.6890\n",
      "Epoch 6/10\n",
      "21/21 [==============================] - 4s 211ms/step - loss: 0.6574 - accuracy: 0.7173 - val_loss: 0.7040 - val_accuracy: 0.6867\n",
      "Epoch 7/10\n",
      "21/21 [==============================] - 5s 259ms/step - loss: 0.6485 - accuracy: 0.7191 - val_loss: 0.7171 - val_accuracy: 0.6781\n",
      "Epoch 8/10\n",
      "21/21 [==============================] - 5s 242ms/step - loss: 0.6374 - accuracy: 0.7252 - val_loss: 0.7426 - val_accuracy: 0.6555\n",
      "Epoch 9/10\n",
      "21/21 [==============================] - 6s 270ms/step - loss: 0.6355 - accuracy: 0.7248 - val_loss: 0.7316 - val_accuracy: 0.6717\n",
      "Epoch 10/10\n",
      "21/21 [==============================] - 4s 208ms/step - loss: 0.6166 - accuracy: 0.7363 - val_loss: 0.7206 - val_accuracy: 0.6825\n"
     ]
    }
   ],
   "source": [
    "history = model.fit(X_train, y_train, validation_data=(X_test, y_test),\n",
    "                    epochs=10, batch_size=1024)"
   ]
  },
  {
   "cell_type": "code",
   "execution_count": null,
   "metadata": {},
   "outputs": [],
   "source": []
  },
  {
   "cell_type": "code",
   "execution_count": null,
   "metadata": {},
   "outputs": [],
   "source": []
  },
  {
   "cell_type": "code",
   "execution_count": 82,
   "metadata": {},
   "outputs": [],
   "source": [
    "# Filter on follow-up only\n",
    "# Match them with their routine\n",
    "# put them side by side\n",
    "\n",
    "# add success metric and models to problem statement\n",
    "# finish EDA"
   ]
  },
  {
   "cell_type": "code",
   "execution_count": 83,
   "metadata": {},
   "outputs": [],
   "source": [
    "# set up target column (essentially a lag of -1, added a new column)\n",
    "# X is everything from the previous visit\n",
    "# y is the future score"
   ]
  }
 ],
 "metadata": {
  "kernelspec": {
   "display_name": "Python 3",
   "language": "python",
   "name": "python3"
  },
  "language_info": {
   "codemirror_mode": {
    "name": "ipython",
    "version": 3
   },
   "file_extension": ".py",
   "mimetype": "text/x-python",
   "name": "python",
   "nbconvert_exporter": "python",
   "pygments_lexer": "ipython3",
   "version": "3.7.6"
  }
 },
 "nbformat": 4,
 "nbformat_minor": 4
}
